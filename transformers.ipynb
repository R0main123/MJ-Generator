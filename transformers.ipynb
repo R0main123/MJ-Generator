{
 "cells": [
  {
   "cell_type": "code",
   "id": "initial_id",
   "metadata": {
    "collapsed": true
   },
   "source": [
    "import torch.optim as optim\n",
    "import re\n",
    "from tokenizers import models, pre_tokenizers, trainers, Tokenizer\n",
    "import os\n",
    "import torch.nn as nn\n",
    "import torch\n",
    "from torch.utils.data import DataLoader\n",
    "from torch.nn.utils.rnn import pad_sequence\n",
    "import torch.nn.functional as F\n",
    "from torch.utils.data import Dataset\n",
    "from tensorflow.keras.preprocessing.text import Tokenizer"
   ],
   "outputs": [],
   "execution_count": null
  },
  {
   "metadata": {},
   "cell_type": "code",
   "source": [
    "\n",
    "\n",
    "def clean_text(text):\n",
    "    text = text.lower()\n",
    "    text = re.sub(r'[^a-z0-9\\s.,!?;:\\'\"]+', '', text)\n",
    "    return text\n",
    "\n",
    "couplets_songs = os.listdir('data/Verse')\n",
    "couplets_lyrics = []\n",
    "\n",
    "couplets_files = [os.path.join(\"data/Verse\", song) for song in couplets_songs]\n",
    "\n",
    "if \"data/Verse/.DS_Store\" in couplets_files:\n",
    "    couplets_files.remove(\"data/Verse/.DS_Store\")\n",
    "for file in couplets_files:\n",
    "    with open(file, 'r') as f:\n",
    "        for line in f.readlines():\n",
    "            if len(\" \".join(line.split())) > 0:\n",
    "                couplets_lyrics.append(\" \".join(line.split()))"
   ],
   "id": "1ebae4e1df71301",
   "outputs": [],
   "execution_count": null
  },
  {
   "metadata": {},
   "cell_type": "code",
   "source": [
    "couplets_lens = [len(line.split()) for line in couplets_lyrics]\n",
    "couplets_lens.sort()\n",
    "print(couplets_lens[0], couplets_lens[-1])"
   ],
   "id": "e7333beb8203145a",
   "outputs": [],
   "execution_count": null
  },
  {
   "metadata": {},
   "cell_type": "code",
   "source": [
    "while '' in couplets_lyrics:\n",
    "    couplets_lyrics.remove('')"
   ],
   "id": "6da09e0a17b962e1",
   "outputs": [],
   "execution_count": null
  },
  {
   "metadata": {},
   "cell_type": "code",
   "source": [
    "couplets_lens = [len(line.split()) for line in couplets_lyrics]\n",
    "couplets_lens.sort()\n",
    "for line in couplets_lyrics:\n",
    "    line = clean_text(line)\n",
    "print(couplets_lens[0], couplets_lens[-1])"
   ],
   "id": "da228d84788de37d",
   "outputs": [],
   "execution_count": null
  },
  {
   "metadata": {},
   "cell_type": "code",
   "source": [
    "with open(\"couplets_lyrics.txt\", \"w\", encoding=\"utf-8\") as f:\n",
    "    for line in couplets_lyrics:\n",
    "        f.write(line.strip() + \"\\n\")"
   ],
   "id": "26f699c2b3dc593e",
   "outputs": [],
   "execution_count": null
  },
  {
   "metadata": {},
   "cell_type": "code",
   "source": [
    "from tokenizers import models, pre_tokenizers, trainers, Tokenizer\n",
    "\n",
    "bpe_model = models.BPE(unk_token=\"<unk>\")\n",
    "\n",
    "trainer = trainers.BpeTrainer(\n",
    "    vocab_size=8000,\n",
    "    special_tokens=[\"<pad>\", \"<unk>\", \"<bos>\", \"<eos>\"]\n",
    ")\n",
    "\n",
    "tokenizer = Tokenizer(bpe_model)\n",
    "tokenizer.pre_tokenizer = pre_tokenizers.Whitespace()\n",
    "\n",
    "tokenizer.train([\"couplets_lyrics.txt\"], trainer)\n",
    "\n",
    "tokenizer.save(\"tokenizer.json\")"
   ],
   "id": "76a3263a0160cdbe",
   "outputs": [],
   "execution_count": null
  },
  {
   "metadata": {},
   "cell_type": "code",
   "source": "tokenizer = Tokenizer.from_file(\"tokenizer.json\")",
   "id": "b2410639509bf556",
   "outputs": [],
   "execution_count": null
  },
  {
   "metadata": {},
   "cell_type": "code",
   "source": [
    "def preprocess_line(line):\n",
    "    return f\"<bos> {line.strip()} <eos>\"\n",
    "tokenized_ids = [tokenizer.encode(preprocess_line(line)).ids for line in couplets_lyrics]"
   ],
   "id": "e1b23a4fdc7ffb55",
   "outputs": [],
   "execution_count": null
  },
  {
   "metadata": {},
   "cell_type": "code",
   "source": [
    "\n",
    "tensor_seqs = [torch.tensor(ids) for ids in tokenized_ids]\n",
    "\n",
    "padded_seqs = pad_sequence(tensor_seqs, batch_first=True, padding_value=0)\n",
    "\n",
    "print(padded_seqs.shape)"
   ],
   "id": "33828d1904ed9852",
   "outputs": [],
   "execution_count": null
  },
  {
   "metadata": {},
   "cell_type": "code",
   "source": [
    "import torch\n",
    "import math\n",
    "\n",
    "def get_sinusoidal_positional_encoding(seq_len, d_model):\n",
    "    pos = torch.arange(0, seq_len, dtype=torch.float).unsqueeze(1)\n",
    "    i = torch.arange(0, d_model, 2, dtype=torch.float)\n",
    "    angle_rates = 1 / torch.pow(10000, i / d_model)\n",
    "\n",
    "    pe = torch.zeros(seq_len, d_model)\n",
    "    pe[:, 0::2] = torch.sin(pos * angle_rates)\n",
    "    pe[:, 1::2] = torch.cos(pos * angle_rates)\n",
    "\n",
    "    return pe"
   ],
   "id": "ca09df59c7b3fc72",
   "outputs": [],
   "execution_count": null
  },
  {
   "metadata": {},
   "cell_type": "code",
   "source": "positional_encoding = get_sinusoidal_positional_encoding(seq_len=28, d_model=512)",
   "id": "e6fa6fe2d7577ede",
   "outputs": [],
   "execution_count": null
  },
  {
   "metadata": {},
   "cell_type": "code",
   "source": [
    "vocab_size = 8000\n",
    "embedding_dim = 512\n",
    "token_embedding = nn.Embedding(vocab_size, embedding_dim, padding_idx=0)\n",
    "\n",
    "x = token_embedding(padded_seqs)  # shape : (batch_size, seq_len, embedding_dim)"
   ],
   "id": "a2c7a98285ceab13",
   "outputs": [],
   "execution_count": null
  },
  {
   "metadata": {},
   "cell_type": "code",
   "source": [
    "pe = get_sinusoidal_positional_encoding(seq_len=padded_seqs.shape[1], d_model=embedding_dim)\n",
    "pe = pe.unsqueeze(0).to(x.device)  # shape : (1, seq_len, d_model)"
   ],
   "id": "74ef7d3fae24725c",
   "outputs": [],
   "execution_count": null
  },
  {
   "metadata": {},
   "cell_type": "code",
   "source": "x = x + pe",
   "id": "474f34125a1bd33f",
   "outputs": [],
   "execution_count": null
  },
  {
   "metadata": {},
   "cell_type": "code",
   "source": [
    "examples = []\n",
    "for ids in tokenized_ids:  # chaque ligne tokenisée, ex: [2, 45, 17, 311, 892, 3]\n",
    "    if len(ids) < 2:\n",
    "        continue\n",
    "    input_seq = ids[:-1]\n",
    "    target_seq = ids[1:]\n",
    "    examples.append((input_seq, target_seq))"
   ],
   "id": "a4ffaa4776dadb4b",
   "outputs": [],
   "execution_count": null
  },
  {
   "metadata": {},
   "cell_type": "code",
   "source": [
    "\n",
    "\n",
    "class TextGenerationDataset(Dataset):\n",
    "    def __init__(self, examples, pad_token_id=0):\n",
    "        self.examples = examples\n",
    "        self.pad_token_id = pad_token_id\n",
    "\n",
    "    def __len__(self):\n",
    "        return len(self.examples)\n",
    "\n",
    "    def __getitem__(self, idx):\n",
    "        x, y = self.examples[idx]\n",
    "        return torch.tensor(x), torch.tensor(y)"
   ],
   "id": "bdd507ba3ee4a234",
   "outputs": [],
   "execution_count": null
  },
  {
   "metadata": {},
   "cell_type": "code",
   "source": [
    "\n",
    "\n",
    "def collate_fn(batch):\n",
    "    xs, ys = zip(*batch)\n",
    "    xs = pad_sequence(xs, batch_first=True, padding_value=0)\n",
    "    ys = pad_sequence(ys, batch_first=True, padding_value=0)\n",
    "    return xs, ys"
   ],
   "id": "6f37c58a064d53e5",
   "outputs": [],
   "execution_count": null
  },
  {
   "metadata": {},
   "cell_type": "code",
   "source": [
    "dataset = TextGenerationDataset(examples)\n",
    "dataloader = DataLoader(dataset, batch_size=32, shuffle=True, collate_fn=collate_fn)"
   ],
   "id": "d85d68a92c9d2fe",
   "outputs": [],
   "execution_count": null
  },
  {
   "metadata": {},
   "cell_type": "code",
   "source": "",
   "id": "af8dc6c5b8495a57",
   "outputs": [],
   "execution_count": null
  },
  {
   "metadata": {},
   "cell_type": "code",
   "source": "",
   "id": "36b9d60f2c11db4c",
   "outputs": [],
   "execution_count": null
  },
  {
   "metadata": {},
   "cell_type": "code",
   "source": [
    "\n",
    "\n",
    "class SimpleTransformerModel(nn.Module):\n",
    "    def __init__(self, vocab_size, d_model=128, nhead=4, num_layers=4, dim_feedforward=256, max_len=512, pad_token_id=0):\n",
    "        super().__init__()\n",
    "        self.token_embedding = nn.Embedding(vocab_size, d_model, padding_idx=pad_token_id)\n",
    "        self.pos_embedding = nn.Embedding(max_len, d_model)\n",
    "        self.dropout = nn.Dropout(0.1)\n",
    "\n",
    "        encoder_layer = nn.TransformerEncoderLayer(d_model, nhead, dim_feedforward, dropout=0.1, batch_first=False)\n",
    "        self.transformer = nn.TransformerEncoder(encoder_layer, num_layers)\n",
    "\n",
    "        self.fc_out = nn.Linear(d_model, vocab_size)\n",
    "        self.d_model = d_model\n",
    "        self.pad_token_id = pad_token_id\n",
    "\n",
    "    def forward(self, x_input):\n",
    "        batch_size, seq_len = x_input.size()\n",
    "\n",
    "        positions = torch.arange(x_input.size(1), device=x_input.device)\n",
    "        positions = positions.unsqueeze(0).expand(x_input.size(0), -1)\n",
    "        pos_embed = self.pos_embedding(positions)\n",
    "        x = self.dropout(self.token_embedding(x_input) + pos_embed)\n",
    "\n",
    "        x = x.transpose(0, 1)\n",
    "\n",
    "        mask = nn.Transformer.generate_square_subsequent_mask(seq_len).to(x.device)\n",
    "        src_key_padding_mask = (x_input == self.pad_token_id)\n",
    "\n",
    "        out = self.transformer(x, mask=mask, src_key_padding_mask=src_key_padding_mask)\n",
    "        out = out.transpose(0, 1)\n",
    "\n",
    "        return self.fc_out(out)"
   ],
   "id": "3f0f5b3073f8e18e",
   "outputs": [],
   "execution_count": null
  },
  {
   "metadata": {},
   "cell_type": "code",
   "source": [
    "\n",
    "device = torch.device(\"mps\" if torch.mps.is_available() else \"cpu\")\n",
    "model = SimpleTransformerModel(vocab_size=vocab_size).to(device)\n",
    "pad_token_id = tokenizer.token_to_id(\"<pad>\")\n",
    "criterion = nn.CrossEntropyLoss(ignore_index=pad_token_id)\n",
    "optimizer = optim.Adam(model.parameters(), lr=1e-4)"
   ],
   "id": "eed95e3dd5c1a7ad",
   "outputs": [],
   "execution_count": null
  },
  {
   "metadata": {},
   "cell_type": "code",
   "source": [
    "from tqdm import tqdm\n",
    "\n",
    "num_epochs = 100\n",
    "\n",
    "for epoch in range(num_epochs):\n",
    "    model.train()\n",
    "    total_loss = 0\n",
    "\n",
    "    for x_batch, y_batch in tqdm(dataloader):\n",
    "        x_batch, y_batch = x_batch.to(device), y_batch.to(device)\n",
    "\n",
    "        logits = model(x_batch)\n",
    "\n",
    "        loss = criterion(\n",
    "            logits.view(-1, logits.size(-1)),\n",
    "            y_batch.view(-1)\n",
    "        )\n",
    "\n",
    "        optimizer.zero_grad()\n",
    "        loss.backward()\n",
    "        optimizer.step()\n",
    "\n",
    "        total_loss += loss.item()\n",
    "\n",
    "    print(f\"Epoch {epoch+1}: loss = {total_loss/len(dataloader):.4f}\")"
   ],
   "id": "d7fcfdc3057144ab",
   "outputs": [],
   "execution_count": null
  },
  {
   "metadata": {},
   "cell_type": "code",
   "source": [
    "import torch\n",
    "import torch.nn.functional as F\n",
    "\n",
    "def generate(model, tokenizer, seed_text=\"<bos>\", max_len=50, temperature=1.0, eos_token=\"<eos>\", device=\"cpu\"):\n",
    "    model.eval()\n",
    "\n",
    "    input_ids = tokenizer.encode(seed_text).ids\n",
    "    input_ids = torch.tensor(input_ids, dtype=torch.long).unsqueeze(0).to(device)\n",
    "\n",
    "    generated = input_ids\n",
    "\n",
    "    for _ in range(max_len):\n",
    "        with torch.no_grad():\n",
    "            logits = model(generated)\n",
    "\n",
    "        next_token_logits = logits[:, -1, :] / temperature\n",
    "\n",
    "        probs = F.softmax(next_token_logits, dim=-1)\n",
    "        next_token = torch.multinomial(probs, num_samples=1)\n",
    "\n",
    "        generated = torch.cat((generated, next_token), dim=1)\n",
    "\n",
    "        if next_token.item() == tokenizer.token_to_id(eos_token):\n",
    "            break\n",
    "\n",
    "    result = tokenizer.decode(generated.squeeze().tolist(), skip_special_tokens=True)\n",
    "    return result"
   ],
   "id": "742711140aeba255",
   "outputs": [],
   "execution_count": null
  },
  {
   "metadata": {},
   "cell_type": "code",
   "source": [
    "seed = \"<bos> let's make it\"\n",
    "song = \"let's make it\"\n",
    "for i in range(90):\n",
    "    generated_text = generate(model, tokenizer, seed_text=seed, device=device)\n",
    "    song+=\" \" + generated_text\n",
    "print(song)"
   ],
   "id": "32844aeb0c5f1bb9",
   "outputs": [],
   "execution_count": null
  },
  {
   "metadata": {},
   "cell_type": "code",
   "source": "",
   "id": "900e32435ff540fc",
   "outputs": [],
   "execution_count": null
  },
  {
   "metadata": {},
   "cell_type": "code",
   "source": "",
   "id": "d4002d2c7b2d44bd",
   "outputs": [],
   "execution_count": null
  },
  {
   "metadata": {},
   "cell_type": "code",
   "source": "",
   "id": "12825f882ead2cf8",
   "outputs": [],
   "execution_count": null
  }
 ],
 "metadata": {
  "kernelspec": {
   "display_name": "Python 3",
   "language": "python",
   "name": "python3"
  },
  "language_info": {
   "codemirror_mode": {
    "name": "ipython",
    "version": 2
   },
   "file_extension": ".py",
   "mimetype": "text/x-python",
   "name": "python",
   "nbconvert_exporter": "python",
   "pygments_lexer": "ipython2",
   "version": "2.7.6"
  }
 },
 "nbformat": 4,
 "nbformat_minor": 5
}
