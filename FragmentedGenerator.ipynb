{
 "cells": [
  {
   "cell_type": "code",
   "id": "initial_id",
   "metadata": {
    "collapsed": true,
    "ExecuteTime": {
     "end_time": "2025-05-25T15:14:03.187998Z",
     "start_time": "2025-05-25T15:13:19.473344Z"
    }
   },
   "source": [
    "import os\n",
    "import numpy as np\n",
    "import tensorflow as tf\n",
    "from tensorflow.keras.preprocessing.text import Tokenizer\n",
    "from tensorflow.keras.callbacks import Callback\n",
    "import matplotlib.pyplot as plt\n",
    "from IPython.core.display_functions import clear_output"
   ],
   "outputs": [
    {
     "name": "stderr",
     "output_type": "stream",
     "text": [
      "/Users/romainlaup/Desktop/Perso/Projects/MJ-Generator/venv/lib/python3.9/site-packages/urllib3/__init__.py:35: NotOpenSSLWarning: urllib3 v2 only supports OpenSSL 1.1.1+, currently the 'ssl' module is compiled with 'LibreSSL 2.8.3'. See: https://github.com/urllib3/urllib3/issues/3020\n",
      "  warnings.warn(\n"
     ]
    }
   ],
   "execution_count": 1
  },
  {
   "metadata": {},
   "cell_type": "markdown",
   "source": "# Intros",
   "id": "76f94fa9419f6419"
  },
  {
   "metadata": {
    "ExecuteTime": {
     "end_time": "2024-06-25T11:37:10.213934Z",
     "start_time": "2024-06-25T11:37:10.209415Z"
    }
   },
   "cell_type": "code",
   "source": [
    "intro_songs = os.listdir('Albums/Or Noir 2/Intros')\n",
    "if \".DS_Store\" in intro_songs:\n",
    "    intro_songs.remove(\".DS_Store\")\n",
    "intros_lyrics = []\n",
    "\n",
    "intro_files = [os.path.join(\"Albums/Or Noir 2/Intros\", song) for song in intro_songs]\n",
    "for file in intro_files:\n",
    "    with open(file, 'r') as f:\n",
    "        for line in f.readlines():\n",
    "            if len(line) > 0:\n",
    "                intros_lyrics.append(\" \".join(line.split()))"
   ],
   "id": "f63853d2af60d035",
   "outputs": [],
   "execution_count": 7
  },
  {
   "metadata": {
    "ExecuteTime": {
     "end_time": "2024-06-25T11:37:11.796168Z",
     "start_time": "2024-06-25T11:37:11.793427Z"
    }
   },
   "cell_type": "code",
   "source": "print(intros_lyrics)",
   "id": "a200563d0478c94c",
   "outputs": [
    {
     "name": "stdout",
     "output_type": "stream",
     "text": [
      "['Ouf, ouf, ouf', 'Kaaris', 'Back to the Future']\n"
     ]
    }
   ],
   "execution_count": 8
  },
  {
   "metadata": {
    "ExecuteTime": {
     "end_time": "2024-06-25T11:37:18.032306Z",
     "start_time": "2024-06-25T11:37:18.028667Z"
    }
   },
   "cell_type": "code",
   "source": [
    "intro_lens = [len(line.split()) for line in intros_lyrics]\n",
    "intro_lens.sort()\n",
    "print(intro_lens[0], intro_lens[-1])"
   ],
   "id": "e2ce9d2cd66efc04",
   "outputs": [
    {
     "name": "stdout",
     "output_type": "stream",
     "text": [
      "1 4\n"
     ]
    }
   ],
   "execution_count": 9
  },
  {
   "metadata": {
    "ExecuteTime": {
     "end_time": "2024-06-25T11:37:26.663199Z",
     "start_time": "2024-06-25T11:37:26.660247Z"
    }
   },
   "cell_type": "code",
   "source": [
    "intro_maxlen = max(intro_lens)\n",
    "padding_type = \"pre\""
   ],
   "id": "7916655951f022fd",
   "outputs": [],
   "execution_count": 10
  },
  {
   "metadata": {
    "ExecuteTime": {
     "end_time": "2024-06-25T11:37:32.334698Z",
     "start_time": "2024-06-25T11:37:32.327739Z"
    }
   },
   "cell_type": "code",
   "source": [
    "intro_tokenizer = Tokenizer(oov_token=\"<OOV>\", filters='\"#$%&()*+,/:;<=>?@[\\\\]^_`{|}~\\t\\n')\n",
    "\n",
    "intro_tokenizer.fit_on_texts(intros_lyrics)\n",
    "intro_word_index = intro_tokenizer.word_index\n",
    "print(intro_word_index)\n",
    "intro_input_sequences = []\n",
    "\n",
    "for line in intros_lyrics:\n",
    "    tokenized_line = intro_tokenizer.texts_to_sequences([line])[0]\n",
    "\n",
    "    for token in range(1, len(tokenized_line)):\n",
    "        n_gram_sequence = tokenized_line[:token+1]\n",
    "\n",
    "        intro_input_sequences.append(n_gram_sequence)\n",
    "\n",
    "intro_maxlen = max([len(x) for x in intro_input_sequences])\n",
    "\n",
    "padded_sequences = tf.keras.preprocessing.sequence.pad_sequences(intro_input_sequences, maxlen=intro_maxlen, padding='pre')\n",
    "\n",
    "intro_xs, intro_ys = padded_sequences[:,:-1], tf.keras.utils.to_categorical(padded_sequences[:,-1], num_classes=len(intro_word_index) + 1)"
   ],
   "id": "9ecf18ae3c646e76",
   "outputs": [
    {
     "name": "stdout",
     "output_type": "stream",
     "text": [
      "{'<OOV>': 1, 'ouf': 2, 'kaaris': 3, 'back': 4, 'to': 5, 'the': 6, 'future': 7}\n"
     ]
    }
   ],
   "execution_count": 11
  },
  {
   "metadata": {
    "ExecuteTime": {
     "end_time": "2024-06-25T11:37:53.134229Z",
     "start_time": "2024-06-25T11:37:53.012557Z"
    }
   },
   "cell_type": "code",
   "source": [
    "intro_inputs = tf.keras.layers.Input(shape=(intro_xs.shape[1],))\n",
    "\n",
    "intro_x = tf.keras.layers.Embedding(input_dim=len(intro_word_index) + 1, output_dim=32)(intro_inputs)\n",
    "\n",
    "intro_x = tf.keras.layers.Bidirectional(tf.keras.layers.LSTM(32, return_sequences=True))(intro_x)\n",
    "intro_x = tf.keras.layers.Bidirectional(tf.keras.layers.LSTM(32, return_sequences=True))(intro_x)\n",
    "intro_x = tf.keras.layers.Bidirectional(tf.keras.layers.LSTM(32))(intro_x)\n",
    "intro_outputs = tf.keras.layers.Dense(len(intro_word_index) + 1, activation='softmax')(intro_x)\n",
    "\n",
    "\n",
    "intro_model = tf.keras.models.Model(inputs=intro_inputs, outputs=intro_outputs)\n",
    "intro_model.summary()"
   ],
   "id": "35bb080a098bb25",
   "outputs": [
    {
     "data": {
      "text/plain": [
       "\u001B[1mModel: \"functional_1\"\u001B[0m\n"
      ],
      "text/html": [
       "<pre style=\"white-space:pre;overflow-x:auto;line-height:normal;font-family:Menlo,'DejaVu Sans Mono',consolas,'Courier New',monospace\"><span style=\"font-weight: bold\">Model: \"functional_1\"</span>\n",
       "</pre>\n"
      ]
     },
     "metadata": {},
     "output_type": "display_data"
    },
    {
     "data": {
      "text/plain": [
       "┏━━━━━━━━━━━━━━━━━━━━━━━━━━━━━━━━━┳━━━━━━━━━━━━━━━━━━━━━━━━┳━━━━━━━━━━━━━━━┓\n",
       "┃\u001B[1m \u001B[0m\u001B[1mLayer (type)                   \u001B[0m\u001B[1m \u001B[0m┃\u001B[1m \u001B[0m\u001B[1mOutput Shape          \u001B[0m\u001B[1m \u001B[0m┃\u001B[1m \u001B[0m\u001B[1m      Param #\u001B[0m\u001B[1m \u001B[0m┃\n",
       "┡━━━━━━━━━━━━━━━━━━━━━━━━━━━━━━━━━╇━━━━━━━━━━━━━━━━━━━━━━━━╇━━━━━━━━━━━━━━━┩\n",
       "│ input_layer (\u001B[38;5;33mInputLayer\u001B[0m)        │ (\u001B[38;5;45mNone\u001B[0m, \u001B[38;5;34m3\u001B[0m)              │             \u001B[38;5;34m0\u001B[0m │\n",
       "├─────────────────────────────────┼────────────────────────┼───────────────┤\n",
       "│ embedding (\u001B[38;5;33mEmbedding\u001B[0m)           │ (\u001B[38;5;45mNone\u001B[0m, \u001B[38;5;34m3\u001B[0m, \u001B[38;5;34m32\u001B[0m)          │           \u001B[38;5;34m256\u001B[0m │\n",
       "├─────────────────────────────────┼────────────────────────┼───────────────┤\n",
       "│ bidirectional (\u001B[38;5;33mBidirectional\u001B[0m)   │ (\u001B[38;5;45mNone\u001B[0m, \u001B[38;5;34m3\u001B[0m, \u001B[38;5;34m64\u001B[0m)          │        \u001B[38;5;34m16,640\u001B[0m │\n",
       "├─────────────────────────────────┼────────────────────────┼───────────────┤\n",
       "│ bidirectional_1 (\u001B[38;5;33mBidirectional\u001B[0m) │ (\u001B[38;5;45mNone\u001B[0m, \u001B[38;5;34m3\u001B[0m, \u001B[38;5;34m64\u001B[0m)          │        \u001B[38;5;34m24,832\u001B[0m │\n",
       "├─────────────────────────────────┼────────────────────────┼───────────────┤\n",
       "│ bidirectional_2 (\u001B[38;5;33mBidirectional\u001B[0m) │ (\u001B[38;5;45mNone\u001B[0m, \u001B[38;5;34m64\u001B[0m)             │        \u001B[38;5;34m24,832\u001B[0m │\n",
       "├─────────────────────────────────┼────────────────────────┼───────────────┤\n",
       "│ dense (\u001B[38;5;33mDense\u001B[0m)                   │ (\u001B[38;5;45mNone\u001B[0m, \u001B[38;5;34m8\u001B[0m)              │           \u001B[38;5;34m520\u001B[0m │\n",
       "└─────────────────────────────────┴────────────────────────┴───────────────┘\n"
      ],
      "text/html": [
       "<pre style=\"white-space:pre;overflow-x:auto;line-height:normal;font-family:Menlo,'DejaVu Sans Mono',consolas,'Courier New',monospace\">┏━━━━━━━━━━━━━━━━━━━━━━━━━━━━━━━━━┳━━━━━━━━━━━━━━━━━━━━━━━━┳━━━━━━━━━━━━━━━┓\n",
       "┃<span style=\"font-weight: bold\"> Layer (type)                    </span>┃<span style=\"font-weight: bold\"> Output Shape           </span>┃<span style=\"font-weight: bold\">       Param # </span>┃\n",
       "┡━━━━━━━━━━━━━━━━━━━━━━━━━━━━━━━━━╇━━━━━━━━━━━━━━━━━━━━━━━━╇━━━━━━━━━━━━━━━┩\n",
       "│ input_layer (<span style=\"color: #0087ff; text-decoration-color: #0087ff\">InputLayer</span>)        │ (<span style=\"color: #00d7ff; text-decoration-color: #00d7ff\">None</span>, <span style=\"color: #00af00; text-decoration-color: #00af00\">3</span>)              │             <span style=\"color: #00af00; text-decoration-color: #00af00\">0</span> │\n",
       "├─────────────────────────────────┼────────────────────────┼───────────────┤\n",
       "│ embedding (<span style=\"color: #0087ff; text-decoration-color: #0087ff\">Embedding</span>)           │ (<span style=\"color: #00d7ff; text-decoration-color: #00d7ff\">None</span>, <span style=\"color: #00af00; text-decoration-color: #00af00\">3</span>, <span style=\"color: #00af00; text-decoration-color: #00af00\">32</span>)          │           <span style=\"color: #00af00; text-decoration-color: #00af00\">256</span> │\n",
       "├─────────────────────────────────┼────────────────────────┼───────────────┤\n",
       "│ bidirectional (<span style=\"color: #0087ff; text-decoration-color: #0087ff\">Bidirectional</span>)   │ (<span style=\"color: #00d7ff; text-decoration-color: #00d7ff\">None</span>, <span style=\"color: #00af00; text-decoration-color: #00af00\">3</span>, <span style=\"color: #00af00; text-decoration-color: #00af00\">64</span>)          │        <span style=\"color: #00af00; text-decoration-color: #00af00\">16,640</span> │\n",
       "├─────────────────────────────────┼────────────────────────┼───────────────┤\n",
       "│ bidirectional_1 (<span style=\"color: #0087ff; text-decoration-color: #0087ff\">Bidirectional</span>) │ (<span style=\"color: #00d7ff; text-decoration-color: #00d7ff\">None</span>, <span style=\"color: #00af00; text-decoration-color: #00af00\">3</span>, <span style=\"color: #00af00; text-decoration-color: #00af00\">64</span>)          │        <span style=\"color: #00af00; text-decoration-color: #00af00\">24,832</span> │\n",
       "├─────────────────────────────────┼────────────────────────┼───────────────┤\n",
       "│ bidirectional_2 (<span style=\"color: #0087ff; text-decoration-color: #0087ff\">Bidirectional</span>) │ (<span style=\"color: #00d7ff; text-decoration-color: #00d7ff\">None</span>, <span style=\"color: #00af00; text-decoration-color: #00af00\">64</span>)             │        <span style=\"color: #00af00; text-decoration-color: #00af00\">24,832</span> │\n",
       "├─────────────────────────────────┼────────────────────────┼───────────────┤\n",
       "│ dense (<span style=\"color: #0087ff; text-decoration-color: #0087ff\">Dense</span>)                   │ (<span style=\"color: #00d7ff; text-decoration-color: #00d7ff\">None</span>, <span style=\"color: #00af00; text-decoration-color: #00af00\">8</span>)              │           <span style=\"color: #00af00; text-decoration-color: #00af00\">520</span> │\n",
       "└─────────────────────────────────┴────────────────────────┴───────────────┘\n",
       "</pre>\n"
      ]
     },
     "metadata": {},
     "output_type": "display_data"
    },
    {
     "data": {
      "text/plain": [
       "\u001B[1m Total params: \u001B[0m\u001B[38;5;34m67,080\u001B[0m (262.03 KB)\n"
      ],
      "text/html": [
       "<pre style=\"white-space:pre;overflow-x:auto;line-height:normal;font-family:Menlo,'DejaVu Sans Mono',consolas,'Courier New',monospace\"><span style=\"font-weight: bold\"> Total params: </span><span style=\"color: #00af00; text-decoration-color: #00af00\">67,080</span> (262.03 KB)\n",
       "</pre>\n"
      ]
     },
     "metadata": {},
     "output_type": "display_data"
    },
    {
     "data": {
      "text/plain": [
       "\u001B[1m Trainable params: \u001B[0m\u001B[38;5;34m67,080\u001B[0m (262.03 KB)\n"
      ],
      "text/html": [
       "<pre style=\"white-space:pre;overflow-x:auto;line-height:normal;font-family:Menlo,'DejaVu Sans Mono',consolas,'Courier New',monospace\"><span style=\"font-weight: bold\"> Trainable params: </span><span style=\"color: #00af00; text-decoration-color: #00af00\">67,080</span> (262.03 KB)\n",
       "</pre>\n"
      ]
     },
     "metadata": {},
     "output_type": "display_data"
    },
    {
     "data": {
      "text/plain": [
       "\u001B[1m Non-trainable params: \u001B[0m\u001B[38;5;34m0\u001B[0m (0.00 B)\n"
      ],
      "text/html": [
       "<pre style=\"white-space:pre;overflow-x:auto;line-height:normal;font-family:Menlo,'DejaVu Sans Mono',consolas,'Courier New',monospace\"><span style=\"font-weight: bold\"> Non-trainable params: </span><span style=\"color: #00af00; text-decoration-color: #00af00\">0</span> (0.00 B)\n",
       "</pre>\n"
      ]
     },
     "metadata": {},
     "output_type": "display_data"
    }
   ],
   "execution_count": 12
  },
  {
   "metadata": {
    "ExecuteTime": {
     "end_time": "2024-06-25T11:37:59.185377Z",
     "start_time": "2024-06-25T11:37:59.175919Z"
    }
   },
   "cell_type": "code",
   "source": [
    "epochs = 100\n",
    "intro_loss = tf.keras.losses.CategoricalCrossentropy()\n",
    "intro_optimizer = tf.keras.optimizers.Adam()\n",
    "\n",
    "intro_model.compile(loss=intro_loss, optimizer=intro_optimizer, metrics=['accuracy'])"
   ],
   "id": "74dcf5afd6be0e4c",
   "outputs": [],
   "execution_count": 13
  },
  {
   "metadata": {
    "ExecuteTime": {
     "end_time": "2024-06-25T11:38:00.137326Z",
     "start_time": "2024-06-25T11:38:00.134769Z"
    }
   },
   "cell_type": "code",
   "source": "print(intro_xs.shape)",
   "id": "c7c1522b017ed3c9",
   "outputs": [
    {
     "name": "stdout",
     "output_type": "stream",
     "text": [
      "(5, 3)\n"
     ]
    }
   ],
   "execution_count": 14
  },
  {
   "metadata": {
    "ExecuteTime": {
     "end_time": "2024-06-25T11:38:07.572017Z",
     "start_time": "2024-06-25T11:38:01.711415Z"
    }
   },
   "cell_type": "code",
   "source": "intro_history = intro_model.fit(intro_xs, intro_ys, epochs=epochs)",
   "id": "79720eab1b7c4cd1",
   "outputs": [
    {
     "name": "stdout",
     "output_type": "stream",
     "text": [
      "Epoch 1/100\n",
      "\u001B[1m1/1\u001B[0m \u001B[32m━━━━━━━━━━━━━━━━━━━━\u001B[0m\u001B[37m\u001B[0m \u001B[1m4s\u001B[0m 4s/step - accuracy: 0.0000e+00 - loss: 2.0800\n",
      "Epoch 2/100\n",
      "\u001B[1m1/1\u001B[0m \u001B[32m━━━━━━━━━━━━━━━━━━━━\u001B[0m\u001B[37m\u001B[0m \u001B[1m0s\u001B[0m 25ms/step - accuracy: 0.4000 - loss: 2.0752\n",
      "Epoch 3/100\n",
      "\u001B[1m1/1\u001B[0m \u001B[32m━━━━━━━━━━━━━━━━━━━━\u001B[0m\u001B[37m\u001B[0m \u001B[1m0s\u001B[0m 28ms/step - accuracy: 0.4000 - loss: 2.0703\n",
      "Epoch 4/100\n",
      "\u001B[1m1/1\u001B[0m \u001B[32m━━━━━━━━━━━━━━━━━━━━\u001B[0m\u001B[37m\u001B[0m \u001B[1m0s\u001B[0m 21ms/step - accuracy: 0.4000 - loss: 2.0653\n",
      "Epoch 5/100\n",
      "\u001B[1m1/1\u001B[0m \u001B[32m━━━━━━━━━━━━━━━━━━━━\u001B[0m\u001B[37m\u001B[0m \u001B[1m0s\u001B[0m 18ms/step - accuracy: 0.4000 - loss: 2.0600\n",
      "Epoch 6/100\n",
      "\u001B[1m1/1\u001B[0m \u001B[32m━━━━━━━━━━━━━━━━━━━━\u001B[0m\u001B[37m\u001B[0m \u001B[1m0s\u001B[0m 34ms/step - accuracy: 0.4000 - loss: 2.0543\n",
      "Epoch 7/100\n",
      "\u001B[1m1/1\u001B[0m \u001B[32m━━━━━━━━━━━━━━━━━━━━\u001B[0m\u001B[37m\u001B[0m \u001B[1m0s\u001B[0m 16ms/step - accuracy: 0.4000 - loss: 2.0483\n",
      "Epoch 8/100\n",
      "\u001B[1m1/1\u001B[0m \u001B[32m━━━━━━━━━━━━━━━━━━━━\u001B[0m\u001B[37m\u001B[0m \u001B[1m0s\u001B[0m 23ms/step - accuracy: 0.4000 - loss: 2.0417\n",
      "Epoch 9/100\n",
      "\u001B[1m1/1\u001B[0m \u001B[32m━━━━━━━━━━━━━━━━━━━━\u001B[0m\u001B[37m\u001B[0m \u001B[1m0s\u001B[0m 28ms/step - accuracy: 0.4000 - loss: 2.0346\n",
      "Epoch 10/100\n",
      "\u001B[1m1/1\u001B[0m \u001B[32m━━━━━━━━━━━━━━━━━━━━\u001B[0m\u001B[37m\u001B[0m \u001B[1m0s\u001B[0m 19ms/step - accuracy: 0.4000 - loss: 2.0269\n",
      "Epoch 11/100\n",
      "\u001B[1m1/1\u001B[0m \u001B[32m━━━━━━━━━━━━━━━━━━━━\u001B[0m\u001B[37m\u001B[0m \u001B[1m0s\u001B[0m 34ms/step - accuracy: 0.4000 - loss: 2.0184\n",
      "Epoch 12/100\n",
      "\u001B[1m1/1\u001B[0m \u001B[32m━━━━━━━━━━━━━━━━━━━━\u001B[0m\u001B[37m\u001B[0m \u001B[1m0s\u001B[0m 26ms/step - accuracy: 0.4000 - loss: 2.0091\n",
      "Epoch 13/100\n",
      "\u001B[1m1/1\u001B[0m \u001B[32m━━━━━━━━━━━━━━━━━━━━\u001B[0m\u001B[37m\u001B[0m \u001B[1m0s\u001B[0m 23ms/step - accuracy: 0.4000 - loss: 1.9988\n",
      "Epoch 14/100\n",
      "\u001B[1m1/1\u001B[0m \u001B[32m━━━━━━━━━━━━━━━━━━━━\u001B[0m\u001B[37m\u001B[0m \u001B[1m0s\u001B[0m 17ms/step - accuracy: 0.4000 - loss: 1.9874\n",
      "Epoch 15/100\n",
      "\u001B[1m1/1\u001B[0m \u001B[32m━━━━━━━━━━━━━━━━━━━━\u001B[0m\u001B[37m\u001B[0m \u001B[1m0s\u001B[0m 16ms/step - accuracy: 0.4000 - loss: 1.9748\n",
      "Epoch 16/100\n",
      "\u001B[1m1/1\u001B[0m \u001B[32m━━━━━━━━━━━━━━━━━━━━\u001B[0m\u001B[37m\u001B[0m \u001B[1m0s\u001B[0m 17ms/step - accuracy: 0.4000 - loss: 1.9608\n",
      "Epoch 17/100\n",
      "\u001B[1m1/1\u001B[0m \u001B[32m━━━━━━━━━━━━━━━━━━━━\u001B[0m\u001B[37m\u001B[0m \u001B[1m0s\u001B[0m 17ms/step - accuracy: 0.4000 - loss: 1.9452\n",
      "Epoch 18/100\n",
      "\u001B[1m1/1\u001B[0m \u001B[32m━━━━━━━━━━━━━━━━━━━━\u001B[0m\u001B[37m\u001B[0m \u001B[1m0s\u001B[0m 16ms/step - accuracy: 0.4000 - loss: 1.9278\n",
      "Epoch 19/100\n",
      "\u001B[1m1/1\u001B[0m \u001B[32m━━━━━━━━━━━━━━━━━━━━\u001B[0m\u001B[37m\u001B[0m \u001B[1m0s\u001B[0m 20ms/step - accuracy: 0.4000 - loss: 1.9083\n",
      "Epoch 20/100\n",
      "\u001B[1m1/1\u001B[0m \u001B[32m━━━━━━━━━━━━━━━━━━━━\u001B[0m\u001B[37m\u001B[0m \u001B[1m0s\u001B[0m 14ms/step - accuracy: 0.4000 - loss: 1.8866\n",
      "Epoch 21/100\n",
      "\u001B[1m1/1\u001B[0m \u001B[32m━━━━━━━━━━━━━━━━━━━━\u001B[0m\u001B[37m\u001B[0m \u001B[1m0s\u001B[0m 15ms/step - accuracy: 0.4000 - loss: 1.8622\n",
      "Epoch 22/100\n",
      "\u001B[1m1/1\u001B[0m \u001B[32m━━━━━━━━━━━━━━━━━━━━\u001B[0m\u001B[37m\u001B[0m \u001B[1m0s\u001B[0m 15ms/step - accuracy: 0.4000 - loss: 1.8351\n",
      "Epoch 23/100\n",
      "\u001B[1m1/1\u001B[0m \u001B[32m━━━━━━━━━━━━━━━━━━━━\u001B[0m\u001B[37m\u001B[0m \u001B[1m0s\u001B[0m 15ms/step - accuracy: 0.4000 - loss: 1.8048\n",
      "Epoch 24/100\n",
      "\u001B[1m1/1\u001B[0m \u001B[32m━━━━━━━━━━━━━━━━━━━━\u001B[0m\u001B[37m\u001B[0m \u001B[1m0s\u001B[0m 16ms/step - accuracy: 0.4000 - loss: 1.7712\n",
      "Epoch 25/100\n",
      "\u001B[1m1/1\u001B[0m \u001B[32m━━━━━━━━━━━━━━━━━━━━\u001B[0m\u001B[37m\u001B[0m \u001B[1m0s\u001B[0m 15ms/step - accuracy: 0.4000 - loss: 1.7341\n",
      "Epoch 26/100\n",
      "\u001B[1m1/1\u001B[0m \u001B[32m━━━━━━━━━━━━━━━━━━━━\u001B[0m\u001B[37m\u001B[0m \u001B[1m0s\u001B[0m 13ms/step - accuracy: 0.4000 - loss: 1.6935\n",
      "Epoch 27/100\n",
      "\u001B[1m1/1\u001B[0m \u001B[32m━━━━━━━━━━━━━━━━━━━━\u001B[0m\u001B[37m\u001B[0m \u001B[1m0s\u001B[0m 15ms/step - accuracy: 0.4000 - loss: 1.6495\n",
      "Epoch 28/100\n",
      "\u001B[1m1/1\u001B[0m \u001B[32m━━━━━━━━━━━━━━━━━━━━\u001B[0m\u001B[37m\u001B[0m \u001B[1m0s\u001B[0m 17ms/step - accuracy: 0.4000 - loss: 1.6029\n",
      "Epoch 29/100\n",
      "\u001B[1m1/1\u001B[0m \u001B[32m━━━━━━━━━━━━━━━━━━━━\u001B[0m\u001B[37m\u001B[0m \u001B[1m0s\u001B[0m 15ms/step - accuracy: 0.4000 - loss: 1.5546\n",
      "Epoch 30/100\n",
      "\u001B[1m1/1\u001B[0m \u001B[32m━━━━━━━━━━━━━━━━━━━━\u001B[0m\u001B[37m\u001B[0m \u001B[1m0s\u001B[0m 15ms/step - accuracy: 0.4000 - loss: 1.5064\n",
      "Epoch 31/100\n",
      "\u001B[1m1/1\u001B[0m \u001B[32m━━━━━━━━━━━━━━━━━━━━\u001B[0m\u001B[37m\u001B[0m \u001B[1m0s\u001B[0m 14ms/step - accuracy: 0.4000 - loss: 1.4606\n",
      "Epoch 32/100\n",
      "\u001B[1m1/1\u001B[0m \u001B[32m━━━━━━━━━━━━━━━━━━━━\u001B[0m\u001B[37m\u001B[0m \u001B[1m0s\u001B[0m 15ms/step - accuracy: 0.4000 - loss: 1.4201\n",
      "Epoch 33/100\n",
      "\u001B[1m1/1\u001B[0m \u001B[32m━━━━━━━━━━━━━━━━━━━━\u001B[0m\u001B[37m\u001B[0m \u001B[1m0s\u001B[0m 14ms/step - accuracy: 0.4000 - loss: 1.3875\n",
      "Epoch 34/100\n",
      "\u001B[1m1/1\u001B[0m \u001B[32m━━━━━━━━━━━━━━━━━━━━\u001B[0m\u001B[37m\u001B[0m \u001B[1m0s\u001B[0m 14ms/step - accuracy: 0.4000 - loss: 1.3640\n",
      "Epoch 35/100\n",
      "\u001B[1m1/1\u001B[0m \u001B[32m━━━━━━━━━━━━━━━━━━━━\u001B[0m\u001B[37m\u001B[0m \u001B[1m0s\u001B[0m 14ms/step - accuracy: 0.4000 - loss: 1.3484\n",
      "Epoch 36/100\n",
      "\u001B[1m1/1\u001B[0m \u001B[32m━━━━━━━━━━━━━━━━━━━━\u001B[0m\u001B[37m\u001B[0m \u001B[1m0s\u001B[0m 18ms/step - accuracy: 0.4000 - loss: 1.3364\n",
      "Epoch 37/100\n",
      "\u001B[1m1/1\u001B[0m \u001B[32m━━━━━━━━━━━━━━━━━━━━\u001B[0m\u001B[37m\u001B[0m \u001B[1m0s\u001B[0m 14ms/step - accuracy: 0.4000 - loss: 1.3231\n",
      "Epoch 38/100\n",
      "\u001B[1m1/1\u001B[0m \u001B[32m━━━━━━━━━━━━━━━━━━━━\u001B[0m\u001B[37m\u001B[0m \u001B[1m0s\u001B[0m 23ms/step - accuracy: 0.4000 - loss: 1.3056\n",
      "Epoch 39/100\n",
      "\u001B[1m1/1\u001B[0m \u001B[32m━━━━━━━━━━━━━━━━━━━━\u001B[0m\u001B[37m\u001B[0m \u001B[1m0s\u001B[0m 14ms/step - accuracy: 0.4000 - loss: 1.2836\n",
      "Epoch 40/100\n",
      "\u001B[1m1/1\u001B[0m \u001B[32m━━━━━━━━━━━━━━━━━━━━\u001B[0m\u001B[37m\u001B[0m \u001B[1m0s\u001B[0m 13ms/step - accuracy: 0.4000 - loss: 1.2585\n",
      "Epoch 41/100\n",
      "\u001B[1m1/1\u001B[0m \u001B[32m━━━━━━━━━━━━━━━━━━━━\u001B[0m\u001B[37m\u001B[0m \u001B[1m0s\u001B[0m 13ms/step - accuracy: 0.4000 - loss: 1.2327\n",
      "Epoch 42/100\n",
      "\u001B[1m1/1\u001B[0m \u001B[32m━━━━━━━━━━━━━━━━━━━━\u001B[0m\u001B[37m\u001B[0m \u001B[1m0s\u001B[0m 14ms/step - accuracy: 0.4000 - loss: 1.2081\n",
      "Epoch 43/100\n",
      "\u001B[1m1/1\u001B[0m \u001B[32m━━━━━━━━━━━━━━━━━━━━\u001B[0m\u001B[37m\u001B[0m \u001B[1m0s\u001B[0m 13ms/step - accuracy: 0.4000 - loss: 1.1860\n",
      "Epoch 44/100\n",
      "\u001B[1m1/1\u001B[0m \u001B[32m━━━━━━━━━━━━━━━━━━━━\u001B[0m\u001B[37m\u001B[0m \u001B[1m0s\u001B[0m 14ms/step - accuracy: 0.4000 - loss: 1.1661\n",
      "Epoch 45/100\n",
      "\u001B[1m1/1\u001B[0m \u001B[32m━━━━━━━━━━━━━━━━━━━━\u001B[0m\u001B[37m\u001B[0m \u001B[1m0s\u001B[0m 13ms/step - accuracy: 0.4000 - loss: 1.1478\n",
      "Epoch 46/100\n",
      "\u001B[1m1/1\u001B[0m \u001B[32m━━━━━━━━━━━━━━━━━━━━\u001B[0m\u001B[37m\u001B[0m \u001B[1m0s\u001B[0m 14ms/step - accuracy: 0.4000 - loss: 1.1297\n",
      "Epoch 47/100\n",
      "\u001B[1m1/1\u001B[0m \u001B[32m━━━━━━━━━━━━━━━━━━━━\u001B[0m\u001B[37m\u001B[0m \u001B[1m0s\u001B[0m 17ms/step - accuracy: 0.4000 - loss: 1.1105\n",
      "Epoch 48/100\n",
      "\u001B[1m1/1\u001B[0m \u001B[32m━━━━━━━━━━━━━━━━━━━━\u001B[0m\u001B[37m\u001B[0m \u001B[1m0s\u001B[0m 14ms/step - accuracy: 0.4000 - loss: 1.0895\n",
      "Epoch 49/100\n",
      "\u001B[1m1/1\u001B[0m \u001B[32m━━━━━━━━━━━━━━━━━━━━\u001B[0m\u001B[37m\u001B[0m \u001B[1m0s\u001B[0m 14ms/step - accuracy: 0.4000 - loss: 1.0663\n",
      "Epoch 50/100\n",
      "\u001B[1m1/1\u001B[0m \u001B[32m━━━━━━━━━━━━━━━━━━━━\u001B[0m\u001B[37m\u001B[0m \u001B[1m0s\u001B[0m 14ms/step - accuracy: 0.6000 - loss: 1.0414\n",
      "Epoch 51/100\n",
      "\u001B[1m1/1\u001B[0m \u001B[32m━━━━━━━━━━━━━━━━━━━━\u001B[0m\u001B[37m\u001B[0m \u001B[1m0s\u001B[0m 14ms/step - accuracy: 0.6000 - loss: 1.0155\n",
      "Epoch 52/100\n",
      "\u001B[1m1/1\u001B[0m \u001B[32m━━━━━━━━━━━━━━━━━━━━\u001B[0m\u001B[37m\u001B[0m \u001B[1m0s\u001B[0m 12ms/step - accuracy: 0.6000 - loss: 0.9892\n",
      "Epoch 53/100\n",
      "\u001B[1m1/1\u001B[0m \u001B[32m━━━━━━━━━━━━━━━━━━━━\u001B[0m\u001B[37m\u001B[0m \u001B[1m0s\u001B[0m 13ms/step - accuracy: 0.6000 - loss: 0.9634\n",
      "Epoch 54/100\n",
      "\u001B[1m1/1\u001B[0m \u001B[32m━━━━━━━━━━━━━━━━━━━━\u001B[0m\u001B[37m\u001B[0m \u001B[1m0s\u001B[0m 14ms/step - accuracy: 0.6000 - loss: 0.9382\n",
      "Epoch 55/100\n",
      "\u001B[1m1/1\u001B[0m \u001B[32m━━━━━━━━━━━━━━━━━━━━\u001B[0m\u001B[37m\u001B[0m \u001B[1m0s\u001B[0m 19ms/step - accuracy: 0.6000 - loss: 0.9133\n",
      "Epoch 56/100\n",
      "\u001B[1m1/1\u001B[0m \u001B[32m━━━━━━━━━━━━━━━━━━━━\u001B[0m\u001B[37m\u001B[0m \u001B[1m0s\u001B[0m 13ms/step - accuracy: 0.6000 - loss: 0.8879\n",
      "Epoch 57/100\n",
      "\u001B[1m1/1\u001B[0m \u001B[32m━━━━━━━━━━━━━━━━━━━━\u001B[0m\u001B[37m\u001B[0m \u001B[1m0s\u001B[0m 15ms/step - accuracy: 0.6000 - loss: 0.8614\n",
      "Epoch 58/100\n",
      "\u001B[1m1/1\u001B[0m \u001B[32m━━━━━━━━━━━━━━━━━━━━\u001B[0m\u001B[37m\u001B[0m \u001B[1m0s\u001B[0m 12ms/step - accuracy: 0.8000 - loss: 0.8334\n",
      "Epoch 59/100\n",
      "\u001B[1m1/1\u001B[0m \u001B[32m━━━━━━━━━━━━━━━━━━━━\u001B[0m\u001B[37m\u001B[0m \u001B[1m0s\u001B[0m 13ms/step - accuracy: 0.8000 - loss: 0.8040\n",
      "Epoch 60/100\n",
      "\u001B[1m1/1\u001B[0m \u001B[32m━━━━━━━━━━━━━━━━━━━━\u001B[0m\u001B[37m\u001B[0m \u001B[1m0s\u001B[0m 12ms/step - accuracy: 0.8000 - loss: 0.7736\n",
      "Epoch 61/100\n",
      "\u001B[1m1/1\u001B[0m \u001B[32m━━━━━━━━━━━━━━━━━━━━\u001B[0m\u001B[37m\u001B[0m \u001B[1m0s\u001B[0m 13ms/step - accuracy: 0.8000 - loss: 0.7428\n",
      "Epoch 62/100\n",
      "\u001B[1m1/1\u001B[0m \u001B[32m━━━━━━━━━━━━━━━━━━━━\u001B[0m\u001B[37m\u001B[0m \u001B[1m0s\u001B[0m 12ms/step - accuracy: 1.0000 - loss: 0.7121\n",
      "Epoch 63/100\n",
      "\u001B[1m1/1\u001B[0m \u001B[32m━━━━━━━━━━━━━━━━━━━━\u001B[0m\u001B[37m\u001B[0m \u001B[1m0s\u001B[0m 14ms/step - accuracy: 1.0000 - loss: 0.6818\n",
      "Epoch 64/100\n",
      "\u001B[1m1/1\u001B[0m \u001B[32m━━━━━━━━━━━━━━━━━━━━\u001B[0m\u001B[37m\u001B[0m \u001B[1m0s\u001B[0m 12ms/step - accuracy: 1.0000 - loss: 0.6520\n",
      "Epoch 65/100\n",
      "\u001B[1m1/1\u001B[0m \u001B[32m━━━━━━━━━━━━━━━━━━━━\u001B[0m\u001B[37m\u001B[0m \u001B[1m0s\u001B[0m 12ms/step - accuracy: 1.0000 - loss: 0.6225\n",
      "Epoch 66/100\n",
      "\u001B[1m1/1\u001B[0m \u001B[32m━━━━━━━━━━━━━━━━━━━━\u001B[0m\u001B[37m\u001B[0m \u001B[1m0s\u001B[0m 13ms/step - accuracy: 1.0000 - loss: 0.5934\n",
      "Epoch 67/100\n",
      "\u001B[1m1/1\u001B[0m \u001B[32m━━━━━━━━━━━━━━━━━━━━\u001B[0m\u001B[37m\u001B[0m \u001B[1m0s\u001B[0m 12ms/step - accuracy: 1.0000 - loss: 0.5644\n",
      "Epoch 68/100\n",
      "\u001B[1m1/1\u001B[0m \u001B[32m━━━━━━━━━━━━━━━━━━━━\u001B[0m\u001B[37m\u001B[0m \u001B[1m0s\u001B[0m 13ms/step - accuracy: 1.0000 - loss: 0.5358\n",
      "Epoch 69/100\n",
      "\u001B[1m1/1\u001B[0m \u001B[32m━━━━━━━━━━━━━━━━━━━━\u001B[0m\u001B[37m\u001B[0m \u001B[1m0s\u001B[0m 15ms/step - accuracy: 1.0000 - loss: 0.5075\n",
      "Epoch 70/100\n",
      "\u001B[1m1/1\u001B[0m \u001B[32m━━━━━━━━━━━━━━━━━━━━\u001B[0m\u001B[37m\u001B[0m \u001B[1m0s\u001B[0m 15ms/step - accuracy: 1.0000 - loss: 0.4796\n",
      "Epoch 71/100\n",
      "\u001B[1m1/1\u001B[0m \u001B[32m━━━━━━━━━━━━━━━━━━━━\u001B[0m\u001B[37m\u001B[0m \u001B[1m0s\u001B[0m 12ms/step - accuracy: 1.0000 - loss: 0.4522\n",
      "Epoch 72/100\n",
      "\u001B[1m1/1\u001B[0m \u001B[32m━━━━━━━━━━━━━━━━━━━━\u001B[0m\u001B[37m\u001B[0m \u001B[1m0s\u001B[0m 13ms/step - accuracy: 1.0000 - loss: 0.4250\n",
      "Epoch 73/100\n",
      "\u001B[1m1/1\u001B[0m \u001B[32m━━━━━━━━━━━━━━━━━━━━\u001B[0m\u001B[37m\u001B[0m \u001B[1m0s\u001B[0m 13ms/step - accuracy: 1.0000 - loss: 0.3980\n",
      "Epoch 74/100\n",
      "\u001B[1m1/1\u001B[0m \u001B[32m━━━━━━━━━━━━━━━━━━━━\u001B[0m\u001B[37m\u001B[0m \u001B[1m0s\u001B[0m 12ms/step - accuracy: 1.0000 - loss: 0.3712\n",
      "Epoch 75/100\n",
      "\u001B[1m1/1\u001B[0m \u001B[32m━━━━━━━━━━━━━━━━━━━━\u001B[0m\u001B[37m\u001B[0m \u001B[1m0s\u001B[0m 12ms/step - accuracy: 1.0000 - loss: 0.3450\n",
      "Epoch 76/100\n",
      "\u001B[1m1/1\u001B[0m \u001B[32m━━━━━━━━━━━━━━━━━━━━\u001B[0m\u001B[37m\u001B[0m \u001B[1m0s\u001B[0m 14ms/step - accuracy: 1.0000 - loss: 0.3198\n",
      "Epoch 77/100\n",
      "\u001B[1m1/1\u001B[0m \u001B[32m━━━━━━━━━━━━━━━━━━━━\u001B[0m\u001B[37m\u001B[0m \u001B[1m0s\u001B[0m 14ms/step - accuracy: 1.0000 - loss: 0.2956\n",
      "Epoch 78/100\n",
      "\u001B[1m1/1\u001B[0m \u001B[32m━━━━━━━━━━━━━━━━━━━━\u001B[0m\u001B[37m\u001B[0m \u001B[1m0s\u001B[0m 13ms/step - accuracy: 1.0000 - loss: 0.2722\n",
      "Epoch 79/100\n",
      "\u001B[1m1/1\u001B[0m \u001B[32m━━━━━━━━━━━━━━━━━━━━\u001B[0m\u001B[37m\u001B[0m \u001B[1m0s\u001B[0m 14ms/step - accuracy: 1.0000 - loss: 0.2494\n",
      "Epoch 80/100\n",
      "\u001B[1m1/1\u001B[0m \u001B[32m━━━━━━━━━━━━━━━━━━━━\u001B[0m\u001B[37m\u001B[0m \u001B[1m0s\u001B[0m 14ms/step - accuracy: 1.0000 - loss: 0.2271\n",
      "Epoch 81/100\n",
      "\u001B[1m1/1\u001B[0m \u001B[32m━━━━━━━━━━━━━━━━━━━━\u001B[0m\u001B[37m\u001B[0m \u001B[1m0s\u001B[0m 14ms/step - accuracy: 1.0000 - loss: 0.2056\n",
      "Epoch 82/100\n",
      "\u001B[1m1/1\u001B[0m \u001B[32m━━━━━━━━━━━━━━━━━━━━\u001B[0m\u001B[37m\u001B[0m \u001B[1m0s\u001B[0m 14ms/step - accuracy: 1.0000 - loss: 0.1855\n",
      "Epoch 83/100\n",
      "\u001B[1m1/1\u001B[0m \u001B[32m━━━━━━━━━━━━━━━━━━━━\u001B[0m\u001B[37m\u001B[0m \u001B[1m0s\u001B[0m 14ms/step - accuracy: 1.0000 - loss: 0.1667\n",
      "Epoch 84/100\n",
      "\u001B[1m1/1\u001B[0m \u001B[32m━━━━━━━━━━━━━━━━━━━━\u001B[0m\u001B[37m\u001B[0m \u001B[1m0s\u001B[0m 14ms/step - accuracy: 1.0000 - loss: 0.1494\n",
      "Epoch 85/100\n",
      "\u001B[1m1/1\u001B[0m \u001B[32m━━━━━━━━━━━━━━━━━━━━\u001B[0m\u001B[37m\u001B[0m \u001B[1m0s\u001B[0m 13ms/step - accuracy: 1.0000 - loss: 0.1336\n",
      "Epoch 86/100\n",
      "\u001B[1m1/1\u001B[0m \u001B[32m━━━━━━━━━━━━━━━━━━━━\u001B[0m\u001B[37m\u001B[0m \u001B[1m0s\u001B[0m 15ms/step - accuracy: 1.0000 - loss: 0.1195\n",
      "Epoch 87/100\n",
      "\u001B[1m1/1\u001B[0m \u001B[32m━━━━━━━━━━━━━━━━━━━━\u001B[0m\u001B[37m\u001B[0m \u001B[1m0s\u001B[0m 15ms/step - accuracy: 1.0000 - loss: 0.1071\n",
      "Epoch 88/100\n",
      "\u001B[1m1/1\u001B[0m \u001B[32m━━━━━━━━━━━━━━━━━━━━\u001B[0m\u001B[37m\u001B[0m \u001B[1m0s\u001B[0m 14ms/step - accuracy: 1.0000 - loss: 0.0965\n",
      "Epoch 89/100\n",
      "\u001B[1m1/1\u001B[0m \u001B[32m━━━━━━━━━━━━━━━━━━━━\u001B[0m\u001B[37m\u001B[0m \u001B[1m0s\u001B[0m 17ms/step - accuracy: 1.0000 - loss: 0.0872\n",
      "Epoch 90/100\n",
      "\u001B[1m1/1\u001B[0m \u001B[32m━━━━━━━━━━━━━━━━━━━━\u001B[0m\u001B[37m\u001B[0m \u001B[1m0s\u001B[0m 14ms/step - accuracy: 1.0000 - loss: 0.0792\n",
      "Epoch 91/100\n",
      "\u001B[1m1/1\u001B[0m \u001B[32m━━━━━━━━━━━━━━━━━━━━\u001B[0m\u001B[37m\u001B[0m \u001B[1m0s\u001B[0m 14ms/step - accuracy: 1.0000 - loss: 0.0720\n",
      "Epoch 92/100\n",
      "\u001B[1m1/1\u001B[0m \u001B[32m━━━━━━━━━━━━━━━━━━━━\u001B[0m\u001B[37m\u001B[0m \u001B[1m0s\u001B[0m 13ms/step - accuracy: 1.0000 - loss: 0.0657\n",
      "Epoch 93/100\n",
      "\u001B[1m1/1\u001B[0m \u001B[32m━━━━━━━━━━━━━━━━━━━━\u001B[0m\u001B[37m\u001B[0m \u001B[1m0s\u001B[0m 15ms/step - accuracy: 1.0000 - loss: 0.0601\n",
      "Epoch 94/100\n",
      "\u001B[1m1/1\u001B[0m \u001B[32m━━━━━━━━━━━━━━━━━━━━\u001B[0m\u001B[37m\u001B[0m \u001B[1m0s\u001B[0m 13ms/step - accuracy: 1.0000 - loss: 0.0552\n",
      "Epoch 95/100\n",
      "\u001B[1m1/1\u001B[0m \u001B[32m━━━━━━━━━━━━━━━━━━━━\u001B[0m\u001B[37m\u001B[0m \u001B[1m0s\u001B[0m 14ms/step - accuracy: 1.0000 - loss: 0.0509\n",
      "Epoch 96/100\n",
      "\u001B[1m1/1\u001B[0m \u001B[32m━━━━━━━━━━━━━━━━━━━━\u001B[0m\u001B[37m\u001B[0m \u001B[1m0s\u001B[0m 15ms/step - accuracy: 1.0000 - loss: 0.0471\n",
      "Epoch 97/100\n",
      "\u001B[1m1/1\u001B[0m \u001B[32m━━━━━━━━━━━━━━━━━━━━\u001B[0m\u001B[37m\u001B[0m \u001B[1m0s\u001B[0m 14ms/step - accuracy: 1.0000 - loss: 0.0438\n",
      "Epoch 98/100\n",
      "\u001B[1m1/1\u001B[0m \u001B[32m━━━━━━━━━━━━━━━━━━━━\u001B[0m\u001B[37m\u001B[0m \u001B[1m0s\u001B[0m 14ms/step - accuracy: 1.0000 - loss: 0.0408\n",
      "Epoch 99/100\n",
      "\u001B[1m1/1\u001B[0m \u001B[32m━━━━━━━━━━━━━━━━━━━━\u001B[0m\u001B[37m\u001B[0m \u001B[1m0s\u001B[0m 17ms/step - accuracy: 1.0000 - loss: 0.0382\n",
      "Epoch 100/100\n",
      "\u001B[1m1/1\u001B[0m \u001B[32m━━━━━━━━━━━━━━━━━━━━\u001B[0m\u001B[37m\u001B[0m \u001B[1m0s\u001B[0m 31ms/step - accuracy: 1.0000 - loss: 0.0358\n"
     ]
    }
   ],
   "execution_count": 15
  },
  {
   "metadata": {
    "ExecuteTime": {
     "end_time": "2024-06-25T11:38:09.602757Z",
     "start_time": "2024-06-25T11:38:09.386530Z"
    }
   },
   "cell_type": "code",
   "source": [
    "plt.gcf()\n",
    "plt.plot(range(100), intro_history.history['loss'])\n",
    "plt.show()\n",
    "\n",
    "plt.gcf()\n",
    "plt.plot(range(100), intro_history.history['accuracy'])\n",
    "plt.show()"
   ],
   "id": "bdf70227cfcbe03e",
   "outputs": [
    {
     "data": {
      "text/plain": [
       "<Figure size 640x480 with 1 Axes>"
      ],
      "image/png": "[encoded data removed]"
     },
     "metadata": {},
     "output_type": "display_data"
    },
    {
     "data": {
      "text/plain": [
       "<Figure size 640x480 with 1 Axes>"
      ],
      "image/png": "[encoded data removed]"
     },
     "metadata": {},
     "output_type": "display_data"
    }
   ],
   "execution_count": 16
  },
  {
   "metadata": {
    "ExecuteTime": {
     "end_time": "2024-06-25T11:38:33.585670Z",
     "start_time": "2024-06-25T11:38:33.574511Z"
    }
   },
   "cell_type": "code",
   "source": [
    "intro_lengths = []\n",
    "\n",
    "for file in intro_songs:\n",
    "    intro_word_counter = 0\n",
    "    with open(os.path.join(\"Albums/Or Noir 2/Intros\", file), 'r') as f:\n",
    "        for line in f.readlines():\n",
    "            intro_word_counter += len(line.split())\n",
    "    intro_lengths.append(intro_word_counter)\n",
    "    intro_word_counter = 0"
   ],
   "id": "f64631547668d492",
   "outputs": [],
   "execution_count": 18
  },
  {
   "metadata": {
    "ExecuteTime": {
     "end_time": "2024-06-25T11:38:35.217541Z",
     "start_time": "2024-06-25T11:38:35.213953Z"
    }
   },
   "cell_type": "code",
   "source": [
    "intro_lengths = np.array(intro_lengths)\n",
    "print(intro_lengths)\n",
    "print(intro_lengths.mean())"
   ],
   "id": "30b5e4fe7a194ca0",
   "outputs": [
    {
     "name": "stdout",
     "output_type": "stream",
     "text": [
      "[8]\n",
      "8.0\n"
     ]
    }
   ],
   "execution_count": 19
  },
  {
   "metadata": {
    "ExecuteTime": {
     "end_time": "2024-06-25T11:38:38.851121Z",
     "start_time": "2024-06-25T11:38:38.060630Z"
    }
   },
   "cell_type": "code",
   "source": [
    "intro_seed = (\"\")\n",
    "for i in range(12):\n",
    "    tokenized_seed = intro_tokenizer.texts_to_sequences([intro_seed])[0]\n",
    "    padded_seed = tf.keras.preprocessing.sequence.pad_sequences([tokenized_seed], maxlen=intro_maxlen-1, padding='pre')\n",
    "    probs = intro_model.predict([padded_seed])\n",
    "\n",
    "    pred = np.argmax(probs)\n",
    "\n",
    "    next_word = intro_tokenizer.index_word[pred]\n",
    "    intro_seed+=\" \" + next_word\n",
    "\n",
    "print(intro_seed)"
   ],
   "id": "dfaff0be96b17cfc",
   "outputs": [
    {
     "name": "stdout",
     "output_type": "stream",
     "text": [
      "\u001B[1m1/1\u001B[0m \u001B[32m━━━━━━━━━━━━━━━━━━━━\u001B[0m\u001B[37m\u001B[0m \u001B[1m0s\u001B[0m 410ms/step\n",
      "\u001B[1m1/1\u001B[0m \u001B[32m━━━━━━━━━━━━━━━━━━━━\u001B[0m\u001B[37m\u001B[0m \u001B[1m0s\u001B[0m 9ms/step\n",
      "\u001B[1m1/1\u001B[0m \u001B[32m━━━━━━━━━━━━━━━━━━━━\u001B[0m\u001B[37m\u001B[0m \u001B[1m0s\u001B[0m 8ms/step\n",
      "\u001B[1m1/1\u001B[0m \u001B[32m━━━━━━━━━━━━━━━━━━━━\u001B[0m\u001B[37m\u001B[0m \u001B[1m0s\u001B[0m 8ms/step\n",
      "\u001B[1m1/1\u001B[0m \u001B[32m━━━━━━━━━━━━━━━━━━━━\u001B[0m\u001B[37m\u001B[0m \u001B[1m0s\u001B[0m 7ms/step\n",
      "\u001B[1m1/1\u001B[0m \u001B[32m━━━━━━━━━━━━━━━━━━━━\u001B[0m\u001B[37m\u001B[0m \u001B[1m0s\u001B[0m 10ms/step\n",
      "\u001B[1m1/1\u001B[0m \u001B[32m━━━━━━━━━━━━━━━━━━━━\u001B[0m\u001B[37m\u001B[0m \u001B[1m0s\u001B[0m 9ms/step\n",
      "\u001B[1m1/1\u001B[0m \u001B[32m━━━━━━━━━━━━━━━━━━━━\u001B[0m\u001B[37m\u001B[0m \u001B[1m0s\u001B[0m 10ms/step\n",
      "\u001B[1m1/1\u001B[0m \u001B[32m━━━━━━━━━━━━━━━━━━━━\u001B[0m\u001B[37m\u001B[0m \u001B[1m0s\u001B[0m 7ms/step\n",
      "\u001B[1m1/1\u001B[0m \u001B[32m━━━━━━━━━━━━━━━━━━━━\u001B[0m\u001B[37m\u001B[0m \u001B[1m0s\u001B[0m 10ms/step\n",
      "\u001B[1m1/1\u001B[0m \u001B[32m━━━━━━━━━━━━━━━━━━━━\u001B[0m\u001B[37m\u001B[0m \u001B[1m0s\u001B[0m 9ms/step\n",
      "\u001B[1m1/1\u001B[0m \u001B[32m━━━━━━━━━━━━━━━━━━━━\u001B[0m\u001B[37m\u001B[0m \u001B[1m0s\u001B[0m 8ms/step\n",
      " ouf ouf ouf ouf ouf ouf ouf ouf ouf ouf ouf ouf\n"
     ]
    }
   ],
   "execution_count": 20
  },
  {
   "metadata": {},
   "cell_type": "markdown",
   "source": "# Couplets",
   "id": "148ee264f074b1ad"
  },
  {
   "metadata": {
    "ExecuteTime": {
     "end_time": "2025-05-25T15:19:44.846010Z",
     "start_time": "2025-05-25T15:19:44.817634Z"
    }
   },
   "cell_type": "code",
   "source": [
    "couplets_songs = os.listdir('data/Verse')\n",
    "couplets_lyrics = []\n",
    "\n",
    "couplets_files = [os.path.join(\"data/Verse\", song) for song in couplets_songs]\n",
    "\n",
    "if \"data/Verse/.DS_Store\" in couplets_files:\n",
    "    couplets_files.remove(\"data/Verse/.DS_Store\")\n",
    "for file in couplets_files:\n",
    "    with open(file, 'r') as f:\n",
    "        for line in f.readlines():\n",
    "            if len(\" \".join(line.split())) > 0:\n",
    "                couplets_lyrics.append(\" \".join(line.split()))"
   ],
   "id": "29ec33bf9e52bec0",
   "outputs": [],
   "execution_count": 7
  },
  {
   "metadata": {
    "ExecuteTime": {
     "end_time": "2025-05-25T15:20:01.507783Z",
     "start_time": "2025-05-25T15:20:01.501747Z"
    }
   },
   "cell_type": "code",
   "source": "print(couplets_lyrics)",
   "id": "fc8173b0f33beb14",
   "outputs": [
    {
     "name": "stdout",
     "output_type": "stream",
     "text": [
      "[\"I never woulda thought she was livin' like that\", 'Her words seemed so sincere', 'When I held her near, she would tell me how she feels', 'It felt so real to me, this girl, she had to be', 'An angel sent from Heaven just for me', \"I didn't know she was already spoken for\", \"'Cause I'm not that kind of man\", \"Swear that I would've never looked her way\", 'Now I feel so much shame', 'And all things have to change', \"You should know that I'm holdin' her to blame\", 'Do you remember when we fell in love?', 'We were young and innocent then', 'Do you remember how it all began?', 'It just seemed like heaven, so why did it end?', 'Do you remember how we used to talk?', \"You know, we'd stay on the phone at night 'til dawn\", 'Do you remember all the things we said?', 'Like, \"I love you so,\" \"I\\'ll never let you go\"', \"Told me that you're doing wrong\", 'Word out shocking all along', \"Cryin' wolf ain't like a man\", 'Throwing rocks to hide your hands', \"You ain't done enough for me\", \"You ain't done nothin' for me\", 'You are disgusting me', '(Yeah, yeah)', 'You aiming just for me', 'You are disgusting me', 'Just want your cut from me', 'But too bad, too bad', 'Hell all up in Hollywood', \"Sayin' that you got it good\", \"Creepin' from another hole\", 'Tell her what somebody told', 'What do you want from me', 'What do you want from me', 'Tired of you hunting me', '(Yeah, yeah)', 'You aiming just for me', 'You are disgusting me', 'You got blood lust for me', 'But too bad, too bad', \"Life's about a dream\", \"I'm really undefeated when MJ's on my team, theme\", 'Reality brings forth realism', \"It's the man of steel, organism, T.W.I.S.M\", \"I'm full of trisim, take charge like manila\", '9-5 Shaq represent with the thriller', \"Grab my crotch, twist my knees, and I'm through\", \"Mike's bad, I'm bad, who are you?\", \"I don't care what you talkin' 'bout, baby\", \"I don't care what you say\", \"Don't you come walkin' beggin' back, mama\", \"I don't care anyway\", 'Time after time, I gave you all of my money', 'No excuses to make', \"Ain't no mountain that I can't climb, baby\", \"All is goin' my way\", 'There was a time I used to say \"Girl, I need you\"', 'But who is sorry now?', 'You really hurt, you used to take and deceive me', 'Now, who is sorry now?', \"You got a way of makin' me feel so sorry\", 'I found out right away', \"Don't you come walkin', beggin', I ain’t lovin' you\", \"Don't you get in my way\", 'My life will never be the same', \"'Cause girl, you came and changed\", 'The way I walk, the way I talk', 'I cannot explain', 'The things I feel for you', \"But girl, you know it's true\", 'So stay with me, fulfill my dreams', \"I'll be all you'll need\", 'In time, I knew that love would bring', 'Such happiness to me', 'I tried to keep my sanity', \"I've waited patiently\", 'And girl, you know it seems', 'My life is so complete', \"A love that's true because of you\", 'Keep doing what you do', 'She gave up her life (Ooh) to follow her dreams (Chance again, babe)', 'Left behind everything for the movie scene', 'Nothing more she could want, she was determined to follow her plan', 'She wanted Hollywood, she wanted it bad (Woo!)', 'Now that she got her dream, she became a star', 'It all looked so good, but only good from afar', \"Imprisoned in every paparazzi's camera, every guy wished they could\", \"Now it's back to reality for Ms. Hollywood (Woo!)\", '(She is) A streetwalker when there is time to spare', 'She got that big spenders holding their share', 'A heart of gold, but no one cares (No one seems to care)', 'Within their eyes', 'Some young lovers are laughing loud', 'And there are some old suckers trying to get down', 'The evening spins around and round (Spins around and round)', 'Yes, people of the night smoking through the dark', 'Some feeling you cannot explain', \"It is such a hard feeling lying in bed's flame\", 'The evening starts to fall again (Starts to fall again)', 'It is time to come alive', 'So why not take a chance?', \"So do surrender 'cause the power is deep inside my soul\", 'Ah, sing it', \"Promise me, we'll always be\", 'Walking the world together', 'Hand in hand where dreams never end', 'My star secret friend and me', 'Though you are gone star far away', 'Each time I see a rainbow', 'I will remember being with you', 'Smiles coming through my tears', 'Bass note, treble, stereo control, how low you go', 'Give you just enough to make your juices flow', 'Press play, don’t stop, rotate, too hot', 'You feel I’m real', 'I’m everything you need, so tell me what’s the deal', '3D, high speed, feedback, Dolby', 'Release two or three, when I reach, I can go ‘til I hit my peak', 'Compact steelo, chico, D-Lo, highpost lady', 'Shorty really wanna be there for me', 'Ooh, my honey', \"You got me workin' day and night\", 'Ooh, my sugar', \"You got me workin' day and night\", 'Scratch my shoulder', \"It's achin', make it feel alright\", 'When this is over', \"Lovin' you will be so right\", 'I often wonder', \"If lovin' you will be tonight\", 'But what is love, girl', \"If I'm always out of sight (Ooh!)\", \"You say that workin'\", \"Is what a man's supposed to do\", \"And I say it ain't right\", \"If I can't give sweet love to you (Yeah)\", '(Ah)', \"I'm tired of thinkin'\", \"Of what my life's supposed to be\", \"Well, soon enough, darlin'\", 'This love will be reality (Ah, ah)', 'How can you live, girl', \"'Cause love for us was meant to be\", \"Well, then you must be seein'\", 'Some other guy instead of me (Ooh!)', \"You say that workin'\", \"Is what a man's supposed to do\", \"And I say it ain't right\", \"If I can't give sweet love to you\", 'How can you live, girl', \"'Cause love for us was meant to be\", \"Well, then you must be seein' (Woo!)\", 'Some other guy instead of me (Ooh!)', \"I'm so undemanding\", \"'Cause they say love is blind\", \"I've lived this life pretending\", 'I can bear this hurt deep inside', \"I've lived my life the lonely\", 'A soul that cries of shame', 'With handicapped emotions', 'Save me now from what still remains', \"So I've got to be there (Got to be there)\", 'Got to be there in the morning', 'And welcome her into my world', \"And show her that she's my girl\", 'When she says, \"Hello, world!\"', '(Got to be there)', 'I need her sharing the world beside me', \"That's why I've got to be there (Got to be there)\", 'Got to be there where love begins', \"And that's everywhere she goes\", \"I've got to be there so she knows\", \"That when she's with me\", \"She's home (Home, she's home)\", \"(Home, she's home) Yeah\", 'Sister confused, she went along', 'What about love?', 'What about all I saw?', 'Biding her time, breathing the words', 'Singing a song, reciting a Bible verse', \"Father's confused, mother despair\", \"Brother's in curse\", \"What about all I've seen?\", 'You know the line, you came alone', 'What about heart?', \"That’s all I've known\", 'Look at my words', 'What do they say?', 'Look in my heart', 'Burning is all heartbreak', 'What do you get?', 'What do you say?', 'What about love?', 'I feel my sin', \"Sister don't know, where will she go?\", 'What about love?', 'What about all I saw?', 'What will you care?', \"Don't be so confused\", 'Love all the things', \"It's just the things I do\", \"This life don't last forever (Hold my hand)\", \"So tell me what we're waitin' for? (Hold my hand)\", \"We're better off bein' together (Hold my hand)\", 'Than being miserable alone (Hold my hand)', 'The nights are getting darker (Hold my hand)', \"For, and there's no peace inside (Hold my hand, oh yeah)\", 'So why make our lives harder (Hold my hand) Yeah, by fighting love tonight? (So, be there, baby)', 'What have we done to the world?', \"Look what we've done\", 'What about all the peace that you pledge your only son?', 'What about wising dreams?', 'Is there a time?', 'What about all the dreams that you said was yours and mine?', 'Everywhere I turn, no matter where I look', \"The system's in control, it's all ran by the book\", \"I've got to get away, so I can free my mind\", 'Escape is what I need, away from electric eyes', 'I tried to share my life with someone I could love', 'But games and money is all she ever thought of', 'How could that be my fault when she gambled and lost?', \"I'm tired of silly games, it's time to make a change\", 'Give in your heart and you will see that someone cares', \"'Cause you know that they can feed them all\", \"Then I read the paper and it said that you've been denied\", 'And it shows the second we will call', 'You know I work too hard for this kind of play (Ho!)', 'I wrote a letter for the ghetto of the CIA (Ho!)', \"I don't care a jack bone about what cha' do (Ho!)\", \"Just put your dime on the line, 'cause I own you (Ho!)\", 'Now you better go and get yourself some attitude (Ho!)', 'I know your name and the game ends in I.O.U (Ho!)', \"You're telling me that you're coming to a compromise (Ho!)\", \"You're smiling at me while you're stealing right before my eyes (Doggone it; Ho!)\", \"I don't care a jack bone about what cha' do (Ho!)\", 'Just sign your name on the line, baby, I own you (Doggone it)', '(Ho!)', '(You are a…)', \"There's a chance for dancin'\", 'All night long', \"There's a chance for groovin'\", \"And it will be soothin'\", 'With a song', 'No need for rejection', 'Determined to be', 'Gonna groove, gonna move you', 'Gonna say things to you', 'Just wait and see', 'At night (At night)', 'I pray before I sleep in hope of finding you (Finding you)', \"I've opened up my heart, I want you to come through\", \"I close my eyes, I'm searching for your love, love (Hoo!)\", 'I watched you on the floor, cheek-to-cheek', \"She's getting to you\", \"You didn't see her eyes on me, no\", 'She looked right through you', '(Before you make) Before you make', '(A big mistake) Remember', 'That looks can fool you, babe, hee', \"There's something I would sure appreciate\", '(If you can keep a secret)', 'You better take advice, never trust first impressions', 'I tried to hide this affair from their suspicions', \"So even if she's asking you to stay\", 'You better know where you stand', 'It would not be long till we make vows, I bet you', 'Ooh', 'I thank the Heavens above that I met you', 'Ooh', 'The world is a better place because you came in time', 'You took away the rain and brought the sunshine', 'I was afraid because I was hurt the last time', 'Ooh', 'I wish you love and goodwill', 'I wish you praise and joy', 'I wish you better than your heart desires', 'And your first kiss from a boy', \"I'm in love with a beautiful girl\", \"I'm in love with a beautiful girl\", \"He wanna do somethin' freaky to you\", 'He wanna wrap his arms all around ya, girl', \"He wanna shake it up, shake it down, doin' it right\", \"He wanna jump back, half flap, doin' it right\", \"He wanna lay you down, turn it up, shakin' it loose\", \"He wanna fly high, nigh high, baby, for you'se\", 'He wanna motormouth, float around, baby, the back', \"He wanna shake it up, shake it down, movin' 'round, haha\", \"He wanna do somethin' freaky to you\", 'He wanna wrap his arms all around ya, girl (Oh)', 'He wanna glue it up, keep it high, deep in the night', \"He wanna eyeball, get hard, playin' it right\", 'He wanna turn the key, work the sheets, move to the left', \"He wanna hot scrub, hot love, makin' it wet\", 'He wanna give hot, jump shot, move to the left', 'He wanna time bar, slam dunk, hahaha', \"I don't want to move when I'm in her hands\", \"There's nothing I can do or say, ah\", 'Put everything on hold, cancel all my plans', \"Tell everybody I'm away, hey\", \"Da, I never know what's running through her mind\", \"No telling what she's going to do, eeh\", 'Her every move is like a danger sign', 'Daring me to come on through, ayy', 'She may be bad, but she feels so good', \"I'll give her anything she wants\", 'Why did you let him get away?', 'After the staring, what did you say?', \"Treatin' me bold and cold as ice\", 'Screamed in my face then pulled your knife', 'She should have spied down his skin', \"Now, it's my job to get revenge\", 'Why did you let him get away?', 'Why did you let him get away?', \"I'm headed for the border, it's on my mind\", \"And nothing really matters, I've got to be on time\", 'Look in the view mirror, is he hot on my tracks?', 'Is he getting nearer? I feel some heat is on my back', \"Ain't nothing gonna stop me\", \"Ain't no stop and go\", \"I'm speeding on the midway\", 'I gotta really burn this road', \"You can't win, the world keeps moving\", \"And you're standing far behind\", 'People keep saying, things will get better', '(Just to ease your state of mind)', '(So you lean back)(And you smoke that smoke)', '(And you drink your glass of wine)', \"You can't win, you can't break even\", \"Ain’t the way it's supposed to be\", \"(You'll be spending) No, no, oh\", '(Your little bit of money)', 'While someone else rides for free', '(Learn your lesson) Hoo-hoo!', '(Refuel your mind before some turkey blows out your flame)', 'Liberian girl, you came and you changed my world', 'A love so brand new', 'Liberian girl, you came and you changed me, girl', 'A feeling so true', 'Liberian girl, more precious than any pearl', \"Your love's so complete\", 'Liberian girl, you kiss me, then, ooh, the world', 'You do this to me', \"I won't give you reason to change your mind\", \"(I can't sit still, you thrill me, baby, be mine)\", 'You are all the future that I desire', 'Girl, I need to hold you', \"Share my feelings in the heat of love's embrace\", \"Show you all the passion burnin' in my heart today\", \"It's never gonna fade\", \"There'll be no more mountains for us to climb\", \"(I can't be still, you thrill me, baby, be mine)\", 'This will be a love lasting for all time', 'Girl, you got to hold me', 'We can touch the sky and light the darkest day', 'Hold me, only you and I can make sweet love this way', \"There's no more I can say\", 'I am the damned, I am the dead', 'I am the agony inside dying head', 'This is injustice, woe unto thee', 'I pray this punishment would have mercy on me', 'Feels like a fire that burns in my heart', 'Every single moment that we spend apart', 'I need you around for every day to start', \"I haven't left you alone\", 'Something about you, the stare in your eyes', \"Everything I'm looking for I seem to find\", 'All this time away is killing me inside', 'I need your love in my life', 'Fought in a battle where nobody won', 'Left ourselves a mountain to be overcome', \"You can't run away, the past is said and done\", 'I need us to carry on, oh-oh-oh', \"Hold my hand, feel the sweat, yes, you've got me nervous yet\", 'Let me groove, let me soothe, let me take you on a cruise', \"There's imagination I bet you've never been there before\", 'Have you ever wanted to dream about those things you never known?', 'At night when the stars shine', \"I pray in you I'll find a love so true (Mmm)\", 'When morning awakes me, will you come and take me?', \"I'll wait for you\", \"You know how I feel (Ah), I won't stop until\", 'I hear your voice saying, \"I do\" (I do)', \"This thing can't go wrong, this feeling's so strong\", \"Well, my life ain't worth living if I can't be with you\", \"I've been to Naples, and I\", \"I've been to Georgia, and I\", 'Da-ni-na, da-nan-da, di-de-da', \"I've been to Estonia, and I\", \"I've been to the ocean, and I\", 'Da-nan-na, da-nan-na, di-de-da', 'Ah, tired of injustice', 'Tired of the schemes', \"The lies are disgustin'\", 'So what does it mean? Damn it', \"Kickin' me down\", 'I got to get up, ah', 'As jacked as it sounds', 'The whole system sucks, damn it', 'Hee, hoo-hoo (*screams*)', 'Peek in the shadow (Hoo-hoo!)', 'I come into the light (Hee-hee!)', \"If you tell me I'm wrong (Hee-hee!)\", \"Then you better prove you're right\", \"And you're sellin' out souls\", 'But I, I care about mine', \"I've got to get stronger\", \"And I won't give up the fight\", \"Our love's an ocean\", \"Give me a notion 'cause\", \"You know I'll never part\", 'Our love goodbye', 'Our love a season', \"Give me a reason 'cause\", \"You know I'll never part\", 'Our love goodbye', \"And together, we'll fly\", \"I'll give you my heart\", 'No place too far for us', \"We don't need it\", 'Our love’s an ocean', 'Give me a notion ’cause', \"You know I'll never see\", 'A thing to see', 'I love a reason', 'Give me the truesome ‘cause', \"You know I'll never part\", \"Our love's a goodbye\", \"And together, we'll fly\", \"I'll give you my heart\", '(Give you my heart)', 'No place too far for us', \"We don't need it\", 'Ignorance of people purchasing diamonds and necklaces', 'And barely able to keep the payments up on their lessons', \"And enrolled in a class and don't know who the professor is\", 'How low people go for the dough and make a mess of things?', 'Kids are murdering other kids for the fun of it', 'Instead of using their mind or their fist, they put a gun in it', \"Wanna be a part of a clique, don't know who's runnin' it\", \"Tragedy on top of tragedy you know it's killin' me\", \"So many people in agony, this shouldn't have to be\", 'Too busy focusing on ourselves and not His Majesty', 'There has to be some type of change for this day and age', 'We gotta rearrange and flip the page', \"Livin' encased like animals and cannibals\", \"Eatin' each other alive just to survive the nine to five\", 'Every single day is trouble while we struggle and strive', \"Peace of mind's so hard to find\", 'Problems, complications and accusations', 'Dividing the nations and races of empty faces, a war is taking place', 'No substitution for restitution, the only solution for peace', 'Is increasing the height of your spirituality', 'Masses of minds are shrouded, clouded visions', \"Deceptions and indecision, no faith or religion, how we're livin'\", \"The clock is tickin', the end is comin', there'll be no warnin'\", 'But we live to see the dawn', \"We're disconnected from love, we're disrespectin' each other\", \"Whatever happened to protectin' each other?\", 'Poisoned your body and your soul for a minute of pleasure', \"But the damage that you've done is gonna last forever\", 'Babies being born in the world already drug addicted and afflicted', 'Family values are contradicted, ashes to ashes and dust to dust', \"The pressure is buildin' and I've had enough\", 'Problems, complications and accusations', 'Dividing the nations and races of empty faces, a war is taking place', 'No substitution for restitution, the only solution for peace', 'Is increasing the height of your spirituality', 'Masses of minds are shrouded, clouded visions', \"Deceptions and indecision, no faith or religion, how we're living\", \"The clock is ticking, the end is coming, there'll be no warning\", 'But we live to see the dawn', \"You're beautiful, you're wonderful, incredible, I love you so\", \"You're beautiful\", 'Each moment spent with you is simply wonderful', \"This love I have for you, girl, it's incredible\", \"And I don't know what I'd do if I can't be with you\", 'The world could not go on, so every night I pray', 'If the Lord should come for me before I wake', \"I wouldn't wanna go if I can't see your face, can't hold you close\", 'What good would Heaven be?', 'If the angels came for me, I\\'d tell them, \"No\"', 'Unthinkable', \"Me sittin' up in the clouds and you are all alone\", \"The time might come around when you'd be movin' on (Movin' on)\", \"I'd turn it all around and try to get back down to my baby girl\", \"Can't stand to see nobody kissin', touchin' her\", \"Couldn't take nobody lovin' you the way we were\", 'What good would Heaven be?', 'If the angels come for me, I\\'d tell them, \"No\"', 'I am your friend through thick and thin', \"We need each other, we'll never part\", 'Our love is from the heart', 'We never say, \"I don\\'t need you\"', 'We are forever', \"Wonder this time where she's gone\", \"Wonder if she's gone to stay\", \"Ain't no sunshine when she's gone\", \"And this house just ain't no home\", 'Anytime she goes away', '(Anytime she goes away) Mmm', \"Ain't no sunshine when she's gone\", \"(Ain't no sunshine when she's gone)\", 'Only darkness every day', '(Only darkness every day)', \"Ain't no sunshine when she's gone\", \"And this house just ain't no home\", 'Anytime she goes away', '(Anytime she goes away)', 'I thought she had to have it', 'Since the first time she came', 'Who knows the situation', 'Mysteries do remain', 'And now, I wonder why', 'I break down when I cry', 'Is it something I said', 'Or is it just a lie?', 'Is it just a lie', 'I try so hard to love you', 'Some things take time and shame', 'I think the whole world of you', 'Your thoughts of me remain', \"I'll play the fool for you\", \"I'll change the rules for you\", \"Just say it and I'll do\", 'Just make this dream come true', 'Make a dream come true', 'I tried to mastermind it', 'By saying let you be', 'But everytime I did it', 'The hurt came back at me', 'I told you that I need you', 'A thousand times and why', 'I played the fool for you', 'And still, you said goodbye', 'Still, you said goodbye', 'Look to Heaven', 'An Angel appears', 'To love and protect us', 'Through all of our tears', 'And the gateway to peace', 'It stands open wide', 'And it looks like we fall', 'And it burns like a flame', 'Any ground that I claim', 'My life will never be the same', \"'Cause girl, you came and changed\", 'The way I walk', 'The way I talk', 'I cannot explain the things I feel for you', \"But girl, you know it's true\", 'Stay with me, fulfill my dreams', \"And I'll be all you'll need\", 'H to the izzo', 'Make ya leave your Jerky Boy like Frank Rizzo', 'My neck and back', 'Jigga voice his music, forget the track', 'Clap, clap, clap, clap', \"Before we lose it, Trackmasters bring it back, let's go\", 'In time I knew that love would bring', 'This happiness to me', 'I tried to keep my sanity', 'I waited patiently', 'Girl, you know it seems', 'My life is fully complete', 'Our love is true because of you', \"You're doin' what you do\", \"Oh, oh, oh, oh, who'd think that I (Oh)\", 'Have finally found the perfect love I searched for allmy life', '(Searched for all my life)', \"Oh, oh, oh, oh, who'd think I'd find\", '(Whoa...oh...oh...)', \"Such a perfect love that's so right (Whoa, girl)\", '(Ooh-ooh) And when you think of trust, does it lead you home (Oh, ah-ah)', \"To a place that you only dream of when you're all alone?\", \"(Ooh-ooh) And you can go by the feel 'stead of circumstance\", \"But the power's in believin', so give yourself a chance\", 'You hear the door slam', \"And realize there's nowhere left to run\", 'You feel the cold hand', \"And wonder if you'll ever see the sun\", 'You close your eyes', 'And hope that this is just imagination (Girl)', 'But all the while', 'You hear a creature creepin’ up behind', \"You're out of time\", \"They're out to get you\", \"There's demons closing in on every side (Ooh)\", 'They will possess you', 'Unless you change that number on your dial', 'Now is the time', 'For you and I to cuddle close together, yeah', 'All through the night', \"I'll save you from the terror on the screen\", \"I'll make you see\", 'All you got to do is walk away and pass me by', \"Don't acknowledge my smile\", 'When I try to say hello to you, yeah', 'And all you gotta do is not answer my call', \"When I'm tryna get through\", \"Keep me wonderin' why when all I can do is sigh\", 'I just wanna touch you', \"All I got to say is that I must be dreamin', it can't be real\", \"You're not here with me\", 'See, but I can feel you near to me, yeah', 'I caress you, let you taste a just so blissful listen', 'I would give you anything, baby', 'Just make my dreams come true', 'Oh, baby, you give me butterflies', \"You know I can't get away from you, girl\", \"(You've got me shakin')\", 'I need all of the things you do, girl', \"(My body's aching)\", 'Come on, baby, get up and rock it to the rhythm', 'Put out your heart to me', 'And lady, let me set you free', 'I got a heart beating just for you, girl', \"(You've got me shakin')\", \"I've tried all, but I can't get you, girl\", \"(My body's aching)\", 'Come on, baby, get up and rock it to the rhythm', '(Rock it, baby, hoo!)', 'Put out your heart to me', 'And lady, let me set you free (Let me set you free, girl)', 'Have you seen my childhood?', \"I'm searching for that wonder in my youth\", 'Like pirates in adventurous dreams', 'Of conquest and kings on the throne', 'Before you judge me, try hard to love me', 'Look within your heart, then ask', 'Have you seen my childhood?', 'Have you seen my childhood?', \"I'm searching for that wonder in my youth\", 'Like fantastical stories to share', 'The dreams I would dare, watch me fly', 'Before you judge me, try hard to love me', \"The painful youth I've had\", 'Heard you woe a loser', \"But it seems you that don't know the things I know\", \"And if you are believing don't repent that you will\", 'Know where I go', 'I heard you woe a loser', \"But don't say that you must get all the time (Hurt so many times)\", \"And don't be just pretending that it's all knowing\", 'Love is here inside', 'Can it be I stayed away too long?', 'Did I leave your mind when I was gone?', \"It's not my thing trying to get back\", \"But this time, let me tell you where I'm at\", \"You don't have to worry 'cause I'm coming (Ooh-ooh-ooh)\", 'Back to where I should have always stayed (Ooh-ooh-ooh)', \"And now, I've learned the meaning to your story (Ooh-ooh)\", \"And it's enough love for me to stay\", 'Can it be I stayed away too long?', 'Did I leave your mind when I was gone?', \"Well, it's not my thing trying to get back\", \"But this time, let me tell you where I'm at\", \"Please don't close the door to our future (Ooh-ooh-ooh)\", \"There's so many things we haven't tried (Ooh-ooh-ooh)\", 'I will love you better than I used to (Ooh-ooh)', 'And give you all the love I have inside', '(Ah) What you gonna do?', \"'Cause I'm gonna get you\", 'Nowhere to run, nowhere to hide', 'All the things you said', \"And the things you've done to me\", 'You can no longer make me cry', 'You tricked me nine-to-five', \"Lovin' you's a crime\", \"People tellin' me that you got another guy\", \"I've been abused\", 'Watch me light the fuse', \"Said you'd be my wife, nothin' but big lies\", 'Every little swallow, every chick-a-dee', 'Every little bird in the tall oak tree', 'The wise old owl, the big black crow', 'Flappin\\' their wings singin\\', \"Go, bird, go\"', 'Pretty little raven at the bird-band stand', 'Taught him how to do the bop and it was grand', \"They started goin' steady and a-bless my soul\", 'He out-bopped the buzzard and the oriole', 'Pretty little raven at the bird-band stand', 'Taught him how to do the bop and it was grand', \"Started goin' steady and a-bless my soul\", 'He out-bopped the buzzard and the oriole', 'You see yourself in the mirror, ah', \"And you don't like what you see, ooh\", \"And things aren't gettin' much clearer\", \"Don't you think it's time you go for a change? Oh\", \"Don't waste your time on the past, no, no\", \"It's time you look to the future, oh\", \"It's all right there if you ask\", 'This time, if you try much harder', 'You will be the best that you can be, oh', 'If I could tear down these walls that keep you and I apart', 'I know I could claim your heart and our perfect love will start', \"But, girl, you just won't approve of the things that I do\", \"When all I do is for you, but still, you say it ain't cool\", \"Now, many times I've told you of all the things I would do\", \"But I can't seem to get through no matter how I try to\", \"So tell me, how does it seem that you ain't checking for me?\", 'When I know that I could be more than you could ever dream', \"Yo, mami, stop the frontin', I'm real with mine\", \"All the things that I promised, I'll fulfill in time\", 'The chains and the bracelet, got the realest shine', \"So many trips, you'll have jetlag and still be fine (Come on now)\", \"He can trip, but this money ain't long enough (Uh-huh)\", \"He can spit, but his game ain't strong enough (Uh-huh)\", \"Now, the way you resisting, this ain't cool (For real)\", \"It's like nothing seems to work, she's invincible (Yeah, yeah)\", 'Come to the place, shocktacy', 'And you know damn well you know what I mean', 'Hot in the face, one to three', \"Like a pleasure trip like you've never seen\", 'Uh-huh!', 'Satin lace and a paisley cut top', 'The girl is wasting over', \"'Cause she knows she looks hot\", \"She's got position, she's got just what it takes\", 'Got a mojo in her pocket', 'Got it ready just in case', 'Stories buried and untold', 'Someone is hiding the truth, hold on', 'When will this mystery unfold?', 'And will the sun ever shine', \"In the blind man's eyes when he cries?\", \"People laugh when they're feeling sad\", \"Someone is takin' a life, hold on\", 'Respect to believe in your dreams', 'Tell me, where were you', 'When your children cried last night?', 'Faces fill with madness, oh', 'Miracles unheard of, hold on', 'Faith is found in the winds', 'All we have to do', 'Is to reach for the truth, the truth', 'Out on the floor', \"There ain't nobody there but us\", 'Girl, when you dance', \"There's a magic that must be love\", 'Just take it slow', \"'Cause we got so far to go\", \"Now I'm just wondering why you think\", 'That you can get to me with anything?', \"Seems like you'd know, by now, when and how I get down\", \"And with all that I've been through, I'm still around\", \"Now, you can't stop me, even though you think\", \"That if you block me, you've done your thing\", 'And when you bury me underneath all your pain', \"I'm steady laughing, ha, while surfacing\", 'A lime to a lemon, my D.C. women', \"Bringing in ten G minimums to condos with elevators in 'em\", \"Vehicles with televisions in 'em\", 'Watch they entourage turn yours to just mirages', \"Disappearing acts, strictly .9's and MAC's\", 'Killers be serial, Copperfield material', 'My dreams is vivid, work hard to live it', 'Any place I visit, I got land there', 'How can players stand there and say I sound like them? Hello', \"Push wigs back and push six Coupes that's yellow\", 'Plus clips that expand from hand to elbow', \"Spray up your Day's Inn, any telly you in\", \"Crack baggin', sick of braggin' how my mink be draggin'\", \"Desert E's, street sweepers inside the Beamer wagon\", 'I rely on Bed-Stuy to shut it down if I die', \"Put that on my diamond bezel, you're messing with the devil, what?\", \"Et dans cet univers, sans toi c'est un enfer, ne t'en vas pas\", \"Et pouvoir t'embrasser, j'en tremble rien que d'y penser, tout te donner\", \"Les femmes d'avant toi, ne comptent même pas, j'ai oublié tout ton passé (Passé)\", 'La terre peut trembler, la guerre éclater', 'Je supporterai tout, écoute-moi mon amour', \"I never knew but I was walkin' the line (Hee!)\", '\"Come go with me\", I said, \"I have no time\" (Hee-hee!)', 'She said \"Don\\'t you pretend we didn\\'t talk on the phone\" (Hee!)', \"My baby cried, she left me standin' alone (Hee! Hee!)\", \"I never knew but I was livin' in vain (Hee!)\", 'She called my house, she said \"You know my name\"', '(She called me!)', '\"And don\\'t you pretend you never did me before\"', \"(Don't you, don't you, do it!) (Hee!)\", 'With tears in her eyes, my baby walked out the door', \"(Don't you, don't you, don't you) (Hee! Hee! Hee! Hee!)\", 'Hey, pretty baby with the high heels on', \"You give me fever like I've never ever known\", \"You're just a product of loveliness\", 'I like the groove of your walk, your talk, your dress', 'I feel your fever from miles around', \"I'll pick you up in my car and we'll paint the town\", 'Just kiss me, baby, and tell me twice', \"That you're the one for me\", \"I like this feelin' you're givin' me\", \"Just hold me, baby, and I'm in ecstasy\", \"Oh, I'll be workin' from nine to five\", 'To buy you things to keep you by my side', \"I've never felt so in love before\", \"Just promise, baby, you'll love me forever more\", \"I swear I'm keepin' you satisfied\", \"'Cause you're the one for me\", \"I'm born to lose, you know it's true\", \"And here I stand (Ooh-ooh), I'm losin' you\", 'I am a loser, I am a loser', 'You are the one to let me know', 'You needed me, now I have to go', 'I am a loser (Alright), I am a loser', \"I am a fool, you know it's true\", \"I believed in you (Ooh-ooh), now you don't even try\", 'I am a loser (Alri-), I am a loser (Wh-what?)', 'What foolish kind of guy am I?', 'You break my heart, I wonder why', 'I am a loser (Alright), I am a loser (Ooh-ooh, alright)', 'He wear no shoeshine', \"He's got toe jam football\", \"He's got monkey finger\", 'He shoot Coca-Cola', 'He say, \"I know you, you know me\"', '\"One thing I can tell you is you got to be free\"', 'He bag production', \"He's got walrus gumbo\", \"He's got Ono sideboard\", 'He one spinal clacker', \"He's got feet down through his knees\", 'Hold you in his arm till you can feel his disease', 'He roller coaster', \"He's got early warning\", \"He's got muddy water\", 'He one mojo filter', 'He say \"One and one and one is three\"', \"Got to be good looking 'cause he's so hard to see\", 'This time going to do my best to make it right', \"Can't go on without you by my side, hold on\", 'Shelter, come and rescue me out of this storm', 'And out of this cold, I need someone', 'Oh, why oh, why, why, why...', '(If you see her)', 'Tell her this for me', 'All I need is...', \"Searching for that one who's going to make me whole\", 'Help me make these mysteries unfold, hold on', 'Lightning about to strike and rain only on me', \"Hurt so bad, sometimes, it's hard to breathe\", 'Oh, why, why', '(If you see her)', 'Tell her this from me', 'All I need is...', 'Only know wherever I go', \"We're as close as two friends can be\", 'There have been others', 'But never two lovers', 'Like music, music and me', 'Grab a song and come along', 'You can sing your melody', 'In your mind, you will find', 'A world of sweet harmony', \"Birds of a feather, we'll fly together\", 'Now, music, music and me', 'Music and me', 'It was Chicago 1945', 'Cubs lost that year, but Al Capone was found alive', 'They searched forty days, in the suburbs of the night', 'But they found him, alive', 'Alive', 'Young Joe DiMaggio hit his first home run', \"People gathered 'round, basking in the sun\", 'Three girls disappeared, on a cold windy night', 'It was so windy, joy had to be in the air (Hee hee)', \"People gather ‘round to see the world's fair\", 'It was so happy, but sad in the truth', 'So much is goin’ on', 'They didn’t know the girls were missing, missing', 'You can’t choose what they say, and nobody can (Hee hee)', \"Because on the of the Chicago Tribune, feature the world's fair\", \"Girl, didn't bother, you know it is the truth (Hoo hoo)\", 'It was Chicago 1945, Cubs lost that year', 'But Al Capone was found alive', 'Searched forty days, in the suburbs of the night', 'So much was goin’ on', 'They didn’t know the girls were missing, missing', 'Can’t choose what they say, nobody can', \"'Cause on the cover of the Chicago Tribune\", 'Feature the world’s fair (Hoo hoo)', \"They didn't bother, though it is the scene\", \"There's indication\", 'That someone else is standing on the ground', 'Across the nation', \"There's always people trying to pull you down\", 'Now is the time', 'For us to spend this evening close together', 'Deep in the night', \"We're holding on to someone else's dream\", \"Girl, can't you see?\", \"They're out to get you\", \"There ain't no issue acting like a fool\", 'Love can possess you', 'And make you see that heart is gonna move', 'High in the night', \"This magic's gonna keep us close together, yeah\", \"We'll start to fly\", \"'Cause this is the beginning of your life\", 'Baby, tonight', \"There's indication\", 'That someone else is standing on my ground', 'Across the nation', \"There's always people trying to pull you down\", 'Now is the time', 'For us to spend this evening close together', 'Deep in the night', \"We're holding on to someone else's dream\", \"Girl, can't you see?\", \"Hello, midnight lover, you're the one I adore\", \"And I'll be thinking of ya 'til the stars are no more\", \"If it's cloudy or blue, I'll stay here with you\", \"We'll make a wish and then we'll kiss, our love forever true\", \"Instead of going out to some restaurant, I'll stay here with you\", \"And the weatherman said, if you're not well, stay in bed\", \"'Cause I've been feelin' down and blue and it's cloudy in my head\", \"Instead of going out to some restaurant, I'll stay home in bed\", \"It's out of my hands\", \"It's out of my hands\", 'To think for two years, she was here', 'And I took her for granted, I was so cavalier', 'Now, the way that it stands', \"She's out of my hands\", \"And she's out of my life\", \"She's out of my life\", 'Damned indecision and cursed pride', 'Kept my love for her locked deep inside!', 'And it cuts like a knife', \"She's out of my life\", 'Speculate to break the one you hate', 'Circulate the lie you confiscate', 'Assassinate and mutilate', \"It's the hounding media in hysteria\", \"Who's the next, for you to resurrect?\", 'JFK exposed the CIA', 'Truth be told the grassy knoll', \"It's the blackmail story in all your glory\", 'In the hood, frame him if you could', 'Shoot to kill, to blame him if you will', 'If he dies, sympathize', 'Such false witnesses, damn self-righteousness', 'In the black, stab me in the back', 'In the face, to lie and shame the race', 'Heroine and Marilyn', \"It's the headline stories of all your glory\", 'You can shout out all you want to', \"'Cause there ain't no sin in folks all gettin' loud\", 'If you take the chance and do it', \"Then there ain't no one who's gonna put you down\", 'Gotta hide your inhibitions', 'Gotta let that fool loose deep inside your soul', 'Wanna see an exhibition (A-hee!)', 'Better do it now before you get too old', 'Lay back in my tenderness', \"Let's make this a night we won't forget\", 'Girl, I need your sweet caress, oh', 'Reach out to a fantasy', 'Two hearts in a beat of ecstasy', 'Come to me, girl', 'Girlfriend', \"I'm gonna show your boyfriend (Yeah)\", 'Show him (Woo-hoo)', \"The letters I've been savin' (Yeah)\", 'Show him how you feel inside', 'And how love could not be denied (Oh, no)', 'Girlfriend', 'You better tell your boyfriend (Yeah)', 'Tell him (Woo-hoo)', \"Exactly what we're doin' (Yeah)\", 'Tell him what he needs to know', 'Or he may never let you go, yeah', \"She's just a lover who's doin' me by\", \"It's worth the givin', it's worth the try\", 'You cannot cleave it or put it in the furnace', 'You cannot wet it, you cannot burn it', 'She wants to give it', \"It's just a feelin', you have to soothe it\", \"You can't neglect it, you can't abuse it\", \"It's just desire, you cannot waste it\", \"Then if you want it, then won't you taste it?\", 'She wants to give it', 'If you can get it, is it worth the try?', \"I really want it, I can't deny\", \"It's just desire, I really love it\", \"'Cause if it's achin', you have to rub it\", 'She wants to give it', 'Where did you come from, lady?', \"And ooh, won't you take me there?\", \"Right away, won't you, baby?\", \"Tenderoni, you've got to be\", 'Spark my nature, sugar, fly with me', \"Nothin' can stop this burnin' desire to be with you\", 'Gotta get to you, baby', \"Won't you come? It's emergency\", \"Cool my fire yearnin'\", 'Honey, come set me free', \"There's a thumping in the floor\", \"There's a creak behind the door\", \"There's a rocking in the chair\", \"But there's no one sitting there\", \"There's a ghostly smell around\", 'But nobody to be found', 'And a coffin in-lay open', \"Where a restless soul is spoiling, I don't understand it!\", \"There's a thumping in the floor\", \"There's a creak behind the door\", \"There's a rocking in the chair\", \"But nobody's sitting there\", \"There's a ghostly smell around\", 'But nobody to be found', 'And a coffin in-lay open', \"Where a restless soul is spoiling, don't understand it!\", \"I've been a victim of a selfish kinda love\", \"It's time that I realize\", 'There are some with no home', 'Not a nickel to loan', \"Could it be really me pretending that they're not alone?\", \"A willow deeply scarred, somebody's broken heart\", 'And a washed-out dream', 'They follow the pattern of the wind, ya see', \"'Cause they got no place to be\", \"That's why I'm starting with me\", \"All alone, she's in the ego zone\", \"The word is out that you're doin' wrong\", 'On the move, got fire in your shoes', 'By word of mouth, you are on the loose', \"You're livin' on sunset time (You're livin' on sunset time)\", '(Hoo!)', \"Feelin' bad, you're livin' much too fast\", \"The truth, the truth that you're on the pass\", \"In the raw, they don't know what you saw\", \"From word of mouth, you're breakin' every law\", 'On the go, got fever in your soul', 'You better not shout where you gonna go', \"Livin' hot, doin' what you should not\", \"The break's on me then what do you get\", \"We're livin' on sunset time (We're livin' on sunset time)\", '(Want that dime)', \"Shoot the breeze, you feel that she's the tease\", 'Your night is free, what you want to be?', \"Who's to trust when livin' dangerous?\", \"Tonight's your night, but this is what you lose\", \"Goin' town, you do it every time\", \"The word's got out that you're on the line\", 'On the move, got fever in your shoes', \"The night's on you, what are you gonna do?\", 'A revelation, fulfill the truth', \"The final message, we'll bring to you\", 'There is no danger, fulfill the truth', 'So come together, we need you', 'I was the clown and she was the dancer', \"We both knew it wouldn't work, but we took our chances\", \"What I can't recall is if there was a girl at all\", 'Or was it my imagination?', 'I still remember all of those faces', 'And now, all I have is memories, oh-woah', \"What have we've done to the world? Look what we've done\", 'What about all the peace that you pledge your only son?', 'What about flowering fields? Is there a time?', 'What about all the dreams that you said was yours and mine?', \"I never would have thought she was livin' like that\", 'Her words seemed so sincere', 'And when I held her near', 'She would tell me how she feels', 'It felt so real to me', 'This girl she had to be', 'An angel sent from Heaven just for me', 'In the middle of a village', 'Way in a distant land', 'Lies a poor boy with his broken toy', 'Too young to understand', 'Father comes home from work', \"And he's scared to death\", 'Mother cries for the kid, and the note she read', 'Father runs to the table, he said, \"What\\'s goin\\' on?\"', 'Mother cries desperately, \"Our little baby\\'s gone\"', 'She wrote that she is tired of stepdaddy using her', \"Sayin' that he'll buy her things, while sexually abusing her\", \"Just think that she's all alone, somewhere out on the street\", 'How will this girl survive?', \"She ain't got nothin' to eat\", \"Now, she's on the move, she's off to Hollywood\", \"She says she wanna be a star, she heard the money's good\", \"She gets off from the train station, the man is waitin' there\", '\"I\\'ll show you where the money is, girl, just let down your hair\"', \"He's taking her on the streets of Sunset Boulevard\", \"She's selling her body hot, girl, that will take you far\", \"The police come 'round the corner, somebody there, they told\", \"He's arresting this little girl\", \"Who's only twelve years old\", \"Don't walk away\", \"See, I just can't find the right thing to say\", 'I tried but all my pain gets in the way', 'Tell me what I have to do so you’ll stay', 'Should I get down on my knees and pray?', 'I close my eyes', 'Just to try and see you smile one more time', \"But it's been so long, now, all I do is cry\", 'Can’t we find some love to take this away?', \"'Cause the pain gets stronger every day\", 'Ah, ah, the word is out, ah', \"You're doin' it wrong, ah\", \"Gon' lock you up before too long, ah\", \"Your lyin' eyes gon' tell you right, ah\", \"So listen up, ah, don't make a fight, ah\", \"Your talk is cheap, you're not a man, ah\", \"You're throwin' stones to hide your hands\", 'Well Lord have mercy', 'Well Lord have mercy', 'Don\\'t be calling out \"Mercy me\"', \"Don't be calling down babe\", 'Said lord have mercy', 'Even worse the birthday', 'Don\\'t be calling out \"Mercy me\"', \"Don't be going down babe\", \"I don't understand the way you think\", \"Saying that she's yours, not mine\", 'Sending roses and your silly dreams', 'Really just a waste of time', \"Don't build your hopes to be let down\", \"'Cause I really feel it's time\", \"I know she'll tell you I'm the one for her\", \"'Cause she said I blow her mind\", 'Darkness falls across the land', 'The midnight hour is close at hand', 'Creatures crawl in search of blood', 'To terrorize your neighborhood', 'And whosoever shall be found', 'Without the soul for getting down', 'Must stand and face the hounds of hell', \"And rot inside a corpse's shell\", 'The demons squeal in sheer delight', \"It's you they spy, so plump, so right\", 'For though the groove is hard to beat', 'Yet still you stand with frozen feet', 'You try to run, you try to scream', \"But no more sun you'll ever see\", 'For evil reaches from the crypt', 'To crush you in its icy grip', 'The foulest stench is in the air', 'The funk of 40,000 years', 'And grisly ghouls from every tomb', 'Are closing in to seal your doom', 'And though you fight to stay alive', 'Your body starts to shiver', 'For no mere mortal can resist', 'The evil of the Thriller', \"I never thought she'd leave me here forever\", 'But who knows just what the future brings', \"And wouldn't you like to go with me?\", 'And she answered, \"No\" to me', 'Well, I guess I learned my lesson much too soon', 'I hope to make a change now for the better', 'Never letting fate control my soul', \"And I'm hoping that my prayers will see\", \"The day that she'll come back to me\", 'But I guess I learned my lesson much too soon, ooh-ooh', 'Nation to nation, all the world must come together', 'Face the problems that we see then maybe somehow we can work it out', 'I asked my neighbor for a favor, she said later', \"What has come of all the people, have we lost love of what it's about?\", \"I have to find my peace 'cause no one seems to let me be\", 'False prophets cry of doom, what are the possibilities?', \"I told my brother there'll be problems, times and tears for fears\", \"But we must live each day like it's the last\", 'Go with it, go with it', 'The world keeps changing, rearranging minds and thoughts', \"Predictions fly of doom, the baby boom has come of age, we'll work it out\", \"I told my brothers don't you ask me for no favors\", \"I'm conditioned by the system, don't you talk to me, don't scream and shout\", 'She prays to God, to Buddha, then she sings a Talmud song', 'Confusions contradict the self, do we know right from wrong?', 'I just want you to recognize me in the temple', \"You can't hurt me, I found peace within myself\", 'Go with it, go with it', 'Jam, jam, here comes the man', 'Hot damn, the big boy stands with an upper hand', \"Makin' funky tracks with my man Michael Jackson\", 'Smooth criminal hat, the man is Mike, so relaxed', 'Mingle, mingle, jingle in the jungle', \"Bum rushed the door, 3 and 4's in a bundle\", 'Execute the plan, first, I cooled it like a fan', 'Got with Janet, then with Guy, now with Michael', \"'Cause it ain't too hard to\", 'Like the loss of sunlight on a cloudy afternoon', 'Gone too soon', 'Like a castle built upon a sandy beach', 'Gone too soon', 'Like a perfect flower that is just beyond your reach', 'Gone too soon', 'Like a sunset dying with the rising of the moon', 'Gone too soon', \"There's a creaking in the floor\", \"There's a creak behind the door\", \"There's a rocking in the chair\", \"But nobody's sitting there\", \"There's a ghastly smell around\", 'But nobody to be found', 'And a coffin, it lay open', 'Where a restless soul is smoking', \"This time around, I'll never get bit\", 'Though you really wanna fix me, uh (Ah)', \"This time around, you're makin' me sick\", 'Though you really want to get me (Ah)', \"Somebody's out, somebody's out to get me\", 'They really want to fix me, hit me (Uh)', \"But this time around, I'm takin' no shit\", 'Though you really want to get me', 'You really want to get me', \"This time around, I'll never get bit\", 'Oh, you really want to get me (You really want to get me)', \"But this time around, I'm takin' no shit\", 'Though you really want to fix me (Uh, you really want to fix me)', \"Somebody's out, somebody's out to use me\", 'You really to use me and then falsely accuse me (Accuse me)', \"This time around, they'll take it like spit\", \"Though you really can't control me (Uh, you really can't control me)\", \"You know you can't control me, ugh\", 'Listen, I got problems of my own (Uh)', \"Flashin' cameras, taps on my phone (Uh-huh)\", 'Even in my home, I ain’t safe as I should be', \"Things always missin', maybe it could be (Uh)\", \"My friends, but they ain’t friends if they robbin' me\", \"Stoppin' me, from makin' a profit, see\", 'Apology shallow like the ocean (Uh-huh)', \"I guess I'll resort to gun-totin'\", \"If I was dead broke and smokin', I'd probably be by my lonesome\", \"I'ma kill a nigga, I ain’t joking, Indo smoke got me chokin' (Uh)\", \"I'm hopin' a fool come slippin', so I can blow him open\", 'This time around, I changed up my flow (Uh-huh)', 'Got rid of the Rotts, got Pits by the door (Uh)', 'A real set of peoples to watch my back (Uh-huh)', \"Stay away from strangers so I won't slack\", 'And I know my nigga Mike like that, baby (This time around, yeah)', 'You always knew just how to make me cry', 'And never did I ask you questions why', 'It seems you get your kicks from hurting me', \"There's a place in your heart\", 'And I know that it is love', 'And this place could much brighter than tomorrow', 'And if you really try', \"You'll find there's no need to cry\", \"In this place, you'll feel there's no hurt or sorrow\", 'If you want to know why', \"There's a love that cannot lie\", 'Love is strong, it only cares for joyful giving', 'If we try, we shall see', 'In this bliss, we cannot feel', 'Fear or dread, we stop existing and start living', 'We could fly so high', 'Let our spirits never die', 'In my heart, I feel you are all my brothers', 'Create a world with no fear', \"Together we'll cry happy tears\", 'See the nations turn their swords into plowshares', \"You're the one that I adore\", 'Just kiss me once, I wanna know you', 'Feel the vibe that I can feel in mine', 'If you are the one for me', 'Just tell me twice and I will see', 'The heart and soul of all the things I feel', 'Ooh, ooh, ooh-ooh', 'Yesterday was when I felt down', \"I start tryin' to make you think that I was around\", \"You know, life was just a thing, she don't pass the way I do\", 'Because I want to be', 'Yesterday was when I felt down', \"I start tryin' to make sense like I was around\", \"And was tryin' to make the way to see, what a thing I do\", \"You know 'cause I want to be\", 'As he came into the window', 'Was a sound of a crescendo', 'He came into her apartment', 'He left the bloodstains on the carpet', 'She ran underneath the table', 'He could see she was unable', 'So she ran into the bedroom', 'She was struck down, it was her doom', 'So they came in to the out way', 'It was Sunday, what a black day', 'Every time I tried to find him', \"He's leaving no clues left behind him\", 'And he had no way of knowing', 'Of the suspect or what to expect', 'Mouth-to-mouth resuscitation', 'Sounding heartbeats, intimidations', 'Just the other night, I thought I heard you cry', 'Asking me to come and hold you in my arms', 'I can hear your prayers, your burdens, I will bear', 'But first, I need your hand, then forever can begin', 'I was alone in the dark when I met you', '(Ah-ooh-ooh)', 'You took my hand and you told me you loved me', '(Ah-ooh-ooh)', \"It won't be long 'til we make vows, I bet you\", '(Ah-ooh-ooh)', 'I thank the Heavens above that I met you', '(Ah-ooh-ooh)', 'Here, abandoned in my fame', '(Armageddon of the brain)', \"KGB was doggin' me (Hee)\", '(Take my name and just let me be)', 'Then a beggar boy called my name (Hee)', '(Happy days will drown the pain)', 'On and on and on, it came and the rain and again and again', '(Take my name and just let me)', 'I took my baby on a Saturday bang', 'Boy, is that girl with you?', \"Yes, we're one and the same\", 'They print my message in the Saturday sun', 'I had to tell \\'em, \"I ain\\'t second to none\"', 'Protection for gangs, clubs, and nations', 'Causing grief in human relations', \"It's a turf war on a global scale\", \"I'd rather hear both sides of the tale\", \"See, it's not about races, just places, faces\", \"Where your blood comes from, it's where your space is\", \"I've seen the bright get duller\", \"I'm not gonna spend my life being a color\", \"Deceitful eyes, she's got those come get me thighs\", 'She only knows how low that she can go', 'She speaks the lines that can control my mind', 'Wherever she goes, I know my eyes follow', 'She blew a kiss, I swear that it was meant', 'Only for me, then spoke with her body', 'Her only goal is just to take control', \"And I can't believe that I can't tell her no\", 'She plays the game with such an innocent face', \"I didn't know heartbreaking was her case\", 'Her actions confess and put me through the test', 'I was surprised that I was caught inside', \"Now, she's thinking that I will never know\", \"And she'll keep playing until I let her go\", 'But I hope in time that she will finally realize', \"I'm onto her game and she'll get played the same\", \"I can't blame her, I thought it was love with this game, huh? (Huh?)\", \"When you dealing with emotions, it's pain ma (Mm-mm) (Yeah, alright)\", \"Take a closer look, you're dealing with a stranger\", \"I can't change her, now (Mm)\", \"The heart burner one place then you'll see (Right)\", \"It won't heal from Pepcid AC (Mm-mm) (Uh-huh)\", 'Ball-hard player, she a star player', \"I need LensCrafters, I ain't seen the heartbreaker, come on (Take it from me)\", \"Helpless and hopeless, that's how I feel inside\", \"Nothing's real, but all is possible if God is on my side\", \"When I'm with you, I'm in the light where I can not be found\", \"It's as though I am standing in the place called 'Hallowed Ground'\", 'There I am, so all alone', \"And I'm so sad and lonely\", 'Tell me, what will I do', \"I can’t reveal, I’m holdin' on\", 'I want you still to love me', 'I feel I am your fool', \"They say I'm different, they don't understand\", \"But there's a bigger problem that's much more in demand\", \"You've got world hunger, not enough to eat\", \"So there's really no time to be trippin' on me\", \"You've got school teachers who don't wanna teach\", \"You've got grown people who can't write or read\", \"You got strange diseases, ah, but there's no cure\", \"You got many doctors that aren't so sure\", 'So tell me', \"We've got more problems than we'll ever need\", 'You got gang violence and bloodshed on the street', 'You got homeless people with no food to eat', 'With no clothes on their back and no shoes for their feet', \"We've got drug addiction in the minds of the weak\", \"We've got so much corruption, police brutality\", \"We've got streetwalkers walking into darkness\", 'Tell me, what are we doing to try to stop this?', 'If you smile with your fear and sorrow', 'Smile, and maybe tomorrow', \"You'll find that life is still worthwhile\", 'If you just', 'Light up your face with gladness', 'Hide every trace of sadness', 'Although a tear', 'May be ever so near', \"That's the time you must keep on trying\", \"Smile, what's the use of crying?\", \"You'll find that life is still worthwhile\", 'If you just', 'Smile, though your heart is aching', \"Smile, even though it's breaking\", 'When there are clouds in the sky', \"You'll get by\", 'If you smile through your fear and sorrow', 'Smile, and maybe tomorrow', \"You'll find that life is still worthwhile\", 'If you just smile', \"That's the time you must keep on trying\", \"Smile, what's the use of crying\", \"You'll find that life is still worthwhile\", 'If you just smile', 'One day in your life', \"When you find that you're always waiting\", 'For a love we used to share', \"Just call my name and I'll be there\", 'One day in your life', \"When you find that you're always lonely\", 'For a love we used to share', \"Just call my name and I'll be there\", \"You're pretty, baby, are your kisses for your lover?\", \"I really get it when you're next to me, yeah yeah\", \"I'm so excited how you give it all your lovin'\", \"I got it comin' and it's ecstasy\", \"Streetwalkin' baby\", \"'Cause every day, I watch you paint the town so pretty\", \"I see you comin' in and off on my thought, yeah, yeah\", \"You don't believe me then you can ask my brother\", \"'Cause every day at six, home alone\", \"I hear you walkin' 'cause your body's talkin' to me\", 'I chase you every step of the way, yeah, yeah', 'An invitation to some faraway hot island', 'If I can show you, baby, home with me', 'I have to tell you that you give me strong hot fever', \"My every thought is you and that's a fact, yeah, yeah\", \"I'd like to take you places, how about New York City?\", 'Or Paris, France? What do you think of that?', 'This is it, here I stand', \"I'm the light of the world, I feel grand\", 'Got this love, I can feel', 'And I know, yes, for sure, it is real', 'This is it, I can say', \"I'm the light of the world, runaway\", 'We can feel this is real', \"Every time I'm in love, that, I feel\", 'This is it (This is it), I can feel (I can feel)', \"I'm the light of the world, this is real\", 'Feel my song, we can say', 'And I tell you I feel that way', 'He got kicked in the back', 'He say that he needed that', 'He hot willed in the face', 'Keep daring to motivate', 'He say, one day, you will see', 'His place in world history', 'He dares to be recognized', \"The fire's deep in his eyes\", \"Don't let no one get you down\", 'Keep moving on higher ground', 'Keep flying until', 'You are the king of the hill', 'No force of nature can break', 'Your will to self-motivate', 'She say this face that you see', 'Is destined for history', \"She was only playin' with this guy\", 'Did you notice this, all gone?', 'She seemed to be on a mission, bound up in his smile', 'Did you notice this? Oh, Lord', \"She was only missin', lovin' this guy\", 'Gonna get through this, oh man (Ooh-ooh)', 'But she seemed to up and left me, what an awful blow', 'Can you tell me, which way did she go?', \"I've lost my baby two years ago\", 'Have you seen her? (Alright, yeah)', 'Well, she seemed to up and left me', 'What an awful blow', 'Can you tell me, which way did she go? (Ooh, girl)', 'I got to feeling of giving you, I', \"Won't jump back\", 'She won’t let it', 'I got a feeling', 'Like nothing around', \"And I'm so damn, so damn glad about it\", \"She don't smoke, she don't do weed\", \"She don't hash, she don't dope\", \"But she's a liar\", 'I got a feeling like nothing around', \"And I'm so damn, so damn glad about it\", \"She's serious\", \"Makin' me delirious, I'm curious\", 'Next thing I know what was hitting us', 'Enjoying the animal magnetism', \"She's too hot to touch, too cool for criticism\", 'Each and every things like a mini movie being filmed', \"'Cause I'm the captain and our body's the helm\", \"I'm shivering, quivering\", \"I smile while I'm delivering\", 'Get some love and passion', \"It's never been so intense and spiritual like\", 'In sense of above, against and all off in silence', 'Then I scream like a man out of his wits', \"'Cause that's how serious her serious effect is\", 'Some of you still wonder why one of my friends had to die', \"To get a message across, that yet you haven't heard\", 'My friend was chased and confused like many others I knew', 'But on that cold winter night, my pride was snatched away', \"She get no second chance, she's ridiculed and harassed\", 'Please tell me why? (Hold on) (Mercy)', \"Now, there's a lesson to learn, respect's not given, it's earned\", \"Stop maliciously attackin' my integrity\", \"Hot legs all into the room, she's got the\", 'One! (Hot cheaper)', \"Netted stockings, purple panties that show, she's got\", \"Bad lips, with a ring In her nose, she's got\", \"Busted butts, all into the seat, she's got\", 'I was thinking that she try to be mean', \"Hot lips all up to her neck, she's got\", \"Funky finger but she's giving him sex, she's got\", \"Bad legs all into the truth, she's got\", \"Such a feeling but she's singing the blues, she's got\", 'Hotfix, meenie minee mo', \"She doesn't play piano, but she did rock and roll\", \"Hot legs all into the room, she's got\", \"Musty water, hot cheaper perfume, she's got\", \"Netted stockings, purple panties that show, she's got\", \"Bad lips, with a ring in her nose, she's got\", 'Monkey busty all into the seat', \"She wants to be a movie star, she'd sell on TV\", 'Weary, tell me will you hold me?', 'When wrong, will you scold me?', 'When lost will you find me?', 'But they told me a man should be faithful', 'And walk when not able', \"And fight 'til the end, but I'm only human\", 'Everyone came to see', 'The girl that now is dead', 'So blind stare the eyes in her head', 'And suddenly a voice from the crowd said', 'This girl lived in vain', 'Her face bear such agony, such strain', 'Father left home, poor mother died', 'Leaving Susie alone', \"Grandfather's soul too had flown\", 'No one to care', 'Just to love her', 'How much can one bear', 'Neglecting the needs in her prayers', 'Got a hot foot', 'Better freak across the floor', 'Join the party', \"And we'll keep you movin', that's for sure\", 'Are you ready?', \"Won't you rock across the room?\", \"Got a feelin'\", \"That we're gonna raise the roof off soon\", 'When you sit there addressing', 'Counting your blessings', 'Biding your time', 'When you lay me down sleeping', 'And my heart is weeping', \"Because I'm keeping a place\", 'I took my baby on a riverboat cruise', 'And she was well aware', \"I was excited 'bout the way that things could've been\", \"She said that I don't care\", 'I wore a face no one could recognize, in disguise', 'Someone called out my name', \"They thought of takin' pictures, autographs, then they grabbed\", 'My joy had turned to pain', 'I am a cover of a magazine, what a scene', 'They know my every news', '\"Just sign your name on the dotted line, you\\'ll be fine\"', 'That always bothers me', 'Get in your car, you want to take a ride, look behind', \"Someone is followin' you\", 'You try to get away, you turn real fast, but too bad', 'They know your every move', \"I'd like to take some time and get away, then they say\", '\"Is that boy still alive?\"', \"The weak, they'd really start to take the pills, what a thrill\", 'Only the strong survive', '\"Everything will be alright\", he assures her', \"But she doesn't hear a word that he says\", \"Preoccupied, she's afraid\", \"Afraid what they've been doing's not right\", \"He doesn't know what to say, so he prays\", 'Whatever, whatever, whatever', \"He's working day and night, thinks he'll make her happy\", 'Forgetting all the dreams that he had', \"He doesn't realize it's not the end of the world\", \"It doesn't have to be that bad\", 'She tries to explain, \"It\\'s you that makes me happy\"', 'Whatever, whatever, whatever', 'Lovely is the feeling now', \"Fever, temperature's rising now\", 'Power (Oh, power) is the force, the vow', 'That makes it happen', 'It asks no questions why, ooh', 'So get closer (Closer now) to my body now', 'Just love me', \"'Til ya don't know how, ooh\", 'Touch me and I feel on fire', \"Ain't nothing like a love desire, ooh\", \"I'm melting (I'm melting) like hot candle wax\", 'Sensation (Ah, sensation)', \"Lovely where we're at, ooh\", 'So let love take us through the hours', \"I won't be complaining, ooh\", \"'Cause this is love power, ooh\", 'Heartbreak enemy despise', 'Eternal (Oh, eternal) love shines in my eyes, ooh', 'So let love take us through the hours (Oh, let love)', \"I won't be complaining, hoo (No, no)\", \"'Cause your love is alright, alright, ooh\", \"I'm like your dog on a chain\", 'My thoughts of you still remain', 'You signed the house in your name, listen!', 'I got the pill you should take', 'A bad disease I could shake', \"You're every doctor's mistake, baby! (Yeah)\", \"So you call it trust, but I say it's just\", \"In the devil's game of greed and lust\", \"They don't care, they'd do me for the money\", \"They don't care, they use me for the money\", 'So you go to church, read the holy word', \"In the scheme of life, it's all absurd\", \"They don't care, they'd kill for the money\", 'Do or dare, the thrill for the money', \"You're saluting the flag, your country trusts you\", 'Now you\\'re wearing a badge, you\\'re called the \"Just Few\"', \"And you're fighting the wars, a soldier must do\", \"I'll never betray or deceive you, my friend, but\", 'Insurance? Where do your loyalties lie?', \"Is that your alibi? (Ah) I don't think so\", \"You don't care, you'd do her for the money\", \"Say it's fair, you sue her for the money\", 'Want your pot of gold, need the Midas touch', \"Bet you sell your soul 'cause your god is such\", \"You don't care, you kill for the money\", 'Do or dare, the thrill for the money', 'Are you infected with the same disease of lust, gluttony and greed?', 'Then watch the ones with the biggest smiles, the idle jabbers', \"'Cause they're the backstabbers\", 'Moon shines down on this good evening', 'One warm kiss in the cold night air', \"And for this good love I'm receiving\", \"I'd go anywhere just as long as you were there\", 'They wanna get my ass dead or alive', 'You know he really tried to take me down by surprise', 'I bet he missioned with the CIA', \"He don't do half what he say\", 'He out shock in every single way', 'He stop at nothing just to get his political say', \"He think he hot 'cause he's BSTA\", 'I bet he never had a social life anyway', 'You think he brother with the KKK?', 'I bet his mother never taught him right anyway', 'He want your vote just to remain TA', \"He don't do half what he say\", \"Don't need no fortune or fame\", \"I just want you close to me (There's no mystery)\", 'No time for castles in space', \"Or living in make believe (Don't you just see)\", \"Ooh, I'd trade it all for just a rainy day\", \"As long as I know you'll be there, girl\", 'Lay back in my tenderness', \"Let's make this a night we won't forget\", 'Girl, I need your sweet caress, oh', 'Reach out to a fantasy', 'Two hearts in a beat of ecstasy', 'Come to me, girl', \"You're not like anybody I ever knew\", \"But that don't mean that I don't know where we are\", 'And though I find myself attracted to you', \"This time, I'm trying not to go too far, 'cause\", \"And though I'm tryin' not to look in your eyes\", 'Each time I do, they kind of burn right through me', \"Don't wanna lay down in a bed full of lies\", 'And yet, my heart is sayin\\', \"Come and do me\"', \"I told the doctor that I'm broken-hearted\", 'And my temperature has risen to a hundred and three', \"Why don't you write me back and save me girl?\", \"Tell me what I wanna hear, like you're missin' me, but\", \"You're fearing me 'cause you know I'm a beast\", \"Watchin' you when you sleep\", \"When you're in bed, I'm underneath\", \"You're trapped in halls, and my face is the walls\", \"I'm the floor when you fall\", \"And when you scream, it's 'cause of me\", \"You think you're by yourself, but it's my touch you felt\", \"I'm not a ghost from hell, but I've got a spell on you\", \"Your worst nightmare, it's me, I'm everywhere (Everywhere)\", \"In one blink, I'll disappear\", \"And then, I'll come back to haunt you\", 'The unknown monster is about to embark', 'From a far corner, out of the dark', \"A nightmare, that's the case\", \"Never Neverland, that's the place\", 'This particular monster can read minds', 'Be in two places at the same time', 'This is judgment night, execution, slaughter', 'The devil, ghosts, this monster is torture', \"You can be sure of one thing, that's fate\", 'A human presence that you feel is strange', 'A monster that you can see disappear', 'A monster, the worst thing to fear', 'He got a place, baby, kicked in the face, baby', \"He hate your race, baby, you're not the liar\", \"You're every lick, baby, your dog's a bitch, baby\", 'You make me sick, baby, you talk survival', 'She never cut from me, she never fuck, baby', \"I got to work, baby, you're just a rival\", 'A razor blade, daddy, right up your leg, daddy', \"You're throwin' shade, daddy, so undesirable\", \"He got shit, baby, your dog's a bitch, baby\", 'You make me sick, baby, you are a liar', 'Is truth a game, daddy? Deep in the fame, baby', \"You're called a Saint, baby, you're so beloved\", 'Looking out across the nighttime', 'The city winks a sleepless eye', 'Hear her voice, shake my window', 'Sweet seducing sighs', 'Get me out into the nighttime', \"Four walls won't hold me tonight\", 'If this town is just an apple', 'Then let me take a bite', 'Looking out across the morning', \"The city's heart begins to beat\", 'Reaching out, I touch her shoulder', \"I'm dreaming of the street\", 'Skinhead, dead head, everybody gone mad', 'Situation, aggravation, everybody, allegation', 'In the suit, on the news, everybody, dog food', \"Bang, bang, shot dead, everybody's gone mad\", 'Beat me, hate me, you can never break me', 'Will me, thrill me, you can never kill me', '*** me, sue me, everybody do me', 'Kick me, **** me, don\\'t you, \"Black or white\" me', 'Skinhead, dead head, everybody gone bad', 'Trepidation, speculation, everybody, allegation', 'In the suit, on the news, everybody, dog food', 'Black man, blackmail, throw the brother in jail', 'Skinhead, dead head, everybody gone bad', 'Situation, speculation, everybody, litigation', 'Beat me, bash me, you can never trash me', 'Hit me, kick me, you can never get me', 'Skinhead, dead head, everybody gone mad', 'Situation, segregation, everybody, allegation (Hoo-hoo)', 'In the suit, on the news, everybody, dog food (Hoo-hoo)', \"Kick me, **** me, don't you wrong or right me (We're deep in fire)\", 'For forty days and for forty nights, the law was on her side', \"But who can stand when she's in demand? Her schemes and plans\", \"'Cause we danced on the floor in the round (Hee)\", 'So take my strong advice', 'Just remember to always think twice', \"(Don't think twice) Do think twice! (A-hoo!)\", \"She told my baby we'd danced 'til three, then she looked at me\", \"Then showed a photo of a baby cryin', his eyes were like mine (Oh, no)\", \"'Cause we danced on the floor in the round, baby (Ooh, hee-hee-hee)\", 'I am your friend through thick and thin', \"We need each other, we'll never part\", 'Our love is from the heart', 'We\\'ll never say, \"I don\\'t need you\"', 'We are forever', 'I am your toy, I am your boy', 'I am the moonlight, you are the spring', 'Our lives are sacred things', 'You know I always will love you, I am forever', \"I walk around, I'm suffering in my doom\", \"And when I come to you, you're sitting in your room\", 'You sit around in the strangest place (Hee-hee-hee)', 'So take off the mask, so I can see your face', \"I walk around, I'm suffering in my doom\", \"And when I come to you, you're sitting in your room\", 'You sit around in the strangest place (Hee-hee-hee)', 'So take off the mask, so I can see your face', \"You'll never make me stay, so take your weight off of me\", \"I know your every move, so won't you just let me be?\", \"I've been here times before, but I was too blind to see\", \"That you seduce every man, this time, you won't seduce me\", 'She likes the boys in the band, she knows when they come to town', \"Every musician's fan after the curtain comes down\", 'She waits at backstage doors for those who have prestige', \"Who promise fortune and fame, a life that's so carefree\", 'She said \"I have to go home, \\'cause I\\'m real tired, you see', 'But I hate sleeping alone, why don\\'t you come with me?\"', 'I said \"My baby\\'s at home, she\\'s probably worried tonight', 'I didn\\'t call on the phone to say that I\\'m alright\"', \"Ben, you're always running here and there\", '(Here and there)', \"You feel you're not wanted anywhere\", '(Anywhere)', 'If you ever look behind', \"And don't like what you find\", \"There's something you should know\", \"You've got a place to go\", \"(You've got a place to go)\", 'Ben, most people would turn you away (Turn you away)', \"I don't listen to a word they say (A word they say)\", \"They don't see you as I do\", 'I wish they would try to', \"I'm sure they'd think again\", 'If they had a friend like Ben', 'I took my baby to the doctor with a fever', \"But nothin' he found\", 'By the time this hit the street', 'They said she had a breakdown', \"Someone's always tryin'\", \"To start my baby cryin'\", \"Talkin', squealin', lyin'\", \"Sayin' you just want to be startin' somethin'\", \"You love to pretend that you're good\", \"When you're always up to no good\", \"You really can't make him hate her\", 'So your tongue became a razor', \"Someone's always tryin'\", \"To keep my baby cryin'\", \"Treacherous, cunnin', declinin'\", \"You got my baby cryin' (Hee)\", \"Billie Jean is always talkin' when nobody else is talkin'\", \"Tellin' lies and rubbin' shoulders\", 'So they called her mouth a motor', \"Someone's always tryin'\", \"To start my baby cryin'\", \"Talkin', squealin', spyin'\", \"Sayin' you just want to be startin' somethin'\", \"If you can't feed your baby (Yeah, yeah)\", \"Then don't have a baby (Yeah, yeah)\", \"And don't think maybe (Yeah, yeah)\", \"If you can't feed your baby (Yeah, yeah)\", \"You'll be always tryin'\", \"To stop that child from cryin'\", \"Hustlin', stealin', lyin'\", \"Now, baby's slowly dyin'\", 'As she took me right through the fog', 'I seen a beautiful city appear', \"At where kids are playin'\", \"And people are laughin' and smilin' and nothin' to fear\", 'She said, \"This is the place where no people have pain', 'With love and happiness\"', 'She turned around, looked down in my eyes', \"And started cryin'\", \"Grab my hand, you've got a friend, oh\", 'We could sail away our dreams to our Never Neverland', 'We could kiss the world and wish upon a distant star', 'I could say the future, hope for us has different promises', 'And the answers lie deep inside your lovely eyes', 'I could look inside your mind and tell that you’re far away', 'Don’t say a word, just let me whisper inside your ear', 'I could see that you are trying hard to be my friend', 'All the words you wanna say is all I want to hear', 'Did you ever stop to think just why I look inside your eyes?', '‘Cause this love we have is just a dream away', 'I could tell you’re crying ‘cause you really love me, girl', 'And the answers lie deep in the words I have to say', 'I could say the future, hope for us has different promises', 'And the life we need is just a life away', 'I could look inside your mind and tell that you love me, girl', 'And the words you want to hear, is all I wanna say', \"They're out to get you, better leave while you can\", \"Don't wanna be a boy, you wanna be a man\", 'You wanna stay alive, better do what you can', 'So beat it, just beat it (Rrr)', \"You have to show them that you're really not scared (Ooh)\", \"You're playin' with your life, this ain't no truth or dare (Ooh)\", \"They'll kick you, then they'll beat you, then they'll tell you it's fair\", 'So beat it, but you wanna be bad', 'She dances for the man at work', 'Who works her overtime', \"She can't be rude as she says\", '\"Sir, I must be home tonight\"', 'She dances to the kitchen stove', 'Dinner is served by nine', \"He says his food's an hour late\", 'She must be out her mind', 'She danced the night that they fell out', \"She swore she'd dance no more\", 'But dance, she did, he did not quit', 'As she ran out the door', 'She danced through the night in fear of her life', 'She danced to a beat of her own', 'She let out a cry and swallowed the pride', 'She knew she was needed back home, home', 'I was strong enough to fight', 'I was never wrong but always right, dah', 'Bring it on me', 'I was trying to crack the code', 'But now I’m gonna lay a revelation', 'Dah, bring it on me', 'I was playing the underdog', 'I got my kicks but I got no home', 'Bring it on me', 'Life was sweet and life was bad', \"Got my time while I'm doin' that\", 'Bring it on me', \"I was livin' high and low\", 'I got my kicks and I got my soul', 'Bring it on me', 'I was doing the underdog', 'I got my kicks but I got no home', 'Bring it on me', 'I was really doing bad', 'I got my time and I got my past', 'Dah, bring it on me', 'I was living in the right', 'I got my time without a sound', 'Dah, bring it on me', 'Love to run my fingers', 'Softly while you sigh', 'Love came and possessed you', 'Bringing sparkles to your eyes', 'Like a trip to Heaven', 'Heaven is the prize', \"And I'm so glad I found you, yeah\", \"You're an angel in disguise\", 'She got your number, ah, how does it feel, ah', 'To know this stranger, ah, is about to kill?', 'Ah, she got your baby, ah, it happened fast, ah', 'If you could only, ah, erase the past, ah', 'Baby, love never felt so good', 'And I doubt if it ever could', 'Not like you hold me, hold me', 'Oh baby, love never felt so fine', \"And I doubt if it's never mine\", 'Not like you hold me, hold me', 'Baby, love never felt so fine', 'And I doubt if it was ever mine', 'Not like you hold me, hold me', 'Ooh baby, love never felt so good', 'And I doubt if it ever could', 'Not like you hold me, hold me', 'Now, I wake up every day', 'With this smile upon my face', 'No more tears, no more pain', \"'Cause you love me\", 'Ooh, hey, my girl', 'She does something to my chemistry', \"And when I'm close, I'm sure\", 'I raise her temperature about three degrees', 'Every day, yeah', 'In every way, she makes my motor purr', 'And I reciprocate', \"My life I dedicate to lovin' her\", 'Understanding', 'Whenever handing any alibis', 'Instead of what you do', \"Where you been or what's the use?\", \"We make it nice (Uh-huh, it's a nice, nice time)\"]\n"
     ]
    }
   ],
   "execution_count": 10
  },
  {
   "metadata": {
    "ExecuteTime": {
     "end_time": "2025-05-25T15:20:16.775456Z",
     "start_time": "2025-05-25T15:20:16.770524Z"
    }
   },
   "cell_type": "code",
   "source": [
    "couplets_lens = [len(line.split()) for line in couplets_lyrics]\n",
    "couplets_lens.sort()\n",
    "print(couplets_lens[0], couplets_lens[-1])"
   ],
   "id": "fabe51c8d7bc9bec",
   "outputs": [
    {
     "name": "stdout",
     "output_type": "stream",
     "text": [
      "1 18\n"
     ]
    }
   ],
   "execution_count": 11
  },
  {
   "metadata": {
    "ExecuteTime": {
     "end_time": "2025-05-25T15:20:24.145355Z",
     "start_time": "2025-05-25T15:20:24.142752Z"
    }
   },
   "cell_type": "code",
   "source": [
    "while '' in couplets_lyrics:\n",
    "    couplets_lyrics.remove('')"
   ],
   "id": "75dbd1d680a79bfe",
   "outputs": [],
   "execution_count": 12
  },
  {
   "metadata": {
    "ExecuteTime": {
     "end_time": "2025-05-25T15:20:28.095545Z",
     "start_time": "2025-05-25T15:20:28.090832Z"
    }
   },
   "cell_type": "code",
   "source": [
    "couplets_lens = [len(line.split()) for line in couplets_lyrics]\n",
    "couplets_lens.sort()\n",
    "print(couplets_lens[0], couplets_lens[-1])"
   ],
   "id": "1046143a24883d6b",
   "outputs": [
    {
     "name": "stdout",
     "output_type": "stream",
     "text": [
      "1 18\n"
     ]
    }
   ],
   "execution_count": 13
  },
  {
   "metadata": {
    "ExecuteTime": {
     "end_time": "2025-05-25T15:20:34.676714Z",
     "start_time": "2025-05-25T15:20:34.672586Z"
    }
   },
   "cell_type": "code",
   "source": [
    "for line in couplets_lyrics:\n",
    "    if len(line.split()) == 1:\n",
    "        print(f\"Line: {line}\")"
   ],
   "id": "443766966f250135",
   "outputs": [
    {
     "name": "stdout",
     "output_type": "stream",
     "text": [
      "Line: (Ah)\n",
      "Line: (Ho!)\n",
      "Line: Ooh\n",
      "Line: Ooh\n",
      "Line: Ooh\n",
      "Line: Unthinkable\n",
      "Line: (Whoa...oh...oh...)\n",
      "Line: Uh-huh!\n",
      "Line: Alive\n",
      "Line: Girlfriend\n",
      "Line: Girlfriend\n",
      "Line: (Hoo!)\n",
      "Line: (Ah-ooh-ooh)\n",
      "Line: (Ah-ooh-ooh)\n",
      "Line: (Ah-ooh-ooh)\n",
      "Line: (Ah-ooh-ooh)\n",
      "Line: (Anywhere)\n",
      "Line: Understanding\n"
     ]
    }
   ],
   "execution_count": 14
  },
  {
   "metadata": {
    "ExecuteTime": {
     "end_time": "2025-05-25T15:20:46.015213Z",
     "start_time": "2025-05-25T15:20:46.011863Z"
    }
   },
   "cell_type": "code",
   "source": [
    "couplets_maxlen = max(couplets_lens)\n",
    "padding_type = \"pre\""
   ],
   "id": "54bb517981768607",
   "outputs": [],
   "execution_count": 15
  },
  {
   "metadata": {
    "ExecuteTime": {
     "end_time": "2025-05-25T15:20:53.858375Z",
     "start_time": "2025-05-25T15:20:53.756803Z"
    }
   },
   "cell_type": "code",
   "source": [
    "couplet_tokenizer = Tokenizer(oov_token=\"<OOV>\", filters='\"#$%&()*+,/:;<=>?@[\\\\]^_`{|}~\\t\\n')\n",
    "\n",
    "couplet_tokenizer.fit_on_texts(couplets_lyrics)\n",
    "couplet_word_index = couplet_tokenizer.word_index\n",
    "print(couplet_word_index)\n",
    "couplet_input_sequences = []\n",
    "\n",
    "for line in couplets_lyrics:\n",
    "    tokenized_line = couplet_tokenizer.texts_to_sequences([line])[0]\n",
    "\n",
    "    for token in range(1, len(tokenized_line)):\n",
    "        n_gram_sequence = tokenized_line[:token+1]\n",
    "\n",
    "        couplet_input_sequences.append(n_gram_sequence)\n",
    "\n",
    "couplet_maxlen = max([len(x) for x in couplet_input_sequences])\n",
    "\n",
    "padded_sequences = tf.keras.preprocessing.sequence.pad_sequences(couplet_input_sequences, maxlen=couplet_maxlen, padding='pre')\n",
    "\n",
    "couplet_xs, couplet_ys = padded_sequences[:,:-1], tf.keras.utils.to_categorical(padded_sequences[:,-1], num_classes=len(couplet_word_index) + 1)"
   ],
   "id": "3888ec6bc4e25827",
   "outputs": [
    {
     "name": "stdout",
     "output_type": "stream",
     "text": [
      "{'<OOV>': 1, 'you': 2, 'the': 3, 'i': 4, 'to': 5, 'and': 6, 'me': 7, 'a': 8, 'my': 9, 'in': 10, 'it': 11, 'that': 12, 'of': 13, 'is': 14, 'your': 15, 'she': 16, 'be': 17, 'on': 18, 'for': 19, 'got': 20, 'so': 21, 'love': 22, 'this': 23, 'all': 24, \"don't\": 25, 'but': 26, 'just': 27, 'what': 28, \"i'm\": 29, 'no': 30, 'her': 31, 'was': 32, 'time': 33, 'he': 34, 'know': 35, 'do': 36, 'with': 37, 'can': 38, \"you're\": 39, \"it's\": 40, 'when': 41, 'get': 42, 'baby': 43, 'like': 44, 'girl': 45, 'we': 46, 'if': 47, 'never': 48, \"she's\": 49, 'out': 50, 'see': 51, 'say': 52, 'they': 53, \"'cause\": 54, 'there': 55, 'now': 56, 'have': 57, 'are': 58, 'yeah': 59, 'come': 60, \"can't\": 61, 'tell': 62, 'will': 63, 'go': 64, 'from': 65, 'feel': 66, \"there's\": 67, 'not': 68, 'make': 69, 'life': 70, 'every': 71, 'one': 72, 'wanna': 73, 'oh': 74, 'then': 75, \"i'll\": 76, 'let': 77, 'want': 78, 'take': 79, 'need': 80, 'away': 81, \"i've\": 82, 'down': 83, 'ah': 84, 'hold': 85, 'how': 86, 'really': 87, \"ain't\": 88, 'around': 89, 'night': 90, 'could': 91, 'heart': 92, 'too': 93, 'about': 94, 'way': 95, 'things': 96, 'up': 97, 'right': 98, 'ooh': 99, 'where': 100, 'why': 101, 'back': 102, 'give': 103, 'or': 104, 'said': 105, 'through': 106, 'world': 107, 'home': 108, 'place': 109, 'am': 110, 'at': 111, 'eyes': 112, 'hot': 113, 'think': 114, 'bad': 115, 'only': 116, 'day': 117, 'our': 118, 'always': 119, 'gone': 120, \"won't\": 121, 'did': 122, \"you'll\": 123, 'keep': 124, 'his': 125, 'find': 126, 'try': 127, 'some': 128, 'inside': 129, 'still': 130, 'by': 131, 'been': 132, 'gonna': 133, 'him': 134, \"that's\": 135, 'people': 136, 'hand': 137, 'face': 138, 'soul': 139, \"we'll\": 140, 'us': 141, 'look': 142, \"we're\": 143, 'better': 144, \"you've\": 145, 'as': 146, 'would': 147, 'had': 148, 'man': 149, 'stay': 150, 'care': 151, 'came': 152, 'dreams': 153, 'though': 154, 'mind': 155, 'ever': 156, 'before': 157, 'smile': 158, 'an': 159, 'good': 160, 'found': 161, 'more': 162, 'alone': 163, \"he's\": 164, \"livin'\": 165, 'real': 166, 'money': 167, 'hard': 168, 'stop': 169, 'must': 170, 'into': 171, 'close': 172, 'everybody': 173, 'here': 174, 'truth': 175, 'much': 176, 'told': 177, 'who': 178, 'true': 179, 'bring': 180, 'left': 181, 'deep': 182, 'together': 183, 'well': 184, 'someone': 185, 'thing': 186, 'dream': 187, 'mine': 188, 'name': 189, 'move': 190, 'hear': 191, \"i'd\": 192, 'beat': 193, 'thought': 194, 'felt': 195, 'should': 196, 'word': 197, 'done': 198, 'tried': 199, 'their': 200, 'trying': 201, 'alive': 202, 'each': 203, 'alright': 204, 'show': 205, 'work': 206, 'ho!': 207, 'while': 208, 'long': 209, 'hee': 210, 'stand': 211, 'nobody': 212, 'ooh-ooh': 213, 'loser': 214, 'hee!': 215, 'change': 216, 'wrong': 217, 'enough': 218, 'cannot': 219, 'knew': 220, 'such': 221, 'behind': 222, 'nothing': 223, 'feeling': 224, 'far': 225, 'wonder': 226, 'other': 227, 'seen': 228, 'forever': 229, 'off': 230, 'peace': 231, 'turn': 232, 'put': 233, 'floor': 234, 'boy': 235, \"doin'\": 236, 'fly': 237, 'dead': 238, 'start': 239, 'damn': 240, 'cry': 241, 'door': 242, 'heaven': 243, 'remember': 244, 'talk': 245, \"cryin'\": 246, 'hurt': 247, \"lovin'\": 248, 'walk': 249, 'seems': 250, 'guy': 251, 'friend': 252, 'control': 253, 'high': 254, 'two': 255, 'sweet': 256, 'soon': 257, 'free': 258, 'fool': 259, 'took': 260, 'kiss': 261, 'light': 262, 'lie': 263, 'uh-huh': 264, 'pain': 265, 'called': 266, 'across': 267, 'uh': 268, \"tryin'\": 269, 'words': 270, \"didn't\": 271, 'were': 272, 'tired': 273, 'because': 274, 'chance': 275, 'star': 276, 'three': 277, 'than': 278, \"we've\": 279, 'game': 280, 'sure': 281, 'even': 282, 'bet': 283, 'lay': 284, 'little': 285, 'touch': 286, 'head': 287, 'mercy': 288, 'strong': 289, \"who's\": 290, 'many': 291, 'whatever': 292, 'fever': 293, 'fear': 294, 'seemed': 295, 'end': 296, 'used': 297, \"'til\": 298, 'hide': 299, 'hands': 300, \"nothin'\": 301, \"talkin'\": 302, \"makin'\": 303, 'same': 304, 'again': 305, 'share': 306, 'tears': 307, 'tonight': 308, 'live': 309, 'instead': 310, 'goes': 311, 'knows': 312, 'line': 313, 'lost': 314, 'call': 315, 'hope': 316, 'first': 317, 'wish': 318, 'ya': 319, 'shake': 320, 'going': 321, 'cold': 322, 'gotta': 323, 'break': 324, 'thrill': 325, 'future': 326, 'run': 327, 'part': 328, 'has': 329, 'problems': 330, 'music': 331, \"they're\": 332, 'watch': 333, 'kill': 334, 'sunset': 335, 'doom': 336, 'use': 337, 'danced': 338, 'looked': 339, 'doing': 340, \"sayin'\": 341, \"goin'\": 342, 'ain’t': 343, 'changed': 344, 'fulfill': 345, 'everything': 346, 'big': 347, 'evening': 348, 'being': 349, 'reach': 350, 'hit': 351, \"workin'\": 352, 'says': 353, 'song': 354, 'mother': 355, 'last': 356, 'them': 357, 'read': 358, 'pray': 359, 'something': 360, 'sunshine': 361, 'beautiful': 362, \"what's\": 363, 'wants': 364, 'any': 365, 'desire': 366, 'fire': 367, 'living': 368, 'lies': 369, 'does': 370, 'fight': 371, 'goodbye': 372, 'faces': 373, 'minds': 374, 'body': 375, 'lord': 376, 'times': 377, 'open': 378, 'leave': 379, 'sun': 380, 'side': 381, 'rock': 382, 'set': 383, 'ask': 384, 'heard': 385, 'black': 386, 'pretty': 387, 'street': 388, 'town': 389, \"feelin'\": 390, 'fair': 391, 'happy': 392, 'hoo': 393, 'hate': 394, 'sitting': 395, 'understand': 396, \"somebody's\": 397, 'maybe': 398, 'room': 399, \"doesn't\": 400, 'monster': 401, 'near': 402, 'feels': 403, 'angel': 404, 'kind': 405, 'shame': 406, 'young': 407, 'phone': 408, 'hollywood': 409, \"walkin'\": 410, 'explain': 411, 'follow': 412, 'babe': 413, 'wanted': 414, 'old': 415, 'round': 416, 'yes': 417, 'fall': 418, 'power': 419, 'coming': 420, 'low': 421, 'play': 422, 'i’m': 423, 'lady': 424, 'supposed': 425, 'blind': 426, 'bear': 427, 'cries': 428, 'hello': 429, 'everywhere': 430, 'confused': 431, 'getting': 432, 'yours': 433, 'ran': 434, 'own': 435, 'yourself': 436, 'groove': 437, 'searching': 438, 'trust': 439, \"somethin'\": 440, \"movin'\": 441, \"playin'\": 442, 'standing': 443, 'saying': 444, 'smoke': 445, 'else': 446, 'lesson': 447, 'liberian': 448, \"love's\": 449, 'sit': 450, \"there'll\": 451, 'spend': 452, 'looking': 453, 'past': 454, 'yet': 455, 'those': 456, 'voice': 457, 'worth': 458, 'ocean': 459, 'mean': 460, 'nations': 461, \"you'd\": 462, 'house': 463, 'anytime': 464, 'darkness': 465, 'situation': 466, 'remain': 467, 'ground': 468, 'clap': 469, 'perfect': 470, 'searched': 471, 'realize': 472, 'listen': 473, \"body's\": 474, 'dare': 475, 'ooh-ooh-ooh': 476, 'cool': 477, 'fine': 478, \"takin'\": 479, 'believe': 480, 'sick': 481, 'twice': 482, 'ecstasy': 483, 'friends': 484, 'chicago': 485, 'forty': 486, 'days': 487, 'missing': 488, 'can’t': 489, 'nation': 490, 'bed': 491, 'years': 492, 'comes': 493, \"she'll\": 494, 'blow': 495, 'scream': 496, 'brother': 497, 'fix': 498, \"they'll\": 499, 'kicks': 500, 'ah-ooh-ooh': 501, 'fame': 502, 'food': 503, 'worthwhile': 504, 'news': 505, \"they'd\": 506, 'dog': 507, 'daddy': 508, 'skinhead': 509, 'kick': 510, 'dah': 511, 'doubt': 512, 'swear': 513, 'blame': 514, 'dawn': 515, 'along': 516, 'disgusting': 517, 'cut': 518, 'hell': 519, 'blood': 520, 'lust': 521, 'reality': 522, 'grab': 523, 'knees': 524, 'anyway': 525, 'after': 526, 'sorry': 527, 'happiness': 528, 'complete': 529, 'movie': 530, 'scene': 531, 'woo!': 532, 'holding': 533, 'cares': 534, 'within': 535, 'dark': 536, 'flame': 537, 'starts': 538, 'promise': 539, 'ooh!': 540, \"man's\": 541, 'meant': 542, 'lived': 543, 'pretending': 544, 'lonely': 545, 'save': 546, 'morning': 547, 'saw': 548, 'known': 549, 'feed': 550, 'second': 551, 'cia': 552, 'sign': 553, 'hoo!': 554, 'looks': 555, 'above': 556, 'met': 557, 'rain': 558, 'afraid': 559, 'joy': 560, 'arms': 561, 'jump': 562, 'half': 563, \"shakin'\": 564, 'loose': 565, \"'round\": 566, 'hey': 567, 'may': 568, 'anything': 569, 'burn': 570, 'bit': 571, 'reason': 572, 'agony': 573, 'woe': 574, 'single': 575, \"haven't\": 576, 'seem': 577, 'imagination': 578, 'shine': 579, 'until': 580, 'whole': 581, 'hoo-hoo': 582, 'hee-hee!': 583, '‘cause': 584, 'kids': 585, 'survive': 586, 'nine': 587, 'races': 588, 'war': 589, 'taking': 590, 'indecision': 591, 'faith': 592, \"comin'\": 593, \"wouldn't\": 594, 'thoughts': 595, 'stands': 596, 'forget': 597, 'lose': 598, \"let's\": 599, 'nowhere': 600, 'pass': 601, 'caress': 602, 'aching': 603, 'childhood': 604, 'youth': 605, 'stories': 606, 'stayed': 607, 'learned': 608, 'taught': 609, 'grand': 610, 'started': 611, 'steady': 612, 'waste': 613, 'walls': 614, 'trip': 615, 'case': 616, 'sad': 617, 'dance': 618, 'underneath': 619, \"'em\": 620, 'land': 621, 'sound': 622, 'die': 623, 'tout': 624, 'pretend': 625, 'it!': 626, 'needed': 627, 'jam': 628, 'shoot': 629, 'feet': 630, 'disease': 631, 'without': 632, 'girls': 633, 'air': 634, 'lover': 635, 'thinking': 636, 'cloudy': 637, 'pride': 638, 'next': 639, 'shout': 640, 'creak': 641, 'rocking': 642, 'chair': 643, 'smell': 644, 'coffin': 645, 'restless': 646, 'shoes': 647, 'mouth': 648, 'fast': 649, 'message': 650, 'father': 651, \"baby's\": 652, 'eat': 653, 'gets': 654, \"lyin'\": 655, 'calling': 656, \"she'd\": 657, 'guess': 658, 'prayers': 659, 'god': 660, 'upon': 661, 'shit': 662, \"missin'\": 663, 'tomorrow': 664, 'sorrow': 665, 'giving': 666, 'bang': 667, 'human': 668, 'places': 669, 'closer': 670, 'different': 671, 'crying': 672, 'city': 673, 'glad': 674, 'liar': 675, 'serious': 676, 'legs': 677, 'lips': 678, 'makes': 679, 'lovely': 680, 'anywhere': 681, 'mad': 682, 'allegation': 683, 'suit': 684, 'hee-hee-hee': 685, 'ben': 686, \"someone's\": 687, 'nice': 688, 'sincere': 689, 'held': 690, 'sent': 691, 'already': 692, \"holdin'\": 693, 'fell': 694, 'innocent': 695, \"we'd\": 696, 'aiming': 697, 'another': 698, 'somebody': 699, \"life's\": 700, 'brings': 701, 'full': 702, 'thriller': 703, \"'bout\": 704, \"beggin'\": 705, 'gave': 706, 'mountain': 707, 'climb': 708, 'deceive': 709, 'sanity': 710, 'waited': 711, 'patiently': 712, 'determined': 713, 'plan': 714, 'became': 715, 'gold': 716, 'lovers': 717, 'laughing': 718, 'loud': 719, 'spins': 720, 'smoking': 721, 'sing': 722, 'walking': 723, 'secret': 724, 'smiles': 725, 'note': 726, 'flow': 727, 'don’t': 728, 'honey': 729, 'sugar': 730, 'shoulder': 731, \"achin'\": 732, 'over': 733, \"seein'\": 734, 'emotions': 735, 'begins': 736, 'sister': 737, 'biding': 738, 'singing': 739, 'heartbreak': 740, 'sin': 741, \"waitin'\": 742, 'nights': 743, 'lives': 744, 'harder': 745, 'fighting': 746, 'pledge': 747, 'son': 748, 'matter': 749, 'games': 750, 'silly': 751, 'denied': 752, 'wrote': 753, 'jack': 754, 'bone': 755, \"cha'\": 756, 'dime': 757, 'telling': 758, 'doggone': 759, 'wait': 760, 'sleep': 761, 'finding': 762, 'mistake': 763, 'advice': 764, 'asking': 765, 'till': 766, 'vows': 767, 'thank': 768, 'heavens': 769, 'freaky': 770, 'wrap': 771, 'wet': 772, 'shot': 773, 'slam': 774, 'plans': 775, 'running': 776, 'danger': 777, 'daring': 778, 'knife': 779, 'mirror': 780, 'tracks': 781, 'heat': 782, 'win': 783, 'keeps': 784, 'moving': 785, 'learn': 786, 'hoo-hoo!': 787, 'new': 788, 'passion': 789, \"burnin'\": 790, 'sky': 791, 'damned': 792, 'dying': 793, 'injustice': 794, 'burns': 795, 'moment': 796, 'apart': 797, 'stare': 798, 'ourselves': 799, 'soothe': 800, 'cruise': 801, 'stars': 802, 'mmm': 803, 'di-de-da': 804, 'da-nan-na': 805, 'schemes': 806, 'system': 807, 'stronger': 808, 'notion': 809, 'able': 810, 'using': 811, 'tragedy': 812, 'top': 813, 'age': 814, 'five': 815, 'complications': 816, 'accusations': 817, 'dividing': 818, 'empty': 819, 'substitution': 820, 'restitution': 821, 'solution': 822, 'increasing': 823, 'height': 824, 'spirituality': 825, 'masses': 826, 'shrouded': 827, 'clouded': 828, 'visions': 829, 'deceptions': 830, 'religion': 831, 'clock': 832, 'happened': 833, 'pleasure': 834, 'born': 835, 'drug': 836, 'ashes': 837, 'dust': 838, 'warning': 839, 'wonderful': 840, 'incredible': 841, 'wake': 842, 'angels': 843, 'clouds': 844, 'thick': 845, 'thin': 846, 'mysteries': 847, 'played': 848, 'claim': 849, 'neck': 850, \"who'd\": 851, 'finally': 852, 'demons': 853, 'closing': 854, 'possess': 855, 'number': 856, 'sigh': 857, 'taste': 858, 'rhythm': 859, 'judge': 860, 'knowing': 861, 'story': 862, 'please': 863, \"tellin'\": 864, 'bird': 865, 'raven': 866, 'bird-band': 867, 'bop': 868, 'a-bless': 869, 'out-bopped': 870, 'buzzard': 871, 'oriole': 872, \"aren't\": 873, \"gettin'\": 874, 'best': 875, 'tear': 876, 'these': 877, 'spit': 878, 'mojo': 879, 'ready': 880, 'mystery': 881, 'unfold': 882, 'cried': 883, 'bringing': 884, 'push': 885, 'six': 886, 'crack': 887, 'devil': 888, 'et': 889, 'toi': 890, 'ne': 891, 'pas': 892, 'passé': 893, 'la': 894, 'vain': 895, 'car': 896, 'paint': 897, \"givin'\": 898, 'buy': 899, 'monkey': 900, 'finger': 901, 'water': 902, 'is...': 903, 'wherever': 904, 'others': 905, '1945': 906, 'cubs': 907, 'year': 908, 'al': 909, 'capone': 910, 'suburbs': 911, 'windy': 912, \"world's\": 913, 'goin’': 914, 'didn’t': 915, 'choose': 916, 'tribune': 917, 'feature': 918, 'bother': 919, 'cover': 920, 'indication': 921, 'pull': 922, \"else's\": 923, 'midnight': 924, 'adore': 925, 'blue': 926, 'restaurant': 927, 'blackmail': 928, 'glory': 929, 'false': 930, 'race': 931, 'tenderness': 932, 'fantasy': 933, 'hearts': 934, 'girlfriend': 935, 'boyfriend': 936, 'woo-hoo': 937, 'needs': 938, 'nature': 939, 'thumping': 940, 'ghostly': 941, 'in-lay': 942, 'spoiling': 943, \"nobody's\": 944, 'broken': 945, 'law': 946, 'revelation': 947, 'both': 948, 'distant': 949, 'poor': 950, 'toy': 951, 'scared': 952, 'table': 953, \"he'll\": 954, 'police': 955, 'corner': 956, \"gon'\": 957, \"throwin'\": 958, 'hour': 959, 'shall': 960, 'evil': 961, 'fate': 962, 'brothers': 963, 'prays': 964, 'recognize': 965, 'myself': 966, 'funky': 967, 'michael': 968, 'mike': 969, 'mingle': 970, 'fan': 971, 'rising': 972, 'moon': 973, 'accuse': 974, 'probably': 975, 'nigga': 976, 'questions': 977, 'yesterday': 978, 'sense': 979, 'window': 980, 'leaving': 981, 'saturday': 982, 'space': 983, 'playing': 984, 'huh': 985, 'dealing': 986, 'mm-mm': 987, 'stranger': 988, 'player': 989, 'demand': 990, 'write': 991, 'strange': 992, 'weak': 993, 'excited': 994, 'kicked': 995, 'history': 996, 'force': 997, 'notice': 998, 'awful': 999, 'which': 1000, 'cheaper': 1001, 'netted': 1002, 'stockings': 1003, 'purple': 1004, 'panties': 1005, 'ring': 1006, 'nose': 1007, 'seat': 1008, 'sell': 1009, 'raise': 1010, 'sleeping': 1011, 'disguise': 1012, 'turned': 1013, 'melting': 1014, 'sensation': 1015, 'hours': 1016, 'complaining': 1017, 'eternal': 1018, 'shines': 1019, 'greed': 1020, 'sue': 1021, 'fortune': 1022, 'doctor': 1023, 'temperature': 1024, 'worst': 1025, 'nightmare': 1026, 'disappear': 1027, 'neverland': 1028, \"dog's\": 1029, 'bitch': 1030, 'razor': 1031, 'nighttime': 1032, 'speculation': 1033, 'suffering': 1034, 'strangest': 1035, 'mask': 1036, 'seduce': 1037, \"squealin'\": 1038, \"startin'\": 1039, 'motor': 1040, 'promises': 1041, 'answers': 1042, 'you’re': 1043, 'dances': 1044, 'underdog': 1045, 'woulda': 1046, 'spoken': 1047, \"would've\": 1048, 'began': 1049, 'shocking': 1050, 'wolf': 1051, 'throwing': 1052, 'rocks': 1053, \"creepin'\": 1054, 'hole': 1055, 'hunting': 1056, 'undefeated': 1057, \"mj's\": 1058, 'team': 1059, 'theme': 1060, 'forth': 1061, 'realism': 1062, 'steel': 1063, 'organism': 1064, 't.w.i.s.m': 1065, 'trisim': 1066, 'charge': 1067, 'manila': 1068, '9-5': 1069, 'shaq': 1070, 'represent': 1071, 'crotch': 1072, 'twist': 1073, \"mike's\": 1074, 'mama': 1075, 'excuses': 1076, 'afar': 1077, 'imprisoned': 1078, \"paparazzi's\": 1079, 'camera': 1080, 'wished': 1081, 'ms.': 1082, 'streetwalker': 1083, 'spare': 1084, 'spenders': 1085, 'suckers': 1086, 'lying': 1087, \"bed's\": 1088, 'surrender': 1089, 'rainbow': 1090, 'bass': 1091, 'treble': 1092, 'stereo': 1093, 'juices': 1094, 'press': 1095, 'rotate': 1096, 'what’s': 1097, 'deal': 1098, '3d': 1099, 'speed': 1100, 'feedback': 1101, 'dolby': 1102, 'release': 1103, '‘til': 1104, 'peak': 1105, 'compact': 1106, 'steelo': 1107, 'chico': 1108, 'd-lo': 1109, 'highpost': 1110, 'shorty': 1111, 'scratch': 1112, 'often': 1113, 'sight': 1114, \"thinkin'\": 1115, \"darlin'\": 1116, 'undemanding': 1117, 'handicapped': 1118, 'remains': 1119, 'welcome': 1120, 'world!': 1121, 'sharing': 1122, 'beside': 1123, 'went': 1124, 'breathing': 1125, 'reciting': 1126, 'bible': 1127, 'verse': 1128, \"father's\": 1129, 'despair': 1130, \"brother's\": 1131, 'curse': 1132, 'that’s': 1133, 'burning': 1134, \"bein'\": 1135, 'miserable': 1136, 'darker': 1137, 'wising': 1138, \"system's\": 1139, 'book': 1140, 'escape': 1141, 'electric': 1142, 'fault': 1143, 'gambled': 1144, 'paper': 1145, 'shows': 1146, 'letter': 1147, 'ghetto': 1148, 'attitude': 1149, 'ends': 1150, 'i.o.u': 1151, 'compromise': 1152, 'smiling': 1153, 'stealing': 1154, 'a…': 1155, \"dancin'\": 1156, \"groovin'\": 1157, \"soothin'\": 1158, 'rejection': 1159, 'opened': 1160, 'watched': 1161, 'cheek-to-cheek': 1162, 'appreciate': 1163, 'impressions': 1164, 'affair': 1165, 'suspicions': 1166, 'brought': 1167, 'goodwill': 1168, 'praise': 1169, 'desires': 1170, 'flap': 1171, 'nigh': 1172, \"you'se\": 1173, 'motormouth': 1174, 'float': 1175, 'haha': 1176, 'glue': 1177, 'eyeball': 1178, 'key': 1179, 'sheets': 1180, 'scrub': 1181, 'bar': 1182, 'dunk': 1183, 'hahaha': 1184, 'cancel': 1185, 'da': 1186, 'eeh': 1187, 'ayy': 1188, 'staring': 1189, \"treatin'\": 1190, 'bold': 1191, 'ice': 1192, 'screamed': 1193, 'pulled': 1194, 'spied': 1195, 'skin': 1196, 'job': 1197, 'revenge': 1198, 'headed': 1199, 'border': 1200, 'matters': 1201, 'view': 1202, 'nearer': 1203, 'speeding': 1204, 'midway': 1205, 'road': 1206, 'ease': 1207, 'state': 1208, 'lean': 1209, 'drink': 1210, 'glass': 1211, 'wine': 1212, 'spending': 1213, 'rides': 1214, 'refuel': 1215, 'turkey': 1216, 'blows': 1217, 'brand': 1218, 'precious': 1219, 'pearl': 1220, 'feelings': 1221, 'embrace': 1222, 'today': 1223, 'fade': 1224, 'mountains': 1225, 'lasting': 1226, 'darkest': 1227, 'unto': 1228, 'thee': 1229, 'punishment': 1230, 'killing': 1231, 'fought': 1232, 'battle': 1233, 'won': 1234, 'overcome': 1235, 'carry': 1236, 'oh-oh-oh': 1237, 'sweat': 1238, 'nervous': 1239, 'awakes': 1240, \"feeling's\": 1241, 'naples': 1242, 'georgia': 1243, 'da-ni-na': 1244, 'da-nan-da': 1245, 'estonia': 1246, \"disgustin'\": 1247, \"kickin'\": 1248, 'jacked': 1249, 'sounds': 1250, 'sucks': 1251, 'screams': 1252, 'peek': 1253, 'shadow': 1254, 'prove': 1255, \"sellin'\": 1256, 'souls': 1257, 'season': 1258, 'love’s': 1259, '’cause': 1260, 'truesome': 1261, 'ignorance': 1262, 'purchasing': 1263, 'diamonds': 1264, 'necklaces': 1265, 'barely': 1266, 'payments': 1267, 'lessons': 1268, 'enrolled': 1269, 'class': 1270, 'professor': 1271, 'dough': 1272, 'mess': 1273, 'murdering': 1274, 'fun': 1275, 'fist': 1276, 'gun': 1277, 'clique': 1278, \"runnin'\": 1279, \"killin'\": 1280, \"shouldn't\": 1281, 'busy': 1282, 'focusing': 1283, 'majesty': 1284, 'type': 1285, 'rearrange': 1286, 'flip': 1287, 'page': 1288, 'encased': 1289, 'animals': 1290, 'cannibals': 1291, \"eatin'\": 1292, 'trouble': 1293, 'struggle': 1294, 'strive': 1295, \"mind's\": 1296, \"tickin'\": 1297, \"warnin'\": 1298, 'disconnected': 1299, \"disrespectin'\": 1300, \"protectin'\": 1301, 'poisoned': 1302, 'minute': 1303, 'damage': 1304, 'babies': 1305, 'addicted': 1306, 'afflicted': 1307, 'family': 1308, 'values': 1309, 'contradicted': 1310, 'pressure': 1311, \"buildin'\": 1312, 'ticking': 1313, 'spent': 1314, 'simply': 1315, 'unthinkable': 1316, \"sittin'\": 1317, 'might': 1318, \"kissin'\": 1319, \"touchin'\": 1320, \"couldn't\": 1321, 'since': 1322, 'rules': 1323, 'mastermind': 1324, 'everytime': 1325, 'thousand': 1326, 'appears': 1327, 'protect': 1328, 'gateway': 1329, 'wide': 1330, 'h': 1331, 'izzo': 1332, 'jerky': 1333, 'frank': 1334, 'rizzo': 1335, 'jigga': 1336, 'track': 1337, 'trackmasters': 1338, 'fully': 1339, 'allmy': 1340, 'whoa...oh...oh...': 1341, 'whoa': 1342, 'lead': 1343, 'ah-ah': 1344, \"'stead\": 1345, 'circumstance': 1346, \"power's\": 1347, \"believin'\": 1348, 'creature': 1349, 'creepin’': 1350, 'unless': 1351, 'dial': 1352, 'cuddle': 1353, 'terror': 1354, 'screen': 1355, 'acknowledge': 1356, 'answer': 1357, 'tryna': 1358, \"wonderin'\": 1359, \"dreamin'\": 1360, 'blissful': 1361, 'butterflies': 1362, 'beating': 1363, 'pirates': 1364, 'adventurous': 1365, 'conquest': 1366, 'kings': 1367, 'throne': 1368, 'fantastical': 1369, 'painful': 1370, 'believing': 1371, 'repent': 1372, 'worry': 1373, 'meaning': 1374, 'longer': 1375, 'tricked': 1376, 'nine-to-five': 1377, \"you's\": 1378, 'crime': 1379, 'abused': 1380, 'fuse': 1381, 'wife': 1382, 'swallow': 1383, 'chick-a-dee': 1384, 'tall': 1385, 'oak': 1386, 'tree': 1387, 'wise': 1388, 'owl': 1389, 'crow': 1390, \"flappin'\": 1391, 'wings': 1392, \"singin'\": 1393, 'clearer': 1394, 'approve': 1395, 'checking': 1396, 'yo': 1397, 'mami': 1398, \"frontin'\": 1399, 'promised': 1400, 'chains': 1401, 'bracelet': 1402, 'realest': 1403, 'trips': 1404, 'jetlag': 1405, 'resisting': 1406, 'invincible': 1407, 'shocktacy': 1408, 'uh-huh!': 1409, 'satin': 1410, 'lace': 1411, 'paisley': 1412, 'wasting': 1413, 'position': 1414, 'takes': 1415, 'pocket': 1416, 'buried': 1417, 'untold': 1418, 'hiding': 1419, 'laugh': 1420, 'respect': 1421, 'children': 1422, 'fill': 1423, 'madness': 1424, 'miracles': 1425, 'unheard': 1426, 'winds': 1427, 'magic': 1428, 'slow': 1429, 'wondering': 1430, 'block': 1431, 'bury': 1432, 'ha': 1433, 'surfacing': 1434, 'lime': 1435, 'lemon': 1436, 'd.c.': 1437, 'women': 1438, 'ten': 1439, 'g': 1440, 'minimums': 1441, 'condos': 1442, 'elevators': 1443, 'vehicles': 1444, 'televisions': 1445, 'entourage': 1446, 'mirages': 1447, 'disappearing': 1448, 'acts': 1449, 'strictly': 1450, \".9's\": 1451, \"mac's\": 1452, 'killers': 1453, 'serial': 1454, 'copperfield': 1455, 'material': 1456, 'vivid': 1457, 'visit': 1458, 'players': 1459, 'wigs': 1460, 'coupes': 1461, 'yellow': 1462, 'plus': 1463, 'clips': 1464, 'expand': 1465, 'elbow': 1466, 'spray': 1467, \"day's\": 1468, 'inn': 1469, 'telly': 1470, \"baggin'\": 1471, \"braggin'\": 1472, 'mink': 1473, \"draggin'\": 1474, 'desert': 1475, \"e's\": 1476, 'sweepers': 1477, 'beamer': 1478, 'wagon': 1479, 'rely': 1480, 'bed-stuy': 1481, 'shut': 1482, 'diamond': 1483, 'bezel': 1484, 'messing': 1485, 'dans': 1486, 'cet': 1487, 'univers': 1488, 'sans': 1489, \"c'est\": 1490, 'un': 1491, 'enfer': 1492, \"t'en\": 1493, 'vas': 1494, 'pouvoir': 1495, \"t'embrasser\": 1496, \"j'en\": 1497, 'tremble': 1498, 'rien': 1499, 'que': 1500, \"d'y\": 1501, 'penser': 1502, 'te': 1503, 'donner': 1504, 'les': 1505, 'femmes': 1506, \"d'avant\": 1507, 'comptent': 1508, 'même': 1509, \"j'ai\": 1510, 'oublié': 1511, 'ton': 1512, 'terre': 1513, 'peut': 1514, 'trembler': 1515, 'guerre': 1516, 'éclater': 1517, 'je': 1518, 'supporterai': 1519, 'écoute-moi': 1520, 'mon': 1521, 'amour': 1522, \"standin'\": 1523, 'me!': 1524, 'walked': 1525, 'heels': 1526, 'product': 1527, 'loveliness': 1528, 'dress': 1529, 'miles': 1530, 'pick': 1531, \"keepin'\": 1532, 'satisfied': 1533, \"losin'\": 1534, 'believed': 1535, 'alri-': 1536, 'wh-what': 1537, 'foolish': 1538, 'wear': 1539, 'shoeshine': 1540, 'toe': 1541, 'football': 1542, 'coca-cola': 1543, 'bag': 1544, 'production': 1545, 'walrus': 1546, 'gumbo': 1547, 'ono': 1548, 'sideboard': 1549, 'spinal': 1550, 'clacker': 1551, 'arm': 1552, 'roller': 1553, 'coaster': 1554, 'early': 1555, 'muddy': 1556, 'filter': 1557, 'shelter': 1558, 'rescue': 1559, 'storm': 1560, 'why...': 1561, 'help': 1562, 'lightning': 1563, 'strike': 1564, 'sometimes': 1565, 'breathe': 1566, 'melody': 1567, 'harmony': 1568, 'birds': 1569, 'feather': 1570, 'joe': 1571, 'dimaggio': 1572, 'gathered': 1573, 'basking': 1574, 'disappeared': 1575, 'gather': 1576, '‘round': 1577, 'world’s': 1578, 'issue': 1579, 'acting': 1580, \"magic's\": 1581, 'beginning': 1582, 'weatherman': 1583, 'granted': 1584, 'cavalier': 1585, 'cursed': 1586, 'kept': 1587, 'locked': 1588, 'inside!': 1589, 'cuts': 1590, 'speculate': 1591, 'circulate': 1592, 'confiscate': 1593, 'assassinate': 1594, 'mutilate': 1595, 'hounding': 1596, 'media': 1597, 'hysteria': 1598, 'resurrect': 1599, 'jfk': 1600, 'exposed': 1601, 'grassy': 1602, 'knoll': 1603, 'hood': 1604, 'frame': 1605, 'dies': 1606, 'sympathize': 1607, 'witnesses': 1608, 'self-righteousness': 1609, 'stab': 1610, 'heroine': 1611, 'marilyn': 1612, 'headline': 1613, 'folks': 1614, 'inhibitions': 1615, 'exhibition': 1616, 'a-hee!': 1617, 'letters': 1618, \"savin'\": 1619, 'exactly': 1620, 'cleave': 1621, 'furnace': 1622, 'neglect': 1623, 'abuse': 1624, 'deny': 1625, 'rub': 1626, 'tenderoni': 1627, 'spark': 1628, 'emergency': 1629, \"yearnin'\": 1630, 'victim': 1631, 'selfish': 1632, 'kinda': 1633, 'nickel': 1634, 'loan': 1635, 'willow': 1636, 'deeply': 1637, 'scarred': 1638, 'washed-out': 1639, 'pattern': 1640, 'wind': 1641, 'starting': 1642, 'ego': 1643, 'zone': 1644, 'raw': 1645, \"breakin'\": 1646, \"break's\": 1647, 'breeze': 1648, 'tease': 1649, 'dangerous': 1650, \"tonight's\": 1651, \"word's\": 1652, \"night's\": 1653, 'final': 1654, 'clown': 1655, 'dancer': 1656, 'chances': 1657, 'recall': 1658, 'memories': 1659, 'oh-woah': 1660, 'flowering': 1661, 'fields': 1662, 'middle': 1663, 'village': 1664, 'death': 1665, 'kid': 1666, 'runs': 1667, 'desperately': 1668, 'stepdaddy': 1669, 'sexually': 1670, 'abusing': 1671, 'somewhere': 1672, \"money's\": 1673, 'train': 1674, 'station': 1675, 'hair': 1676, 'streets': 1677, 'boulevard': 1678, 'selling': 1679, 'arresting': 1680, 'twelve': 1681, 'you’ll': 1682, 'lock': 1683, 'cheap': 1684, 'stones': 1685, 'worse': 1686, 'birthday': 1687, 'sending': 1688, 'roses': 1689, 'build': 1690, 'hopes': 1691, 'falls': 1692, 'creatures': 1693, 'crawl': 1694, 'search': 1695, 'terrorize': 1696, 'neighborhood': 1697, 'whosoever': 1698, 'hounds': 1699, 'rot': 1700, \"corpse's\": 1701, 'shell': 1702, 'squeal': 1703, 'sheer': 1704, 'delight': 1705, 'spy': 1706, 'plump': 1707, 'frozen': 1708, 'reaches': 1709, 'crypt': 1710, 'crush': 1711, 'its': 1712, 'icy': 1713, 'grip': 1714, 'foulest': 1715, 'stench': 1716, 'funk': 1717, '40': 1718, '000': 1719, 'grisly': 1720, 'ghouls': 1721, 'tomb': 1722, 'seal': 1723, 'shiver': 1724, 'mere': 1725, 'mortal': 1726, 'resist': 1727, 'answered': 1728, 'letting': 1729, 'hoping': 1730, 'somehow': 1731, 'asked': 1732, 'neighbor': 1733, 'favor': 1734, 'later': 1735, 'prophets': 1736, 'possibilities': 1737, 'fears': 1738, 'changing': 1739, 'rearranging': 1740, 'predictions': 1741, 'boom': 1742, 'favors': 1743, 'conditioned': 1744, 'buddha': 1745, 'sings': 1746, 'talmud': 1747, 'confusions': 1748, 'contradict': 1749, 'self': 1750, 'temple': 1751, 'upper': 1752, 'jackson': 1753, 'smooth': 1754, 'criminal': 1755, 'hat': 1756, 'relaxed': 1757, 'jingle': 1758, 'jungle': 1759, 'bum': 1760, 'rushed': 1761, '3': 1762, \"4's\": 1763, 'bundle': 1764, 'execute': 1765, 'cooled': 1766, 'janet': 1767, 'loss': 1768, 'sunlight': 1769, 'afternoon': 1770, 'castle': 1771, 'built': 1772, 'sandy': 1773, 'beach': 1774, 'flower': 1775, 'beyond': 1776, 'creaking': 1777, 'ghastly': 1778, 'falsely': 1779, 'ugh': 1780, \"flashin'\": 1781, 'cameras': 1782, 'taps': 1783, 'safe': 1784, \"robbin'\": 1785, \"stoppin'\": 1786, 'profit': 1787, 'apology': 1788, 'shallow': 1789, 'resort': 1790, \"gun-totin'\": 1791, 'broke': 1792, \"smokin'\": 1793, 'lonesome': 1794, \"i'ma\": 1795, 'joking': 1796, 'indo': 1797, \"chokin'\": 1798, \"hopin'\": 1799, \"slippin'\": 1800, 'rid': 1801, 'rotts': 1802, 'pits': 1803, 'peoples': 1804, 'strangers': 1805, 'slack': 1806, 'hurting': 1807, 'brighter': 1808, 'joyful': 1809, 'bliss': 1810, 'dread': 1811, 'existing': 1812, 'spirits': 1813, 'create': 1814, 'swords': 1815, 'plowshares': 1816, 'once': 1817, 'vibe': 1818, 'crescendo': 1819, 'apartment': 1820, 'bloodstains': 1821, 'carpet': 1822, 'unable': 1823, 'bedroom': 1824, 'struck': 1825, 'sunday': 1826, 'clues': 1827, 'suspect': 1828, 'expect': 1829, 'mouth-to-mouth': 1830, 'resuscitation': 1831, 'sounding': 1832, 'heartbeats': 1833, 'intimidations': 1834, 'burdens': 1835, 'begin': 1836, 'loved': 1837, 'abandoned': 1838, 'armageddon': 1839, 'brain': 1840, 'kgb': 1841, \"doggin'\": 1842, 'beggar': 1843, 'drown': 1844, 'print': 1845, 'none': 1846, 'protection': 1847, 'gangs': 1848, 'clubs': 1849, 'causing': 1850, 'grief': 1851, 'relations': 1852, 'turf': 1853, 'global': 1854, 'scale': 1855, 'rather': 1856, 'sides': 1857, 'tale': 1858, 'bright': 1859, 'duller': 1860, 'color': 1861, 'deceitful': 1862, 'thighs': 1863, 'speaks': 1864, 'lines': 1865, 'blew': 1866, 'spoke': 1867, 'goal': 1868, 'plays': 1869, 'heartbreaking': 1870, 'actions': 1871, 'confess': 1872, 'test': 1873, 'surprised': 1874, 'caught': 1875, 'onto': 1876, 'ma': 1877, 'mm': 1878, 'burner': 1879, 'heal': 1880, 'pepcid': 1881, 'ac': 1882, 'ball-hard': 1883, 'lenscrafters': 1884, 'heartbreaker': 1885, 'helpless': 1886, 'hopeless': 1887, \"nothing's\": 1888, 'possible': 1889, \"'hallowed\": 1890, \"ground'\": 1891, 'reveal': 1892, 'bigger': 1893, 'problem': 1894, 'hunger': 1895, \"trippin'\": 1896, 'school': 1897, 'teachers': 1898, 'teach': 1899, 'grown': 1900, 'diseases': 1901, 'cure': 1902, 'doctors': 1903, 'gang': 1904, 'violence': 1905, 'bloodshed': 1906, 'homeless': 1907, 'clothes': 1908, 'addiction': 1909, 'corruption': 1910, 'brutality': 1911, 'streetwalkers': 1912, 'gladness': 1913, 'trace': 1914, 'sadness': 1915, 'although': 1916, 'breaking': 1917, 'waiting': 1918, 'kisses': 1919, \"streetwalkin'\": 1920, 'chase': 1921, 'step': 1922, 'invitation': 1923, 'faraway': 1924, 'island': 1925, 'fact': 1926, 'york': 1927, 'paris': 1928, 'france': 1929, 'runaway': 1930, 'willed': 1931, 'motivate': 1932, 'dares': 1933, 'recognized': 1934, \"fire's\": 1935, 'higher': 1936, 'flying': 1937, 'king': 1938, 'hill': 1939, 'self-motivate': 1940, 'destined': 1941, 'mission': 1942, 'bound': 1943, 'ago': 1944, 'won’t': 1945, 'weed': 1946, 'hash': 1947, 'dope': 1948, 'delirious': 1949, 'curious': 1950, 'hitting': 1951, 'enjoying': 1952, 'animal': 1953, 'magnetism': 1954, 'criticism': 1955, 'mini': 1956, 'filmed': 1957, 'captain': 1958, 'helm': 1959, 'shivering': 1960, 'quivering': 1961, 'delivering': 1962, 'intense': 1963, 'spiritual': 1964, 'against': 1965, 'silence': 1966, 'wits': 1967, 'effect': 1968, 'chased': 1969, 'winter': 1970, 'snatched': 1971, 'ridiculed': 1972, 'harassed': 1973, \"respect's\": 1974, 'given': 1975, 'earned': 1976, 'maliciously': 1977, \"attackin'\": 1978, 'integrity': 1979, 'one!': 1980, 'busted': 1981, 'butts': 1982, 'sex': 1983, 'blues': 1984, 'hotfix': 1985, 'meenie': 1986, 'minee': 1987, 'mo': 1988, 'piano': 1989, 'roll': 1990, 'musty': 1991, 'perfume': 1992, 'busty': 1993, 'tv': 1994, 'weary': 1995, 'scold': 1996, 'faithful': 1997, 'everyone': 1998, 'suddenly': 1999, 'crowd': 2000, 'strain': 2001, 'died': 2002, 'susie': 2003, \"grandfather's\": 2004, 'flown': 2005, 'neglecting': 2006, 'foot': 2007, 'freak': 2008, 'join': 2009, 'party': 2010, 'roof': 2011, 'addressing': 2012, 'counting': 2013, 'blessings': 2014, 'weeping': 2015, 'keeping': 2016, 'riverboat': 2017, 'aware': 2018, \"could've\": 2019, 'wore': 2020, 'pictures': 2021, 'autographs': 2022, 'grabbed': 2023, 'magazine': 2024, 'dotted': 2025, 'bothers': 2026, 'ride': 2027, \"followin'\": 2028, 'pills': 2029, 'assures': 2030, 'preoccupied': 2031, \"they've\": 2032, \"doing's\": 2033, 'working': 2034, 'thinks': 2035, 'forgetting': 2036, 'tries': 2037, \"temperature's\": 2038, 'vow': 2039, 'happen': 2040, 'asks': 2041, 'candle': 2042, 'wax': 2043, 'enemy': 2044, 'despise': 2045, 'chain': 2046, 'signed': 2047, 'listen!': 2048, 'pill': 2049, \"doctor's\": 2050, 'baby!': 2051, \"devil's\": 2052, 'church': 2053, 'holy': 2054, 'scheme': 2055, 'absurd': 2056, 'saluting': 2057, 'flag': 2058, 'country': 2059, 'trusts': 2060, 'wearing': 2061, 'badge': 2062, 'few': 2063, 'wars': 2064, 'soldier': 2065, 'betray': 2066, 'insurance': 2067, 'loyalties': 2068, 'alibi': 2069, 'pot': 2070, 'midas': 2071, 'infected': 2072, 'gluttony': 2073, 'ones': 2074, 'biggest': 2075, 'idle': 2076, 'jabbers': 2077, 'backstabbers': 2078, 'warm': 2079, 'receiving': 2080, 'ass': 2081, 'surprise': 2082, 'missioned': 2083, 'shock': 2084, 'political': 2085, 'bsta': 2086, 'social': 2087, 'kkk': 2088, 'vote': 2089, 'ta': 2090, 'castles': 2091, 'trade': 2092, 'rainy': 2093, 'anybody': 2094, 'attracted': 2095, 'broken-hearted': 2096, 'risen': 2097, 'hundred': 2098, 'fearing': 2099, 'beast': 2100, \"watchin'\": 2101, 'trapped': 2102, 'halls': 2103, 'ghost': 2104, 'spell': 2105, 'blink': 2106, 'haunt': 2107, 'unknown': 2108, 'embark': 2109, 'particular': 2110, 'judgment': 2111, 'execution': 2112, 'slaughter': 2113, 'ghosts': 2114, 'torture': 2115, 'presence': 2116, 'lick': 2117, 'survival': 2118, 'fuck': 2119, 'rival': 2120, 'blade': 2121, 'leg': 2122, 'shade': 2123, 'undesirable': 2124, 'saint': 2125, 'beloved': 2126, 'winks': 2127, 'sleepless': 2128, 'eye': 2129, 'seducing': 2130, 'sighs': 2131, 'four': 2132, 'apple': 2133, 'bite': 2134, \"city's\": 2135, 'reaching': 2136, 'dreaming': 2137, 'aggravation': 2138, \"everybody's\": 2139, 'white': 2140, 'trepidation': 2141, 'throw': 2142, 'jail': 2143, 'litigation': 2144, 'bash': 2145, 'trash': 2146, 'segregation': 2147, 'twice!': 2148, 'a-hoo!': 2149, 'showed': 2150, 'photo': 2151, 'moonlight': 2152, 'spring': 2153, 'sacred': 2154, 'weight': 2155, 'likes': 2156, 'boys': 2157, 'band': 2158, \"musician's\": 2159, 'curtain': 2160, 'waits': 2161, 'backstage': 2162, 'doors': 2163, 'prestige': 2164, 'carefree': 2165, 'worried': 2166, 'most': 2167, 'breakdown': 2168, 'tongue': 2169, 'treacherous': 2170, \"cunnin'\": 2171, \"declinin'\": 2172, 'billie': 2173, 'jean': 2174, \"rubbin'\": 2175, 'shoulders': 2176, \"spyin'\": 2177, 'child': 2178, \"hustlin'\": 2179, \"stealin'\": 2180, 'slowly': 2181, \"dyin'\": 2182, 'fog': 2183, 'appear': 2184, \"laughin'\": 2185, \"smilin'\": 2186, 'sail': 2187, 'whisper': 2188, 'ear': 2189, 'rrr': 2190, 'works': 2191, 'overtime': 2192, 'rude': 2193, 'sir': 2194, 'kitchen': 2195, 'stove': 2196, 'dinner': 2197, 'served': 2198, \"food's\": 2199, 'late': 2200, 'swore': 2201, 'quit': 2202, 'swallowed': 2203, 'code': 2204, 'fingers': 2205, 'softly': 2206, 'possessed': 2207, 'sparkles': 2208, 'prize': 2209, 'erase': 2210, 'chemistry': 2211, 'degrees': 2212, 'purr': 2213, 'reciprocate': 2214, 'dedicate': 2215, 'understanding': 2216, 'whenever': 2217, 'handing': 2218, 'alibis': 2219}\n"
     ]
    }
   ],
   "execution_count": 16
  },
  {
   "metadata": {
    "ExecuteTime": {
     "end_time": "2025-05-25T15:21:55.811570Z",
     "start_time": "2025-05-25T15:21:55.487301Z"
    }
   },
   "cell_type": "code",
   "source": [
    "couplet_inputs = tf.keras.layers.Input(shape=(couplet_xs.shape[1],))\n",
    "\n",
    "couplet_x = tf.keras.layers.Embedding(input_dim=len(couplet_word_index) + 1, output_dim=256)(couplet_inputs)\n",
    "\n",
    "couplet_x = tf.keras.layers.Bidirectional(tf.keras.layers.LSTM(256, return_sequences=True))(couplet_x)\n",
    "couplet_x = tf.keras.layers.Bidirectional(tf.keras.layers.LSTM(256, return_sequences=True))(couplet_x)\n",
    "couplet_x = tf.keras.layers.Bidirectional(tf.keras.layers.LSTM(256))(couplet_x)\n",
    "couplet_outputs = tf.keras.layers.Dense(len(couplet_word_index) + 1, activation='softmax')(couplet_x)\n",
    "\n",
    "\n",
    "couplet_model = tf.keras.models.Model(inputs=couplet_inputs, outputs=couplet_outputs)\n",
    "couplet_model.summary()"
   ],
   "id": "b8fb55f36f3e4bf8",
   "outputs": [
    {
     "data": {
      "text/plain": [
       "\u001B[1mModel: \"functional\"\u001B[0m\n"
      ],
      "text/html": [
       "<pre style=\"white-space:pre;overflow-x:auto;line-height:normal;font-family:Menlo,'DejaVu Sans Mono',consolas,'Courier New',monospace\"><span style=\"font-weight: bold\">Model: \"functional\"</span>\n",
       "</pre>\n"
      ]
     },
     "metadata": {},
     "output_type": "display_data"
    },
    {
     "data": {
      "text/plain": [
       "┏━━━━━━━━━━━━━━━━━━━━━━━━━━━━━━━━━┳━━━━━━━━━━━━━━━━━━━━━━━━┳━━━━━━━━━━━━━━━┓\n",
       "┃\u001B[1m \u001B[0m\u001B[1mLayer (type)                   \u001B[0m\u001B[1m \u001B[0m┃\u001B[1m \u001B[0m\u001B[1mOutput Shape          \u001B[0m\u001B[1m \u001B[0m┃\u001B[1m \u001B[0m\u001B[1m      Param #\u001B[0m\u001B[1m \u001B[0m┃\n",
       "┡━━━━━━━━━━━━━━━━━━━━━━━━━━━━━━━━━╇━━━━━━━━━━━━━━━━━━━━━━━━╇━━━━━━━━━━━━━━━┩\n",
       "│ input_layer (\u001B[38;5;33mInputLayer\u001B[0m)        │ (\u001B[38;5;45mNone\u001B[0m, \u001B[38;5;34m17\u001B[0m)             │             \u001B[38;5;34m0\u001B[0m │\n",
       "├─────────────────────────────────┼────────────────────────┼───────────────┤\n",
       "│ embedding (\u001B[38;5;33mEmbedding\u001B[0m)           │ (\u001B[38;5;45mNone\u001B[0m, \u001B[38;5;34m17\u001B[0m, \u001B[38;5;34m256\u001B[0m)        │       \u001B[38;5;34m568,320\u001B[0m │\n",
       "├─────────────────────────────────┼────────────────────────┼───────────────┤\n",
       "│ bidirectional (\u001B[38;5;33mBidirectional\u001B[0m)   │ (\u001B[38;5;45mNone\u001B[0m, \u001B[38;5;34m17\u001B[0m, \u001B[38;5;34m512\u001B[0m)        │     \u001B[38;5;34m1,050,624\u001B[0m │\n",
       "├─────────────────────────────────┼────────────────────────┼───────────────┤\n",
       "│ bidirectional_1 (\u001B[38;5;33mBidirectional\u001B[0m) │ (\u001B[38;5;45mNone\u001B[0m, \u001B[38;5;34m17\u001B[0m, \u001B[38;5;34m512\u001B[0m)        │     \u001B[38;5;34m1,574,912\u001B[0m │\n",
       "├─────────────────────────────────┼────────────────────────┼───────────────┤\n",
       "│ bidirectional_2 (\u001B[38;5;33mBidirectional\u001B[0m) │ (\u001B[38;5;45mNone\u001B[0m, \u001B[38;5;34m512\u001B[0m)            │     \u001B[38;5;34m1,574,912\u001B[0m │\n",
       "├─────────────────────────────────┼────────────────────────┼───────────────┤\n",
       "│ dense (\u001B[38;5;33mDense\u001B[0m)                   │ (\u001B[38;5;45mNone\u001B[0m, \u001B[38;5;34m2220\u001B[0m)           │     \u001B[38;5;34m1,138,860\u001B[0m │\n",
       "└─────────────────────────────────┴────────────────────────┴───────────────┘\n"
      ],
      "text/html": [
       "<pre style=\"white-space:pre;overflow-x:auto;line-height:normal;font-family:Menlo,'DejaVu Sans Mono',consolas,'Courier New',monospace\">┏━━━━━━━━━━━━━━━━━━━━━━━━━━━━━━━━━┳━━━━━━━━━━━━━━━━━━━━━━━━┳━━━━━━━━━━━━━━━┓\n",
       "┃<span style=\"font-weight: bold\"> Layer (type)                    </span>┃<span style=\"font-weight: bold\"> Output Shape           </span>┃<span style=\"font-weight: bold\">       Param # </span>┃\n",
       "┡━━━━━━━━━━━━━━━━━━━━━━━━━━━━━━━━━╇━━━━━━━━━━━━━━━━━━━━━━━━╇━━━━━━━━━━━━━━━┩\n",
       "│ input_layer (<span style=\"color: #0087ff; text-decoration-color: #0087ff\">InputLayer</span>)        │ (<span style=\"color: #00d7ff; text-decoration-color: #00d7ff\">None</span>, <span style=\"color: #00af00; text-decoration-color: #00af00\">17</span>)             │             <span style=\"color: #00af00; text-decoration-color: #00af00\">0</span> │\n",
       "├─────────────────────────────────┼────────────────────────┼───────────────┤\n",
       "│ embedding (<span style=\"color: #0087ff; text-decoration-color: #0087ff\">Embedding</span>)           │ (<span style=\"color: #00d7ff; text-decoration-color: #00d7ff\">None</span>, <span style=\"color: #00af00; text-decoration-color: #00af00\">17</span>, <span style=\"color: #00af00; text-decoration-color: #00af00\">256</span>)        │       <span style=\"color: #00af00; text-decoration-color: #00af00\">568,320</span> │\n",
       "├─────────────────────────────────┼────────────────────────┼───────────────┤\n",
       "│ bidirectional (<span style=\"color: #0087ff; text-decoration-color: #0087ff\">Bidirectional</span>)   │ (<span style=\"color: #00d7ff; text-decoration-color: #00d7ff\">None</span>, <span style=\"color: #00af00; text-decoration-color: #00af00\">17</span>, <span style=\"color: #00af00; text-decoration-color: #00af00\">512</span>)        │     <span style=\"color: #00af00; text-decoration-color: #00af00\">1,050,624</span> │\n",
       "├─────────────────────────────────┼────────────────────────┼───────────────┤\n",
       "│ bidirectional_1 (<span style=\"color: #0087ff; text-decoration-color: #0087ff\">Bidirectional</span>) │ (<span style=\"color: #00d7ff; text-decoration-color: #00d7ff\">None</span>, <span style=\"color: #00af00; text-decoration-color: #00af00\">17</span>, <span style=\"color: #00af00; text-decoration-color: #00af00\">512</span>)        │     <span style=\"color: #00af00; text-decoration-color: #00af00\">1,574,912</span> │\n",
       "├─────────────────────────────────┼────────────────────────┼───────────────┤\n",
       "│ bidirectional_2 (<span style=\"color: #0087ff; text-decoration-color: #0087ff\">Bidirectional</span>) │ (<span style=\"color: #00d7ff; text-decoration-color: #00d7ff\">None</span>, <span style=\"color: #00af00; text-decoration-color: #00af00\">512</span>)            │     <span style=\"color: #00af00; text-decoration-color: #00af00\">1,574,912</span> │\n",
       "├─────────────────────────────────┼────────────────────────┼───────────────┤\n",
       "│ dense (<span style=\"color: #0087ff; text-decoration-color: #0087ff\">Dense</span>)                   │ (<span style=\"color: #00d7ff; text-decoration-color: #00d7ff\">None</span>, <span style=\"color: #00af00; text-decoration-color: #00af00\">2220</span>)           │     <span style=\"color: #00af00; text-decoration-color: #00af00\">1,138,860</span> │\n",
       "└─────────────────────────────────┴────────────────────────┴───────────────┘\n",
       "</pre>\n"
      ]
     },
     "metadata": {},
     "output_type": "display_data"
    },
    {
     "data": {
      "text/plain": [
       "\u001B[1m Total params: \u001B[0m\u001B[38;5;34m5,907,628\u001B[0m (22.54 MB)\n"
      ],
      "text/html": [
       "<pre style=\"white-space:pre;overflow-x:auto;line-height:normal;font-family:Menlo,'DejaVu Sans Mono',consolas,'Courier New',monospace\"><span style=\"font-weight: bold\"> Total params: </span><span style=\"color: #00af00; text-decoration-color: #00af00\">5,907,628</span> (22.54 MB)\n",
       "</pre>\n"
      ]
     },
     "metadata": {},
     "output_type": "display_data"
    },
    {
     "data": {
      "text/plain": [
       "\u001B[1m Trainable params: \u001B[0m\u001B[38;5;34m5,907,628\u001B[0m (22.54 MB)\n"
      ],
      "text/html": [
       "<pre style=\"white-space:pre;overflow-x:auto;line-height:normal;font-family:Menlo,'DejaVu Sans Mono',consolas,'Courier New',monospace\"><span style=\"font-weight: bold\"> Trainable params: </span><span style=\"color: #00af00; text-decoration-color: #00af00\">5,907,628</span> (22.54 MB)\n",
       "</pre>\n"
      ]
     },
     "metadata": {},
     "output_type": "display_data"
    },
    {
     "data": {
      "text/plain": [
       "\u001B[1m Non-trainable params: \u001B[0m\u001B[38;5;34m0\u001B[0m (0.00 B)\n"
      ],
      "text/html": [
       "<pre style=\"white-space:pre;overflow-x:auto;line-height:normal;font-family:Menlo,'DejaVu Sans Mono',consolas,'Courier New',monospace\"><span style=\"font-weight: bold\"> Non-trainable params: </span><span style=\"color: #00af00; text-decoration-color: #00af00\">0</span> (0.00 B)\n",
       "</pre>\n"
      ]
     },
     "metadata": {},
     "output_type": "display_data"
    }
   ],
   "execution_count": 17
  },
  {
   "metadata": {
    "ExecuteTime": {
     "end_time": "2025-05-25T15:22:07.913674Z",
     "start_time": "2025-05-25T15:22:07.903576Z"
    }
   },
   "cell_type": "code",
   "source": [
    "epochs = 100\n",
    "couplet_loss = tf.keras.losses.CategoricalCrossentropy()\n",
    "couplet_optimizer = tf.keras.optimizers.Adam()\n",
    "\n",
    "couplet_model.compile(loss=couplet_loss, optimizer=couplet_optimizer, metrics=['accuracy'])"
   ],
   "id": "9fbf6e9246aeeb4e",
   "outputs": [],
   "execution_count": 18
  },
  {
   "metadata": {},
   "cell_type": "markdown",
   "source": "",
   "id": "9e51821b3f384792"
  },
  {
   "metadata": {
    "ExecuteTime": {
     "end_time": "2025-05-25T15:22:11.375798Z",
     "start_time": "2025-05-25T15:22:11.371737Z"
    }
   },
   "cell_type": "code",
   "source": "print(couplet_xs.shape)",
   "id": "f6345e56d78466a7",
   "outputs": [
    {
     "name": "stdout",
     "output_type": "stream",
     "text": [
      "(12121, 17)\n"
     ]
    }
   ],
   "execution_count": 19
  },
  {
   "metadata": {
    "ExecuteTime": {
     "end_time": "2025-05-25T17:43:21.146252Z",
     "start_time": "2025-05-25T15:22:15.037581Z"
    }
   },
   "cell_type": "code",
   "source": "couplet_history = couplet_model.fit(couplet_xs, couplet_ys, epochs=epochs)",
   "id": "e8e0675e4fd32351",
   "outputs": [
    {
     "name": "stdout",
     "output_type": "stream",
     "text": [
      "Epoch 1/100\n",
      "\u001B[1m379/379\u001B[0m \u001B[32m━━━━━━━━━━━━━━━━━━━━\u001B[0m\u001B[37m\u001B[0m \u001B[1m92s\u001B[0m 233ms/step - accuracy: 0.0353 - loss: 6.6209\n",
      "Epoch 2/100\n",
      "\u001B[1m379/379\u001B[0m \u001B[32m━━━━━━━━━━━━━━━━━━━━\u001B[0m\u001B[37m\u001B[0m \u001B[1m88s\u001B[0m 231ms/step - accuracy: 0.0387 - loss: 5.9879\n",
      "Epoch 3/100\n",
      "\u001B[1m379/379\u001B[0m \u001B[32m━━━━━━━━━━━━━━━━━━━━\u001B[0m\u001B[37m\u001B[0m \u001B[1m91s\u001B[0m 239ms/step - accuracy: 0.0481 - loss: 5.7368\n",
      "Epoch 4/100\n",
      "\u001B[1m379/379\u001B[0m \u001B[32m━━━━━━━━━━━━━━━━━━━━\u001B[0m\u001B[37m\u001B[0m \u001B[1m101s\u001B[0m 266ms/step - accuracy: 0.0672 - loss: 5.5212\n",
      "Epoch 5/100\n",
      "\u001B[1m379/379\u001B[0m \u001B[32m━━━━━━━━━━━━━━━━━━━━\u001B[0m\u001B[37m\u001B[0m \u001B[1m93s\u001B[0m 245ms/step - accuracy: 0.0912 - loss: 5.2914\n",
      "Epoch 6/100\n",
      "\u001B[1m379/379\u001B[0m \u001B[32m━━━━━━━━━━━━━━━━━━━━\u001B[0m\u001B[37m\u001B[0m \u001B[1m84s\u001B[0m 220ms/step - accuracy: 0.1075 - loss: 5.0965\n",
      "Epoch 7/100\n",
      "\u001B[1m379/379\u001B[0m \u001B[32m━━━━━━━━━━━━━━━━━━━━\u001B[0m\u001B[37m\u001B[0m \u001B[1m83s\u001B[0m 220ms/step - accuracy: 0.1248 - loss: 4.9107\n",
      "Epoch 8/100\n",
      "\u001B[1m379/379\u001B[0m \u001B[32m━━━━━━━━━━━━━━━━━━━━\u001B[0m\u001B[37m\u001B[0m \u001B[1m82s\u001B[0m 216ms/step - accuracy: 0.1344 - loss: 4.7182\n",
      "Epoch 9/100\n",
      "\u001B[1m379/379\u001B[0m \u001B[32m━━━━━━━━━━━━━━━━━━━━\u001B[0m\u001B[37m\u001B[0m \u001B[1m82s\u001B[0m 217ms/step - accuracy: 0.1418 - loss: 4.5349\n",
      "Epoch 10/100\n",
      "\u001B[1m379/379\u001B[0m \u001B[32m━━━━━━━━━━━━━━━━━━━━\u001B[0m\u001B[37m\u001B[0m \u001B[1m84s\u001B[0m 221ms/step - accuracy: 0.1648 - loss: 4.3545\n",
      "Epoch 11/100\n",
      "\u001B[1m379/379\u001B[0m \u001B[32m━━━━━━━━━━━━━━━━━━━━\u001B[0m\u001B[37m\u001B[0m \u001B[1m83s\u001B[0m 218ms/step - accuracy: 0.1839 - loss: 4.1701\n",
      "Epoch 12/100\n",
      "\u001B[1m379/379\u001B[0m \u001B[32m━━━━━━━━━━━━━━━━━━━━\u001B[0m\u001B[37m\u001B[0m \u001B[1m84s\u001B[0m 222ms/step - accuracy: 0.2059 - loss: 3.9902\n",
      "Epoch 13/100\n",
      "\u001B[1m379/379\u001B[0m \u001B[32m━━━━━━━━━━━━━━━━━━━━\u001B[0m\u001B[37m\u001B[0m \u001B[1m82s\u001B[0m 216ms/step - accuracy: 0.2195 - loss: 3.8136\n",
      "Epoch 14/100\n",
      "\u001B[1m379/379\u001B[0m \u001B[32m━━━━━━━━━━━━━━━━━━━━\u001B[0m\u001B[37m\u001B[0m \u001B[1m94s\u001B[0m 247ms/step - accuracy: 0.2512 - loss: 3.6229\n",
      "Epoch 15/100\n",
      "\u001B[1m379/379\u001B[0m \u001B[32m━━━━━━━━━━━━━━━━━━━━\u001B[0m\u001B[37m\u001B[0m \u001B[1m88s\u001B[0m 231ms/step - accuracy: 0.2808 - loss: 3.4405\n",
      "Epoch 16/100\n",
      "\u001B[1m379/379\u001B[0m \u001B[32m━━━━━━━━━━━━━━━━━━━━\u001B[0m\u001B[37m\u001B[0m \u001B[1m78s\u001B[0m 206ms/step - accuracy: 0.3128 - loss: 3.2541\n",
      "Epoch 17/100\n",
      "\u001B[1m379/379\u001B[0m \u001B[32m━━━━━━━━━━━━━━━━━━━━\u001B[0m\u001B[37m\u001B[0m \u001B[1m88s\u001B[0m 233ms/step - accuracy: 0.3404 - loss: 3.0604\n",
      "Epoch 18/100\n",
      "\u001B[1m379/379\u001B[0m \u001B[32m━━━━━━━━━━━━━━━━━━━━\u001B[0m\u001B[37m\u001B[0m \u001B[1m79s\u001B[0m 209ms/step - accuracy: 0.3713 - loss: 2.8991\n",
      "Epoch 19/100\n",
      "\u001B[1m379/379\u001B[0m \u001B[32m━━━━━━━━━━━━━━━━━━━━\u001B[0m\u001B[37m\u001B[0m \u001B[1m89s\u001B[0m 234ms/step - accuracy: 0.4120 - loss: 2.6811\n",
      "Epoch 20/100\n",
      "\u001B[1m379/379\u001B[0m \u001B[32m━━━━━━━━━━━━━━━━━━━━\u001B[0m\u001B[37m\u001B[0m \u001B[1m85s\u001B[0m 224ms/step - accuracy: 0.4542 - loss: 2.4950\n",
      "Epoch 21/100\n",
      "\u001B[1m379/379\u001B[0m \u001B[32m━━━━━━━━━━━━━━━━━━━━\u001B[0m\u001B[37m\u001B[0m \u001B[1m83s\u001B[0m 219ms/step - accuracy: 0.4875 - loss: 2.3185\n",
      "Epoch 22/100\n",
      "\u001B[1m379/379\u001B[0m \u001B[32m━━━━━━━━━━━━━━━━━━━━\u001B[0m\u001B[37m\u001B[0m \u001B[1m89s\u001B[0m 234ms/step - accuracy: 0.5146 - loss: 2.2011\n",
      "Epoch 23/100\n",
      "\u001B[1m379/379\u001B[0m \u001B[32m━━━━━━━━━━━━━━━━━━━━\u001B[0m\u001B[37m\u001B[0m \u001B[1m83s\u001B[0m 220ms/step - accuracy: 0.5581 - loss: 2.0180\n",
      "Epoch 24/100\n",
      "\u001B[1m379/379\u001B[0m \u001B[32m━━━━━━━━━━━━━━━━━━━━\u001B[0m\u001B[37m\u001B[0m \u001B[1m91s\u001B[0m 240ms/step - accuracy: 0.6004 - loss: 1.8228\n",
      "Epoch 25/100\n",
      "\u001B[1m379/379\u001B[0m \u001B[32m━━━━━━━━━━━━━━━━━━━━\u001B[0m\u001B[37m\u001B[0m \u001B[1m82s\u001B[0m 217ms/step - accuracy: 0.6208 - loss: 1.7116\n",
      "Epoch 26/100\n",
      "\u001B[1m379/379\u001B[0m \u001B[32m━━━━━━━━━━━━━━━━━━━━\u001B[0m\u001B[37m\u001B[0m \u001B[1m82s\u001B[0m 215ms/step - accuracy: 0.6476 - loss: 1.5754\n",
      "Epoch 27/100\n",
      "\u001B[1m379/379\u001B[0m \u001B[32m━━━━━━━━━━━━━━━━━━━━\u001B[0m\u001B[37m\u001B[0m \u001B[1m80s\u001B[0m 212ms/step - accuracy: 0.6656 - loss: 1.4459\n",
      "Epoch 28/100\n",
      "\u001B[1m379/379\u001B[0m \u001B[32m━━━━━━━━━━━━━━━━━━━━\u001B[0m\u001B[37m\u001B[0m \u001B[1m79s\u001B[0m 209ms/step - accuracy: 0.7070 - loss: 1.2974\n",
      "Epoch 29/100\n",
      "\u001B[1m379/379\u001B[0m \u001B[32m━━━━━━━━━━━━━━━━━━━━\u001B[0m\u001B[37m\u001B[0m \u001B[1m82s\u001B[0m 215ms/step - accuracy: 0.7233 - loss: 1.2252\n",
      "Epoch 30/100\n",
      "\u001B[1m379/379\u001B[0m \u001B[32m━━━━━━━━━━━━━━━━━━━━\u001B[0m\u001B[37m\u001B[0m \u001B[1m79s\u001B[0m 210ms/step - accuracy: 0.7375 - loss: 1.1353\n",
      "Epoch 31/100\n",
      "\u001B[1m379/379\u001B[0m \u001B[32m━━━━━━━━━━━━━━━━━━━━\u001B[0m\u001B[37m\u001B[0m \u001B[1m80s\u001B[0m 211ms/step - accuracy: 0.7592 - loss: 1.0253\n",
      "Epoch 32/100\n",
      "\u001B[1m379/379\u001B[0m \u001B[32m━━━━━━━━━━━━━━━━━━━━\u001B[0m\u001B[37m\u001B[0m \u001B[1m79s\u001B[0m 210ms/step - accuracy: 0.7688 - loss: 0.9636\n",
      "Epoch 33/100\n",
      "\u001B[1m379/379\u001B[0m \u001B[32m━━━━━━━━━━━━━━━━━━━━\u001B[0m\u001B[37m\u001B[0m \u001B[1m79s\u001B[0m 210ms/step - accuracy: 0.7734 - loss: 0.9273\n",
      "Epoch 34/100\n",
      "\u001B[1m379/379\u001B[0m \u001B[32m━━━━━━━━━━━━━━━━━━━━\u001B[0m\u001B[37m\u001B[0m \u001B[1m80s\u001B[0m 210ms/step - accuracy: 0.7966 - loss: 0.8318\n",
      "Epoch 35/100\n",
      "\u001B[1m379/379\u001B[0m \u001B[32m━━━━━━━━━━━━━━━━━━━━\u001B[0m\u001B[37m\u001B[0m \u001B[1m79s\u001B[0m 209ms/step - accuracy: 0.8034 - loss: 0.7890\n",
      "Epoch 36/100\n",
      "\u001B[1m379/379\u001B[0m \u001B[32m━━━━━━━━━━━━━━━━━━━━\u001B[0m\u001B[37m\u001B[0m \u001B[1m82s\u001B[0m 217ms/step - accuracy: 0.8081 - loss: 0.7550\n",
      "Epoch 37/100\n",
      "\u001B[1m379/379\u001B[0m \u001B[32m━━━━━━━━━━━━━━━━━━━━\u001B[0m\u001B[37m\u001B[0m \u001B[1m82s\u001B[0m 216ms/step - accuracy: 0.8084 - loss: 0.7367\n",
      "Epoch 38/100\n",
      "\u001B[1m379/379\u001B[0m \u001B[32m━━━━━━━━━━━━━━━━━━━━\u001B[0m\u001B[37m\u001B[0m \u001B[1m81s\u001B[0m 213ms/step - accuracy: 0.8189 - loss: 0.6768\n",
      "Epoch 39/100\n",
      "\u001B[1m379/379\u001B[0m \u001B[32m━━━━━━━━━━━━━━━━━━━━\u001B[0m\u001B[37m\u001B[0m \u001B[1m79s\u001B[0m 208ms/step - accuracy: 0.8293 - loss: 0.6461\n",
      "Epoch 40/100\n",
      "\u001B[1m379/379\u001B[0m \u001B[32m━━━━━━━━━━━━━━━━━━━━\u001B[0m\u001B[37m\u001B[0m \u001B[1m80s\u001B[0m 210ms/step - accuracy: 0.8250 - loss: 0.6519\n",
      "Epoch 41/100\n",
      "\u001B[1m379/379\u001B[0m \u001B[32m━━━━━━━━━━━━━━━━━━━━\u001B[0m\u001B[37m\u001B[0m \u001B[1m84s\u001B[0m 221ms/step - accuracy: 0.8318 - loss: 0.5990\n",
      "Epoch 42/100\n",
      "\u001B[1m379/379\u001B[0m \u001B[32m━━━━━━━━━━━━━━━━━━━━\u001B[0m\u001B[37m\u001B[0m \u001B[1m81s\u001B[0m 215ms/step - accuracy: 0.8329 - loss: 0.5995\n",
      "Epoch 43/100\n",
      "\u001B[1m379/379\u001B[0m \u001B[32m━━━━━━━━━━━━━━━━━━━━\u001B[0m\u001B[37m\u001B[0m \u001B[1m80s\u001B[0m 212ms/step - accuracy: 0.8346 - loss: 0.5952\n",
      "Epoch 44/100\n",
      "\u001B[1m379/379\u001B[0m \u001B[32m━━━━━━━━━━━━━━━━━━━━\u001B[0m\u001B[37m\u001B[0m \u001B[1m81s\u001B[0m 214ms/step - accuracy: 0.8351 - loss: 0.5839\n",
      "Epoch 45/100\n",
      "\u001B[1m379/379\u001B[0m \u001B[32m━━━━━━━━━━━━━━━━━━━━\u001B[0m\u001B[37m\u001B[0m \u001B[1m80s\u001B[0m 210ms/step - accuracy: 0.8421 - loss: 0.5385\n",
      "Epoch 46/100\n",
      "\u001B[1m379/379\u001B[0m \u001B[32m━━━━━━━━━━━━━━━━━━━━\u001B[0m\u001B[37m\u001B[0m \u001B[1m80s\u001B[0m 212ms/step - accuracy: 0.8373 - loss: 0.5534\n",
      "Epoch 47/100\n",
      "\u001B[1m379/379\u001B[0m \u001B[32m━━━━━━━━━━━━━━━━━━━━\u001B[0m\u001B[37m\u001B[0m \u001B[1m79s\u001B[0m 208ms/step - accuracy: 0.8377 - loss: 0.5278\n",
      "Epoch 48/100\n",
      "\u001B[1m379/379\u001B[0m \u001B[32m━━━━━━━━━━━━━━━━━━━━\u001B[0m\u001B[37m\u001B[0m \u001B[1m80s\u001B[0m 212ms/step - accuracy: 0.8419 - loss: 0.5222\n",
      "Epoch 49/100\n",
      "\u001B[1m379/379\u001B[0m \u001B[32m━━━━━━━━━━━━━━━━━━━━\u001B[0m\u001B[37m\u001B[0m \u001B[1m80s\u001B[0m 210ms/step - accuracy: 0.8390 - loss: 0.5375\n",
      "Epoch 50/100\n",
      "\u001B[1m379/379\u001B[0m \u001B[32m━━━━━━━━━━━━━━━━━━━━\u001B[0m\u001B[37m\u001B[0m \u001B[1m80s\u001B[0m 211ms/step - accuracy: 0.8368 - loss: 0.5363\n",
      "Epoch 51/100\n",
      "\u001B[1m379/379\u001B[0m \u001B[32m━━━━━━━━━━━━━━━━━━━━\u001B[0m\u001B[37m\u001B[0m \u001B[1m83s\u001B[0m 218ms/step - accuracy: 0.8429 - loss: 0.5138\n",
      "Epoch 52/100\n",
      "\u001B[1m379/379\u001B[0m \u001B[32m━━━━━━━━━━━━━━━━━━━━\u001B[0m\u001B[37m\u001B[0m \u001B[1m80s\u001B[0m 212ms/step - accuracy: 0.8374 - loss: 0.5370\n",
      "Epoch 53/100\n",
      "\u001B[1m379/379\u001B[0m \u001B[32m━━━━━━━━━━━━━━━━━━━━\u001B[0m\u001B[37m\u001B[0m \u001B[1m82s\u001B[0m 217ms/step - accuracy: 0.8230 - loss: 0.5788\n",
      "Epoch 54/100\n",
      "\u001B[1m379/379\u001B[0m \u001B[32m━━━━━━━━━━━━━━━━━━━━\u001B[0m\u001B[37m\u001B[0m \u001B[1m81s\u001B[0m 214ms/step - accuracy: 0.8371 - loss: 0.5385\n",
      "Epoch 55/100\n",
      "\u001B[1m379/379\u001B[0m \u001B[32m━━━━━━━━━━━━━━━━━━━━\u001B[0m\u001B[37m\u001B[0m \u001B[1m80s\u001B[0m 211ms/step - accuracy: 0.8364 - loss: 0.5125\n",
      "Epoch 56/100\n",
      "\u001B[1m379/379\u001B[0m \u001B[32m━━━━━━━━━━━━━━━━━━━━\u001B[0m\u001B[37m\u001B[0m \u001B[1m83s\u001B[0m 219ms/step - accuracy: 0.8493 - loss: 0.4728\n",
      "Epoch 57/100\n",
      "\u001B[1m379/379\u001B[0m \u001B[32m━━━━━━━━━━━━━━━━━━━━\u001B[0m\u001B[37m\u001B[0m \u001B[1m79s\u001B[0m 209ms/step - accuracy: 0.8463 - loss: 0.4832\n",
      "Epoch 58/100\n",
      "\u001B[1m379/379\u001B[0m \u001B[32m━━━━━━━━━━━━━━━━━━━━\u001B[0m\u001B[37m\u001B[0m \u001B[1m80s\u001B[0m 212ms/step - accuracy: 0.8494 - loss: 0.4701\n",
      "Epoch 59/100\n",
      "\u001B[1m379/379\u001B[0m \u001B[32m━━━━━━━━━━━━━━━━━━━━\u001B[0m\u001B[37m\u001B[0m \u001B[1m80s\u001B[0m 211ms/step - accuracy: 0.8469 - loss: 0.4797\n",
      "Epoch 60/100\n",
      "\u001B[1m379/379\u001B[0m \u001B[32m━━━━━━━━━━━━━━━━━━━━\u001B[0m\u001B[37m\u001B[0m \u001B[1m82s\u001B[0m 216ms/step - accuracy: 0.8363 - loss: 0.4976\n",
      "Epoch 61/100\n",
      "\u001B[1m379/379\u001B[0m \u001B[32m━━━━━━━━━━━━━━━━━━━━\u001B[0m\u001B[37m\u001B[0m \u001B[1m81s\u001B[0m 213ms/step - accuracy: 0.8381 - loss: 0.4920\n",
      "Epoch 62/100\n",
      "\u001B[1m379/379\u001B[0m \u001B[32m━━━━━━━━━━━━━━━━━━━━\u001B[0m\u001B[37m\u001B[0m \u001B[1m79s\u001B[0m 208ms/step - accuracy: 0.8389 - loss: 0.4983\n",
      "Epoch 63/100\n",
      "\u001B[1m379/379\u001B[0m \u001B[32m━━━━━━━━━━━━━━━━━━━━\u001B[0m\u001B[37m\u001B[0m \u001B[1m80s\u001B[0m 211ms/step - accuracy: 0.8325 - loss: 0.5509\n",
      "Epoch 64/100\n",
      "\u001B[1m379/379\u001B[0m \u001B[32m━━━━━━━━━━━━━━━━━━━━\u001B[0m\u001B[37m\u001B[0m \u001B[1m80s\u001B[0m 211ms/step - accuracy: 0.8199 - loss: 0.5843\n",
      "Epoch 65/100\n",
      "\u001B[1m379/379\u001B[0m \u001B[32m━━━━━━━━━━━━━━━━━━━━\u001B[0m\u001B[37m\u001B[0m \u001B[1m79s\u001B[0m 208ms/step - accuracy: 0.8355 - loss: 0.5153\n",
      "Epoch 66/100\n",
      "\u001B[1m379/379\u001B[0m \u001B[32m━━━━━━━━━━━━━━━━━━━━\u001B[0m\u001B[37m\u001B[0m \u001B[1m80s\u001B[0m 212ms/step - accuracy: 0.8422 - loss: 0.4751\n",
      "Epoch 67/100\n",
      "\u001B[1m379/379\u001B[0m \u001B[32m━━━━━━━━━━━━━━━━━━━━\u001B[0m\u001B[37m\u001B[0m \u001B[1m81s\u001B[0m 213ms/step - accuracy: 0.8497 - loss: 0.4590\n",
      "Epoch 68/100\n",
      "\u001B[1m379/379\u001B[0m \u001B[32m━━━━━━━━━━━━━━━━━━━━\u001B[0m\u001B[37m\u001B[0m \u001B[1m81s\u001B[0m 214ms/step - accuracy: 0.8415 - loss: 0.4628\n",
      "Epoch 69/100\n",
      "\u001B[1m379/379\u001B[0m \u001B[32m━━━━━━━━━━━━━━━━━━━━\u001B[0m\u001B[37m\u001B[0m \u001B[1m81s\u001B[0m 214ms/step - accuracy: 0.8458 - loss: 0.4574\n",
      "Epoch 70/100\n",
      "\u001B[1m379/379\u001B[0m \u001B[32m━━━━━━━━━━━━━━━━━━━━\u001B[0m\u001B[37m\u001B[0m \u001B[1m82s\u001B[0m 215ms/step - accuracy: 0.8443 - loss: 0.4597\n",
      "Epoch 71/100\n",
      "\u001B[1m379/379\u001B[0m \u001B[32m━━━━━━━━━━━━━━━━━━━━\u001B[0m\u001B[37m\u001B[0m \u001B[1m81s\u001B[0m 214ms/step - accuracy: 0.8461 - loss: 0.4543\n",
      "Epoch 72/100\n",
      "\u001B[1m379/379\u001B[0m \u001B[32m━━━━━━━━━━━━━━━━━━━━\u001B[0m\u001B[37m\u001B[0m \u001B[1m82s\u001B[0m 216ms/step - accuracy: 0.8406 - loss: 0.4765\n",
      "Epoch 73/100\n",
      "\u001B[1m379/379\u001B[0m \u001B[32m━━━━━━━━━━━━━━━━━━━━\u001B[0m\u001B[37m\u001B[0m \u001B[1m90s\u001B[0m 238ms/step - accuracy: 0.8417 - loss: 0.4764\n",
      "Epoch 74/100\n",
      "\u001B[1m379/379\u001B[0m \u001B[32m━━━━━━━━━━━━━━━━━━━━\u001B[0m\u001B[37m\u001B[0m \u001B[1m88s\u001B[0m 232ms/step - accuracy: 0.8218 - loss: 0.5581\n",
      "Epoch 75/100\n",
      "\u001B[1m379/379\u001B[0m \u001B[32m━━━━━━━━━━━━━━━━━━━━\u001B[0m\u001B[37m\u001B[0m \u001B[1m83s\u001B[0m 220ms/step - accuracy: 0.8299 - loss: 0.5392\n",
      "Epoch 76/100\n",
      "\u001B[1m379/379\u001B[0m \u001B[32m━━━━━━━━━━━━━━━━━━━━\u001B[0m\u001B[37m\u001B[0m \u001B[1m83s\u001B[0m 218ms/step - accuracy: 0.8407 - loss: 0.4829\n",
      "Epoch 77/100\n",
      "\u001B[1m379/379\u001B[0m \u001B[32m━━━━━━━━━━━━━━━━━━━━\u001B[0m\u001B[37m\u001B[0m \u001B[1m84s\u001B[0m 221ms/step - accuracy: 0.8430 - loss: 0.4643\n",
      "Epoch 78/100\n",
      "\u001B[1m379/379\u001B[0m \u001B[32m━━━━━━━━━━━━━━━━━━━━\u001B[0m\u001B[37m\u001B[0m \u001B[1m82s\u001B[0m 218ms/step - accuracy: 0.8413 - loss: 0.4672\n",
      "Epoch 79/100\n",
      "\u001B[1m379/379\u001B[0m \u001B[32m━━━━━━━━━━━━━━━━━━━━\u001B[0m\u001B[37m\u001B[0m \u001B[1m91s\u001B[0m 240ms/step - accuracy: 0.8460 - loss: 0.4537\n",
      "Epoch 80/100\n",
      "\u001B[1m379/379\u001B[0m \u001B[32m━━━━━━━━━━━━━━━━━━━━\u001B[0m\u001B[37m\u001B[0m \u001B[1m97s\u001B[0m 257ms/step - accuracy: 0.8492 - loss: 0.4441\n",
      "Epoch 81/100\n",
      "\u001B[1m379/379\u001B[0m \u001B[32m━━━━━━━━━━━━━━━━━━━━\u001B[0m\u001B[37m\u001B[0m \u001B[1m95s\u001B[0m 250ms/step - accuracy: 0.8454 - loss: 0.4501\n",
      "Epoch 82/100\n",
      "\u001B[1m379/379\u001B[0m \u001B[32m━━━━━━━━━━━━━━━━━━━━\u001B[0m\u001B[37m\u001B[0m \u001B[1m94s\u001B[0m 249ms/step - accuracy: 0.8505 - loss: 0.4386\n",
      "Epoch 83/100\n",
      "\u001B[1m379/379\u001B[0m \u001B[32m━━━━━━━━━━━━━━━━━━━━\u001B[0m\u001B[37m\u001B[0m \u001B[1m94s\u001B[0m 249ms/step - accuracy: 0.8412 - loss: 0.4623\n",
      "Epoch 84/100\n",
      "\u001B[1m379/379\u001B[0m \u001B[32m━━━━━━━━━━━━━━━━━━━━\u001B[0m\u001B[37m\u001B[0m \u001B[1m94s\u001B[0m 248ms/step - accuracy: 0.8393 - loss: 0.4875\n",
      "Epoch 85/100\n",
      "\u001B[1m379/379\u001B[0m \u001B[32m━━━━━━━━━━━━━━━━━━━━\u001B[0m\u001B[37m\u001B[0m \u001B[1m96s\u001B[0m 255ms/step - accuracy: 0.8285 - loss: 0.5368\n",
      "Epoch 86/100\n",
      "\u001B[1m379/379\u001B[0m \u001B[32m━━━━━━━━━━━━━━━━━━━━\u001B[0m\u001B[37m\u001B[0m \u001B[1m94s\u001B[0m 247ms/step - accuracy: 0.8361 - loss: 0.5107\n",
      "Epoch 87/100\n",
      "\u001B[1m379/379\u001B[0m \u001B[32m━━━━━━━━━━━━━━━━━━━━\u001B[0m\u001B[37m\u001B[0m \u001B[1m95s\u001B[0m 251ms/step - accuracy: 0.8383 - loss: 0.4819\n",
      "Epoch 88/100\n",
      "\u001B[1m379/379\u001B[0m \u001B[32m━━━━━━━━━━━━━━━━━━━━\u001B[0m\u001B[37m\u001B[0m \u001B[1m97s\u001B[0m 255ms/step - accuracy: 0.8525 - loss: 0.4497\n",
      "Epoch 89/100\n",
      "\u001B[1m379/379\u001B[0m \u001B[32m━━━━━━━━━━━━━━━━━━━━\u001B[0m\u001B[37m\u001B[0m \u001B[1m95s\u001B[0m 252ms/step - accuracy: 0.8456 - loss: 0.4578\n",
      "Epoch 90/100\n",
      "\u001B[1m379/379\u001B[0m \u001B[32m━━━━━━━━━━━━━━━━━━━━\u001B[0m\u001B[37m\u001B[0m \u001B[1m98s\u001B[0m 258ms/step - accuracy: 0.8451 - loss: 0.4482\n",
      "Epoch 91/100\n",
      "\u001B[1m379/379\u001B[0m \u001B[32m━━━━━━━━━━━━━━━━━━━━\u001B[0m\u001B[37m\u001B[0m \u001B[1m86s\u001B[0m 226ms/step - accuracy: 0.8481 - loss: 0.4430\n",
      "Epoch 92/100\n",
      "\u001B[1m379/379\u001B[0m \u001B[32m━━━━━━━━━━━━━━━━━━━━\u001B[0m\u001B[37m\u001B[0m \u001B[1m83s\u001B[0m 219ms/step - accuracy: 0.8570 - loss: 0.4169\n",
      "Epoch 93/100\n",
      "\u001B[1m379/379\u001B[0m \u001B[32m━━━━━━━━━━━━━━━━━━━━\u001B[0m\u001B[37m\u001B[0m \u001B[1m83s\u001B[0m 220ms/step - accuracy: 0.8474 - loss: 0.4380\n",
      "Epoch 94/100\n",
      "\u001B[1m379/379\u001B[0m \u001B[32m━━━━━━━━━━━━━━━━━━━━\u001B[0m\u001B[37m\u001B[0m \u001B[1m84s\u001B[0m 221ms/step - accuracy: 0.8503 - loss: 0.4437\n",
      "Epoch 95/100\n",
      "\u001B[1m379/379\u001B[0m \u001B[32m━━━━━━━━━━━━━━━━━━━━\u001B[0m\u001B[37m\u001B[0m \u001B[1m83s\u001B[0m 220ms/step - accuracy: 0.8447 - loss: 0.4662\n",
      "Epoch 96/100\n",
      "\u001B[1m379/379\u001B[0m \u001B[32m━━━━━━━━━━━━━━━━━━━━\u001B[0m\u001B[37m\u001B[0m \u001B[1m85s\u001B[0m 224ms/step - accuracy: 0.8050 - loss: 0.6083\n",
      "Epoch 97/100\n",
      "\u001B[1m379/379\u001B[0m \u001B[32m━━━━━━━━━━━━━━━━━━━━\u001B[0m\u001B[37m\u001B[0m \u001B[1m83s\u001B[0m 219ms/step - accuracy: 0.8356 - loss: 0.4932\n",
      "Epoch 98/100\n",
      "\u001B[1m379/379\u001B[0m \u001B[32m━━━━━━━━━━━━━━━━━━━━\u001B[0m\u001B[37m\u001B[0m \u001B[1m96s\u001B[0m 252ms/step - accuracy: 0.8457 - loss: 0.4708\n",
      "Epoch 99/100\n",
      "\u001B[1m379/379\u001B[0m \u001B[32m━━━━━━━━━━━━━━━━━━━━\u001B[0m\u001B[37m\u001B[0m \u001B[1m95s\u001B[0m 251ms/step - accuracy: 0.8461 - loss: 0.4575\n",
      "Epoch 100/100\n",
      "\u001B[1m379/379\u001B[0m \u001B[32m━━━━━━━━━━━━━━━━━━━━\u001B[0m\u001B[37m\u001B[0m \u001B[1m95s\u001B[0m 251ms/step - accuracy: 0.8474 - loss: 0.4310\n"
     ]
    }
   ],
   "execution_count": 20
  },
  {
   "metadata": {
    "ExecuteTime": {
     "end_time": "2025-05-25T18:26:24.810463Z",
     "start_time": "2025-05-25T18:26:24.156862Z"
    }
   },
   "cell_type": "code",
   "source": [
    "plt.gcf()\n",
    "plt.plot(range(100), couplet_history.history['loss'])\n",
    "plt.show()\n",
    "\n",
    "plt.gcf()\n",
    "plt.plot(range(100), couplet_history.history['accuracy'])\n",
    "plt.show()"
   ],
   "id": "95f789e4c2bc3b8b",
   "outputs": [
    {
     "data": {
      "text/plain": [
       "<Figure size 640x480 with 1 Axes>"
      ],
      "image/png": "[encoded data removed]"
     },
     "metadata": {},
     "output_type": "display_data"
    },
    {
     "data": {
      "text/plain": [
       "<Figure size 640x480 with 1 Axes>"
      ],
      "image/png": "[encoded data removed]"
     },
     "metadata": {},
     "output_type": "display_data"
    }
   ],
   "execution_count": 21
  },
  {
   "metadata": {
    "ExecuteTime": {
     "end_time": "2025-05-25T18:27:06.592800Z",
     "start_time": "2025-05-25T18:27:06.562098Z"
    }
   },
   "cell_type": "code",
   "source": [
    "couplet_lengths = []\n",
    "if \".DS_Store\" in couplets_songs:\n",
    "    couplets_songs.remove(\".DS_Store\")\n",
    "for file in couplets_songs:\n",
    "    couplets_word_counter = 0\n",
    "    with open(os.path.join(\"data/Verse\", file), 'r') as f:\n",
    "        for line in f.readlines():\n",
    "            couplets_word_counter += len(line.split())\n",
    "    couplet_lengths.append(couplets_word_counter)\n",
    "    couplets_word_counter = 0"
   ],
   "id": "3bed667cefc64012",
   "outputs": [],
   "execution_count": 22
  },
  {
   "metadata": {
    "ExecuteTime": {
     "end_time": "2025-05-25T18:27:10.077413Z",
     "start_time": "2025-05-25T18:27:10.071994Z"
    }
   },
   "cell_type": "code",
   "source": [
    "couplet_lengths = np.array(couplet_lengths)\n",
    "print(couplet_lengths)\n",
    "print(couplet_lengths.mean())"
   ],
   "id": "a6ed22e41d881f11",
   "outputs": [
    {
     "name": "stdout",
     "output_type": "stream",
     "text": [
      "[ 90  68 174 114  92  79 106  14  46  72 187  43  92 116  70  42  81  40\n",
      " 119  42  38  84  54  27  14 150  78  57  63  86  52 118  30   0  92  46\n",
      "   0  71  31  89 112 365 162  31  75 149  42 172  47 107 115 108  85  63\n",
      " 143  68  93  73 185  70  89  32 209  52 103 127 102 104 108  63 194 148\n",
      "  90  74 100  63  36  61 116  59  95  68 187  25  52  42  48  23 165  83\n",
      "  53  38  56 152  83 268  49  44 307  26 124 124  97  40  45  57  98 218\n",
      "  46  37 144 134  54 158  92  88 102 160  77 147  42  71  40  27 155  85\n",
      " 131  40 200  32  97  86  77  38 172 105  67 151  93  62  76 134  92 177\n",
      "  63 180  80 111 147  41  38  83  22  71]\n",
      "91.25974025974025\n"
     ]
    }
   ],
   "execution_count": 23
  },
  {
   "metadata": {
    "ExecuteTime": {
     "end_time": "2025-05-25T18:27:37.682175Z",
     "start_time": "2025-05-25T18:27:33.424487Z"
    }
   },
   "cell_type": "code",
   "source": [
    "couplet_seed = (\"\")\n",
    "for i in range(91):\n",
    "    tokenized_seed = couplet_tokenizer.texts_to_sequences([couplet_seed])[0]\n",
    "    padded_seed = tf.keras.preprocessing.sequence.pad_sequences([tokenized_seed], maxlen=couplet_maxlen-1, padding='pre')\n",
    "    probs = couplet_model.predict([padded_seed])\n",
    "\n",
    "    pred = np.argmax(probs)\n",
    "\n",
    "    next_word = couplet_tokenizer.index_word[pred]\n",
    "    couplet_seed+=\" \" + next_word\n",
    "\n",
    "print(couplet_seed)"
   ],
   "id": "85de61d040f09f2c",
   "outputs": [
    {
     "name": "stderr",
     "output_type": "stream",
     "text": [
      "/Users/romainlaup/Desktop/Perso/Projects/MJ-Generator/venv/lib/python3.9/site-packages/keras/src/models/functional.py:241: UserWarning: The structure of `inputs` doesn't match the expected structure.\n",
      "Expected: keras_tensor\n",
      "Received: inputs=('Tensor(shape=(1, 17))',)\n",
      "  warnings.warn(msg)\n"
     ]
    },
    {
     "name": "stdout",
     "output_type": "stream",
     "text": [
      "\u001B[1m1/1\u001B[0m \u001B[32m━━━━━━━━━━━━━━━━━━━━\u001B[0m\u001B[37m\u001B[0m \u001B[1m0s\u001B[0m 420ms/step\n",
      "\u001B[1m1/1\u001B[0m \u001B[32m━━━━━━━━━━━━━━━━━━━━\u001B[0m\u001B[37m\u001B[0m \u001B[1m0s\u001B[0m 21ms/step\n",
      "\u001B[1m1/1\u001B[0m \u001B[32m━━━━━━━━━━━━━━━━━━━━\u001B[0m\u001B[37m\u001B[0m \u001B[1m0s\u001B[0m 22ms/step\n",
      "\u001B[1m1/1\u001B[0m \u001B[32m━━━━━━━━━━━━━━━━━━━━\u001B[0m\u001B[37m\u001B[0m \u001B[1m0s\u001B[0m 22ms/step\n",
      "\u001B[1m1/1\u001B[0m \u001B[32m━━━━━━━━━━━━━━━━━━━━\u001B[0m\u001B[37m\u001B[0m \u001B[1m0s\u001B[0m 22ms/step\n",
      "\u001B[1m1/1\u001B[0m \u001B[32m━━━━━━━━━━━━━━━━━━━━\u001B[0m\u001B[37m\u001B[0m \u001B[1m0s\u001B[0m 19ms/step\n",
      "\u001B[1m1/1\u001B[0m \u001B[32m━━━━━━━━━━━━━━━━━━━━\u001B[0m\u001B[37m\u001B[0m \u001B[1m0s\u001B[0m 23ms/step\n",
      "\u001B[1m1/1\u001B[0m \u001B[32m━━━━━━━━━━━━━━━━━━━━\u001B[0m\u001B[37m\u001B[0m \u001B[1m0s\u001B[0m 24ms/step\n",
      "\u001B[1m1/1\u001B[0m \u001B[32m━━━━━━━━━━━━━━━━━━━━\u001B[0m\u001B[37m\u001B[0m \u001B[1m0s\u001B[0m 25ms/step\n",
      "\u001B[1m1/1\u001B[0m \u001B[32m━━━━━━━━━━━━━━━━━━━━\u001B[0m\u001B[37m\u001B[0m \u001B[1m0s\u001B[0m 23ms/step\n",
      "\u001B[1m1/1\u001B[0m \u001B[32m━━━━━━━━━━━━━━━━━━━━\u001B[0m\u001B[37m\u001B[0m \u001B[1m0s\u001B[0m 21ms/step\n",
      "\u001B[1m1/1\u001B[0m \u001B[32m━━━━━━━━━━━━━━━━━━━━\u001B[0m\u001B[37m\u001B[0m \u001B[1m0s\u001B[0m 21ms/step\n",
      "\u001B[1m1/1\u001B[0m \u001B[32m━━━━━━━━━━━━━━━━━━━━\u001B[0m\u001B[37m\u001B[0m \u001B[1m0s\u001B[0m 22ms/step\n",
      "\u001B[1m1/1\u001B[0m \u001B[32m━━━━━━━━━━━━━━━━━━━━\u001B[0m\u001B[37m\u001B[0m \u001B[1m0s\u001B[0m 22ms/step\n",
      "\u001B[1m1/1\u001B[0m \u001B[32m━━━━━━━━━━━━━━━━━━━━\u001B[0m\u001B[37m\u001B[0m \u001B[1m0s\u001B[0m 23ms/step\n",
      "\u001B[1m1/1\u001B[0m \u001B[32m━━━━━━━━━━━━━━━━━━━━\u001B[0m\u001B[37m\u001B[0m \u001B[1m0s\u001B[0m 23ms/step\n",
      "\u001B[1m1/1\u001B[0m \u001B[32m━━━━━━━━━━━━━━━━━━━━\u001B[0m\u001B[37m\u001B[0m \u001B[1m0s\u001B[0m 22ms/step\n",
      "\u001B[1m1/1\u001B[0m \u001B[32m━━━━━━━━━━━━━━━━━━━━\u001B[0m\u001B[37m\u001B[0m \u001B[1m0s\u001B[0m 24ms/step\n",
      "\u001B[1m1/1\u001B[0m \u001B[32m━━━━━━━━━━━━━━━━━━━━\u001B[0m\u001B[37m\u001B[0m \u001B[1m0s\u001B[0m 23ms/step\n",
      "\u001B[1m1/1\u001B[0m \u001B[32m━━━━━━━━━━━━━━━━━━━━\u001B[0m\u001B[37m\u001B[0m \u001B[1m0s\u001B[0m 20ms/step\n",
      "\u001B[1m1/1\u001B[0m \u001B[32m━━━━━━━━━━━━━━━━━━━━\u001B[0m\u001B[37m\u001B[0m \u001B[1m0s\u001B[0m 24ms/step\n",
      "\u001B[1m1/1\u001B[0m \u001B[32m━━━━━━━━━━━━━━━━━━━━\u001B[0m\u001B[37m\u001B[0m \u001B[1m0s\u001B[0m 23ms/step\n",
      "\u001B[1m1/1\u001B[0m \u001B[32m━━━━━━━━━━━━━━━━━━━━\u001B[0m\u001B[37m\u001B[0m \u001B[1m0s\u001B[0m 22ms/step\n",
      "\u001B[1m1/1\u001B[0m \u001B[32m━━━━━━━━━━━━━━━━━━━━\u001B[0m\u001B[37m\u001B[0m \u001B[1m0s\u001B[0m 22ms/step\n",
      "\u001B[1m1/1\u001B[0m \u001B[32m━━━━━━━━━━━━━━━━━━━━\u001B[0m\u001B[37m\u001B[0m \u001B[1m0s\u001B[0m 21ms/step\n",
      "\u001B[1m1/1\u001B[0m \u001B[32m━━━━━━━━━━━━━━━━━━━━\u001B[0m\u001B[37m\u001B[0m \u001B[1m0s\u001B[0m 22ms/step\n",
      "\u001B[1m1/1\u001B[0m \u001B[32m━━━━━━━━━━━━━━━━━━━━\u001B[0m\u001B[37m\u001B[0m \u001B[1m0s\u001B[0m 23ms/step\n",
      "\u001B[1m1/1\u001B[0m \u001B[32m━━━━━━━━━━━━━━━━━━━━\u001B[0m\u001B[37m\u001B[0m \u001B[1m0s\u001B[0m 23ms/step\n",
      "\u001B[1m1/1\u001B[0m \u001B[32m━━━━━━━━━━━━━━━━━━━━\u001B[0m\u001B[37m\u001B[0m \u001B[1m0s\u001B[0m 25ms/step\n",
      "\u001B[1m1/1\u001B[0m \u001B[32m━━━━━━━━━━━━━━━━━━━━\u001B[0m\u001B[37m\u001B[0m \u001B[1m0s\u001B[0m 24ms/step\n",
      "\u001B[1m1/1\u001B[0m \u001B[32m━━━━━━━━━━━━━━━━━━━━\u001B[0m\u001B[37m\u001B[0m \u001B[1m0s\u001B[0m 27ms/step\n",
      "\u001B[1m1/1\u001B[0m \u001B[32m━━━━━━━━━━━━━━━━━━━━\u001B[0m\u001B[37m\u001B[0m \u001B[1m0s\u001B[0m 27ms/step\n",
      "\u001B[1m1/1\u001B[0m \u001B[32m━━━━━━━━━━━━━━━━━━━━\u001B[0m\u001B[37m\u001B[0m \u001B[1m0s\u001B[0m 27ms/step\n",
      "\u001B[1m1/1\u001B[0m \u001B[32m━━━━━━━━━━━━━━━━━━━━\u001B[0m\u001B[37m\u001B[0m \u001B[1m0s\u001B[0m 28ms/step\n",
      "\u001B[1m1/1\u001B[0m \u001B[32m━━━━━━━━━━━━━━━━━━━━\u001B[0m\u001B[37m\u001B[0m \u001B[1m0s\u001B[0m 23ms/step\n",
      "\u001B[1m1/1\u001B[0m \u001B[32m━━━━━━━━━━━━━━━━━━━━\u001B[0m\u001B[37m\u001B[0m \u001B[1m0s\u001B[0m 24ms/step\n",
      "\u001B[1m1/1\u001B[0m \u001B[32m━━━━━━━━━━━━━━━━━━━━\u001B[0m\u001B[37m\u001B[0m \u001B[1m0s\u001B[0m 24ms/step\n",
      "\u001B[1m1/1\u001B[0m \u001B[32m━━━━━━━━━━━━━━━━━━━━\u001B[0m\u001B[37m\u001B[0m \u001B[1m0s\u001B[0m 25ms/step\n",
      "\u001B[1m1/1\u001B[0m \u001B[32m━━━━━━━━━━━━━━━━━━━━\u001B[0m\u001B[37m\u001B[0m \u001B[1m0s\u001B[0m 24ms/step\n",
      "\u001B[1m1/1\u001B[0m \u001B[32m━━━━━━━━━━━━━━━━━━━━\u001B[0m\u001B[37m\u001B[0m \u001B[1m0s\u001B[0m 25ms/step\n",
      "\u001B[1m1/1\u001B[0m \u001B[32m━━━━━━━━━━━━━━━━━━━━\u001B[0m\u001B[37m\u001B[0m \u001B[1m0s\u001B[0m 26ms/step\n",
      "\u001B[1m1/1\u001B[0m \u001B[32m━━━━━━━━━━━━━━━━━━━━\u001B[0m\u001B[37m\u001B[0m \u001B[1m0s\u001B[0m 29ms/step\n",
      "\u001B[1m1/1\u001B[0m \u001B[32m━━━━━━━━━━━━━━━━━━━━\u001B[0m\u001B[37m\u001B[0m \u001B[1m0s\u001B[0m 29ms/step\n",
      "\u001B[1m1/1\u001B[0m \u001B[32m━━━━━━━━━━━━━━━━━━━━\u001B[0m\u001B[37m\u001B[0m \u001B[1m0s\u001B[0m 26ms/step\n",
      "\u001B[1m1/1\u001B[0m \u001B[32m━━━━━━━━━━━━━━━━━━━━\u001B[0m\u001B[37m\u001B[0m \u001B[1m0s\u001B[0m 25ms/step\n",
      "\u001B[1m1/1\u001B[0m \u001B[32m━━━━━━━━━━━━━━━━━━━━\u001B[0m\u001B[37m\u001B[0m \u001B[1m0s\u001B[0m 26ms/step\n",
      "\u001B[1m1/1\u001B[0m \u001B[32m━━━━━━━━━━━━━━━━━━━━\u001B[0m\u001B[37m\u001B[0m \u001B[1m0s\u001B[0m 25ms/step\n",
      "\u001B[1m1/1\u001B[0m \u001B[32m━━━━━━━━━━━━━━━━━━━━\u001B[0m\u001B[37m\u001B[0m \u001B[1m0s\u001B[0m 25ms/step\n",
      "\u001B[1m1/1\u001B[0m \u001B[32m━━━━━━━━━━━━━━━━━━━━\u001B[0m\u001B[37m\u001B[0m \u001B[1m0s\u001B[0m 24ms/step\n",
      "\u001B[1m1/1\u001B[0m \u001B[32m━━━━━━━━━━━━━━━━━━━━\u001B[0m\u001B[37m\u001B[0m \u001B[1m0s\u001B[0m 26ms/step\n",
      "\u001B[1m1/1\u001B[0m \u001B[32m━━━━━━━━━━━━━━━━━━━━\u001B[0m\u001B[37m\u001B[0m \u001B[1m0s\u001B[0m 25ms/step\n",
      "\u001B[1m1/1\u001B[0m \u001B[32m━━━━━━━━━━━━━━━━━━━━\u001B[0m\u001B[37m\u001B[0m \u001B[1m0s\u001B[0m 23ms/step\n",
      "\u001B[1m1/1\u001B[0m \u001B[32m━━━━━━━━━━━━━━━━━━━━\u001B[0m\u001B[37m\u001B[0m \u001B[1m0s\u001B[0m 24ms/step\n",
      "\u001B[1m1/1\u001B[0m \u001B[32m━━━━━━━━━━━━━━━━━━━━\u001B[0m\u001B[37m\u001B[0m \u001B[1m0s\u001B[0m 24ms/step\n",
      "\u001B[1m1/1\u001B[0m \u001B[32m━━━━━━━━━━━━━━━━━━━━\u001B[0m\u001B[37m\u001B[0m \u001B[1m0s\u001B[0m 24ms/step\n",
      "\u001B[1m1/1\u001B[0m \u001B[32m━━━━━━━━━━━━━━━━━━━━\u001B[0m\u001B[37m\u001B[0m \u001B[1m0s\u001B[0m 24ms/step\n",
      "\u001B[1m1/1\u001B[0m \u001B[32m━━━━━━━━━━━━━━━━━━━━\u001B[0m\u001B[37m\u001B[0m \u001B[1m0s\u001B[0m 23ms/step\n",
      "\u001B[1m1/1\u001B[0m \u001B[32m━━━━━━━━━━━━━━━━━━━━\u001B[0m\u001B[37m\u001B[0m \u001B[1m0s\u001B[0m 25ms/step\n",
      "\u001B[1m1/1\u001B[0m \u001B[32m━━━━━━━━━━━━━━━━━━━━\u001B[0m\u001B[37m\u001B[0m \u001B[1m0s\u001B[0m 24ms/step\n",
      "\u001B[1m1/1\u001B[0m \u001B[32m━━━━━━━━━━━━━━━━━━━━\u001B[0m\u001B[37m\u001B[0m \u001B[1m0s\u001B[0m 24ms/step\n",
      "\u001B[1m1/1\u001B[0m \u001B[32m━━━━━━━━━━━━━━━━━━━━\u001B[0m\u001B[37m\u001B[0m \u001B[1m0s\u001B[0m 24ms/step\n",
      "\u001B[1m1/1\u001B[0m \u001B[32m━━━━━━━━━━━━━━━━━━━━\u001B[0m\u001B[37m\u001B[0m \u001B[1m0s\u001B[0m 24ms/step\n",
      "\u001B[1m1/1\u001B[0m \u001B[32m━━━━━━━━━━━━━━━━━━━━\u001B[0m\u001B[37m\u001B[0m \u001B[1m0s\u001B[0m 24ms/step\n",
      "\u001B[1m1/1\u001B[0m \u001B[32m━━━━━━━━━━━━━━━━━━━━\u001B[0m\u001B[37m\u001B[0m \u001B[1m0s\u001B[0m 24ms/step\n",
      "\u001B[1m1/1\u001B[0m \u001B[32m━━━━━━━━━━━━━━━━━━━━\u001B[0m\u001B[37m\u001B[0m \u001B[1m0s\u001B[0m 23ms/step\n",
      "\u001B[1m1/1\u001B[0m \u001B[32m━━━━━━━━━━━━━━━━━━━━\u001B[0m\u001B[37m\u001B[0m \u001B[1m0s\u001B[0m 24ms/step\n",
      "\u001B[1m1/1\u001B[0m \u001B[32m━━━━━━━━━━━━━━━━━━━━\u001B[0m\u001B[37m\u001B[0m \u001B[1m0s\u001B[0m 24ms/step\n",
      "\u001B[1m1/1\u001B[0m \u001B[32m━━━━━━━━━━━━━━━━━━━━\u001B[0m\u001B[37m\u001B[0m \u001B[1m0s\u001B[0m 25ms/step\n",
      "\u001B[1m1/1\u001B[0m \u001B[32m━━━━━━━━━━━━━━━━━━━━\u001B[0m\u001B[37m\u001B[0m \u001B[1m0s\u001B[0m 29ms/step\n",
      "\u001B[1m1/1\u001B[0m \u001B[32m━━━━━━━━━━━━━━━━━━━━\u001B[0m\u001B[37m\u001B[0m \u001B[1m0s\u001B[0m 28ms/step\n",
      "\u001B[1m1/1\u001B[0m \u001B[32m━━━━━━━━━━━━━━━━━━━━\u001B[0m\u001B[37m\u001B[0m \u001B[1m0s\u001B[0m 28ms/step\n",
      "\u001B[1m1/1\u001B[0m \u001B[32m━━━━━━━━━━━━━━━━━━━━\u001B[0m\u001B[37m\u001B[0m \u001B[1m0s\u001B[0m 31ms/step\n",
      "\u001B[1m1/1\u001B[0m \u001B[32m━━━━━━━━━━━━━━━━━━━━\u001B[0m\u001B[37m\u001B[0m \u001B[1m0s\u001B[0m 24ms/step\n",
      "\u001B[1m1/1\u001B[0m \u001B[32m━━━━━━━━━━━━━━━━━━━━\u001B[0m\u001B[37m\u001B[0m \u001B[1m0s\u001B[0m 23ms/step\n",
      "\u001B[1m1/1\u001B[0m \u001B[32m━━━━━━━━━━━━━━━━━━━━\u001B[0m\u001B[37m\u001B[0m \u001B[1m0s\u001B[0m 24ms/step\n",
      "\u001B[1m1/1\u001B[0m \u001B[32m━━━━━━━━━━━━━━━━━━━━\u001B[0m\u001B[37m\u001B[0m \u001B[1m0s\u001B[0m 24ms/step\n",
      "\u001B[1m1/1\u001B[0m \u001B[32m━━━━━━━━━━━━━━━━━━━━\u001B[0m\u001B[37m\u001B[0m \u001B[1m0s\u001B[0m 23ms/step\n",
      "\u001B[1m1/1\u001B[0m \u001B[32m━━━━━━━━━━━━━━━━━━━━\u001B[0m\u001B[37m\u001B[0m \u001B[1m0s\u001B[0m 23ms/step\n",
      "\u001B[1m1/1\u001B[0m \u001B[32m━━━━━━━━━━━━━━━━━━━━\u001B[0m\u001B[37m\u001B[0m \u001B[1m0s\u001B[0m 23ms/step\n",
      "\u001B[1m1/1\u001B[0m \u001B[32m━━━━━━━━━━━━━━━━━━━━\u001B[0m\u001B[37m\u001B[0m \u001B[1m0s\u001B[0m 23ms/step\n",
      "\u001B[1m1/1\u001B[0m \u001B[32m━━━━━━━━━━━━━━━━━━━━\u001B[0m\u001B[37m\u001B[0m \u001B[1m0s\u001B[0m 22ms/step\n",
      "\u001B[1m1/1\u001B[0m \u001B[32m━━━━━━━━━━━━━━━━━━━━\u001B[0m\u001B[37m\u001B[0m \u001B[1m0s\u001B[0m 22ms/step\n",
      "\u001B[1m1/1\u001B[0m \u001B[32m━━━━━━━━━━━━━━━━━━━━\u001B[0m\u001B[37m\u001B[0m \u001B[1m0s\u001B[0m 23ms/step\n",
      "\u001B[1m1/1\u001B[0m \u001B[32m━━━━━━━━━━━━━━━━━━━━\u001B[0m\u001B[37m\u001B[0m \u001B[1m0s\u001B[0m 22ms/step\n",
      "\u001B[1m1/1\u001B[0m \u001B[32m━━━━━━━━━━━━━━━━━━━━\u001B[0m\u001B[37m\u001B[0m \u001B[1m0s\u001B[0m 24ms/step\n",
      "\u001B[1m1/1\u001B[0m \u001B[32m━━━━━━━━━━━━━━━━━━━━\u001B[0m\u001B[37m\u001B[0m \u001B[1m0s\u001B[0m 23ms/step\n",
      "\u001B[1m1/1\u001B[0m \u001B[32m━━━━━━━━━━━━━━━━━━━━\u001B[0m\u001B[37m\u001B[0m \u001B[1m0s\u001B[0m 24ms/step\n",
      "\u001B[1m1/1\u001B[0m \u001B[32m━━━━━━━━━━━━━━━━━━━━\u001B[0m\u001B[37m\u001B[0m \u001B[1m0s\u001B[0m 24ms/step\n",
      "\u001B[1m1/1\u001B[0m \u001B[32m━━━━━━━━━━━━━━━━━━━━\u001B[0m\u001B[37m\u001B[0m \u001B[1m0s\u001B[0m 23ms/step\n",
      "\u001B[1m1/1\u001B[0m \u001B[32m━━━━━━━━━━━━━━━━━━━━\u001B[0m\u001B[37m\u001B[0m \u001B[1m0s\u001B[0m 23ms/step\n",
      "\u001B[1m1/1\u001B[0m \u001B[32m━━━━━━━━━━━━━━━━━━━━\u001B[0m\u001B[37m\u001B[0m \u001B[1m0s\u001B[0m 24ms/step\n",
      " little swallow every chick-a-dee she don't understand weed on 'em you're loud on my side hold on fire and tonight it be there baby be there and age only the tease and there are work it was the truth hold on top of flame by disguise and one it so let me be by the started fighting eat scream and again ah again and again and never read the wind theme huh huh huh passé more passé passé passé passé passé passé passé passé passé passé passé passé dancer scream for\n"
     ]
    }
   ],
   "execution_count": 24
  },
  {
   "metadata": {},
   "cell_type": "markdown",
   "source": "# Refrain",
   "id": "cb174a2d34c41c80"
  },
  {
   "metadata": {},
   "cell_type": "code",
   "source": [
    "refrains_songs = os.listdir('Or Noir/Refrains')\n",
    "refrains_lyrics = []\n",
    "\n",
    "files = [os.path.join(\"Or Noir/Refrains\", song) for song in refrains_songs]\n",
    "for file in files:\n",
    "    with open(file, 'r') as f:\n",
    "        for line in f.readlines():\n",
    "            if len(line) > 0:\n",
    "                refrains_lyrics.append(\" \".join(line.split()))"
   ],
   "id": "8a75b6ca26fe5ce5",
   "outputs": [],
   "execution_count": null
  },
  {
   "metadata": {},
   "cell_type": "code",
   "source": "print(refrains_lyrics)",
   "id": "826826de9299ee05",
   "outputs": [],
   "execution_count": null
  },
  {
   "metadata": {},
   "cell_type": "code",
   "source": [
    "refrain_lens = [len(line.split()) for line in refrains_lyrics]\n",
    "refrain_lens.sort()\n",
    "print(refrain_lens[0], refrain_lens[-1])"
   ],
   "id": "59d2b4fd3b90cf4b",
   "outputs": [],
   "execution_count": null
  },
  {
   "metadata": {},
   "cell_type": "code",
   "source": [
    "refrain_maxlen = max(refrain_lens)\n",
    "padding_type = \"pre\""
   ],
   "id": "96d10e2ff48647a6",
   "outputs": [],
   "execution_count": null
  },
  {
   "metadata": {},
   "cell_type": "code",
   "source": [
    "refrain_tokenizer = Tokenizer(oov_token=\"<OOV>\", filters='\"#$%&()*+,/:;<=>?@[\\\\]^_`{|}~\\t\\n')\n",
    "\n",
    "refrain_tokenizer.fit_on_texts(refrains_lyrics)\n",
    "refrain_word_index = refrain_tokenizer.word_index\n",
    "print(refrain_word_index)\n",
    "refrain_input_sequences = []\n",
    "\n",
    "for line in couplets_lyrics:\n",
    "    tokenized_line = refrain_tokenizer.texts_to_sequences([line])[0]\n",
    "\n",
    "    for token in range(1, len(tokenized_line)):\n",
    "        n_gram_sequence = tokenized_line[:token+1]\n",
    "\n",
    "        refrain_input_sequences.append(n_gram_sequence)\n",
    "\n",
    "maxlen = max([len(x) for x in refrain_input_sequences])\n",
    "\n",
    "padded_sequences = tf.keras.preprocessing.sequence.pad_sequences(refrain_input_sequences, maxlen=maxlen, padding='pre')\n",
    "\n",
    "refrain_xs, refrain_ys = padded_sequences[:,:-1], tf.keras.utils.to_categorical(padded_sequences[:,-1], num_classes=len(refrain_word_index) + 1)"
   ],
   "id": "c2c2065be0854cf5",
   "outputs": [],
   "execution_count": null
  },
  {
   "metadata": {},
   "cell_type": "code",
   "source": [
    "refrain_inputs = tf.keras.layers.Input(shape=(refrain_xs.shape[1],))\n",
    "\n",
    "refrain_x = tf.keras.layers.Embedding(input_dim=len(refrain_word_index) + 1, output_dim=128)(refrain_inputs)\n",
    "\n",
    "refrain_x = tf.keras.layers.Bidirectional(tf.keras.layers.LSTM(128, return_sequences=True))(refrain_x)\n",
    "refrain_x = tf.keras.layers.Bidirectional(tf.keras.layers.LSTM(128, return_sequences=True))(refrain_x)\n",
    "refrain_x = tf.keras.layers.Bidirectional(tf.keras.layers.LSTM(128))(refrain_x)\n",
    "refrain_outputs = tf.keras.layers.Dense(len(refrain_word_index) + 1, activation='softmax')(refrain_x)\n",
    "\n",
    "\n",
    "refrain_model = tf.keras.models.Model(inputs=refrain_inputs, outputs=refrain_outputs)\n",
    "refrain_model.summary()"
   ],
   "id": "2f059b96adf1da9f",
   "outputs": [],
   "execution_count": null
  },
  {
   "metadata": {},
   "cell_type": "code",
   "source": [
    "epochs = 100\n",
    "refrain_loss = tf.keras.losses.CategoricalCrossentropy()\n",
    "refrain_optimizer = tf.keras.optimizers.Adam()\n",
    "\n",
    "refrain_model.compile(loss=refrain_loss, optimizer=refrain_optimizer, metrics=['accuracy'])"
   ],
   "id": "86960e494d420d16",
   "outputs": [],
   "execution_count": null
  },
  {
   "metadata": {},
   "cell_type": "code",
   "source": "print(refrain_xs.shape)",
   "id": "1ddfc5ef797e6f40",
   "outputs": [],
   "execution_count": null
  },
  {
   "metadata": {},
   "cell_type": "code",
   "source": "refrain_history = refrain_model.fit(refrain_xs, refrain_ys, epochs=epochs)",
   "id": "c0167af8763ec22c",
   "outputs": [],
   "execution_count": null
  },
  {
   "metadata": {},
   "cell_type": "code",
   "source": [
    "plt.gcf()\n",
    "plt.plot(range(100), refrain_history.history['loss'])\n",
    "plt.show()\n",
    "\n",
    "plt.gcf()\n",
    "plt.plot(range(100), refrain_history.history['accuracy'])\n",
    "plt.show()"
   ],
   "id": "104181491a112436",
   "outputs": [],
   "execution_count": null
  },
  {
   "metadata": {},
   "cell_type": "code",
   "source": [
    "refrain_lengths = []\n",
    "\n",
    "for file in refrains_songs:\n",
    "    refrain_word_counter = 0\n",
    "    with open(os.path.join(\"Or Noir/Refrains\", file), 'r') as f:\n",
    "        for line in f.readlines():\n",
    "            refrain_word_counter += len(line.split())\n",
    "    refrain_lengths.append(refrain_word_counter)\n",
    "    refrain_word_counter = 0"
   ],
   "id": "be4236bd7d1414e5",
   "outputs": [],
   "execution_count": null
  },
  {
   "metadata": {},
   "cell_type": "code",
   "source": [
    "refrain_lengths = np.array(refrain_lengths)\n",
    "print(refrain_lengths)\n",
    "print(refrain_lengths.mean())"
   ],
   "id": "89cf57c19829c863",
   "outputs": [],
   "execution_count": null
  },
  {
   "metadata": {},
   "cell_type": "code",
   "source": [
    "refrain_seed = (\"\")\n",
    "for i in range(80):\n",
    "    tokenized_seed = refrain_tokenizer.texts_to_sequences([refrain_seed])[0]\n",
    "    padded_seed = tf.keras.preprocessing.sequence.pad_sequences([tokenized_seed], maxlen=refrain_maxlen-1, padding='pre')\n",
    "    probs = refrain_model.predict([padded_seed])\n",
    "\n",
    "    pred = np.argmax(probs)\n",
    "\n",
    "    next_word = refrain_tokenizer.index_word[pred]\n",
    "    refrain_seed+=\" \" + next_word\n",
    "\n",
    "print(refrain_seed)"
   ],
   "id": "7457e9ac71310b66",
   "outputs": [],
   "execution_count": null
  },
  {
   "metadata": {},
   "cell_type": "code",
   "source": "",
   "id": "6e9450e3faf2f871",
   "outputs": [],
   "execution_count": null
  }
 ],
 "metadata": {
  "kernelspec": {
   "display_name": "Python 3",
   "language": "python",
   "name": "python3"
  },
  "language_info": {
   "codemirror_mode": {
    "name": "ipython",
    "version": 2
   },
   "file_extension": ".py",
   "mimetype": "text/x-python",
   "name": "python",
   "nbconvert_exporter": "python",
   "pygments_lexer": "ipython2",
   "version": "2.7.6"
  }
 },
 "nbformat": 4,
 "nbformat_minor": 5
}
