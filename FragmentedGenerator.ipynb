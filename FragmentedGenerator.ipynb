{
 "cells": [
  {
   "cell_type": "code",
   "id": "initial_id",
   "metadata": {
    "collapsed": true
   },
   "source": [
    "import os\n",
    "import numpy as np\n",
    "import tensorflow as tf\n",
    "from tensorflow.keras.preprocessing.text import Tokenizer\n",
    "from tensorflow.keras.callbacks import Callback\n",
    "import matplotlib.pyplot as plt\n",
    "from IPython.core.display_functions import clear_output"
   ],
   "outputs": [],
   "execution_count": null
  },
  {
   "metadata": {},
   "cell_type": "markdown",
   "source": "# Intros",
   "id": "76f94fa9419f6419"
  },
  {
   "metadata": {},
   "cell_type": "code",
   "source": "",
   "id": "f63853d2af60d035",
   "outputs": [],
   "execution_count": null
  },
  {
   "metadata": {},
   "cell_type": "code",
   "source": "",
   "id": "a200563d0478c94c",
   "outputs": [],
   "execution_count": null
  },
  {
   "metadata": {},
   "cell_type": "code",
   "source": "",
   "id": "e2ce9d2cd66efc04",
   "outputs": [],
   "execution_count": null
  },
  {
   "metadata": {},
   "cell_type": "code",
   "source": "",
   "id": "7916655951f022fd",
   "outputs": [],
   "execution_count": null
  },
  {
   "metadata": {},
   "cell_type": "code",
   "source": "",
   "id": "9ecf18ae3c646e76",
   "outputs": [],
   "execution_count": null
  },
  {
   "metadata": {},
   "cell_type": "code",
   "source": "",
   "id": "35bb080a098bb25",
   "outputs": [],
   "execution_count": null
  },
  {
   "metadata": {},
   "cell_type": "code",
   "source": "",
   "id": "74dcf5afd6be0e4c",
   "outputs": [],
   "execution_count": null
  },
  {
   "metadata": {},
   "cell_type": "code",
   "source": "",
   "id": "c7c1522b017ed3c9",
   "outputs": [],
   "execution_count": null
  },
  {
   "metadata": {},
   "cell_type": "code",
   "source": "",
   "id": "79720eab1b7c4cd1",
   "outputs": [],
   "execution_count": null
  },
  {
   "metadata": {},
   "cell_type": "code",
   "source": "",
   "id": "bdf70227cfcbe03e",
   "outputs": [],
   "execution_count": null
  },
  {
   "metadata": {},
   "cell_type": "code",
   "source": "",
   "id": "f64631547668d492",
   "outputs": [],
   "execution_count": null
  },
  {
   "metadata": {},
   "cell_type": "code",
   "source": "",
   "id": "30b5e4fe7a194ca0",
   "outputs": [],
   "execution_count": null
  },
  {
   "metadata": {},
   "cell_type": "code",
   "source": "",
   "id": "dfaff0be96b17cfc",
   "outputs": [],
   "execution_count": null
  },
  {
   "metadata": {},
   "cell_type": "markdown",
   "source": "# Couplets",
   "id": "148ee264f074b1ad"
  },
  {
   "metadata": {},
   "cell_type": "code",
   "source": [
    "couplets_songs = os.listdir('data/Verse')\n",
    "couplets_lyrics = []\n",
    "\n",
    "couplets_files = [os.path.join(\"data/Verse\", song) for song in couplets_songs]\n",
    "\n",
    "if \"data/Verse/.DS_Store\" in couplets_files:\n",
    "    couplets_files.remove(\"data/Verse/.DS_Store\")\n",
    "for file in couplets_files:\n",
    "    with open(file, 'r') as f:\n",
    "        for line in f.readlines():\n",
    "            if len(\" \".join(line.split())) > 0:\n",
    "                couplets_lyrics.append(\" \".join(line.split()))"
   ],
   "id": "29ec33bf9e52bec0",
   "outputs": [],
   "execution_count": null
  },
  {
   "metadata": {},
   "cell_type": "code",
   "source": "print(couplets_lyrics)",
   "id": "fc8173b0f33beb14",
   "outputs": [],
   "execution_count": null
  },
  {
   "metadata": {},
   "cell_type": "code",
   "source": [
    "couplets_lens = [len(line.split()) for line in couplets_lyrics]\n",
    "couplets_lens.sort()\n",
    "print(couplets_lens[0], couplets_lens[-1])"
   ],
   "id": "fabe51c8d7bc9bec",
   "outputs": [],
   "execution_count": null
  },
  {
   "metadata": {},
   "cell_type": "code",
   "source": [
    "while '' in couplets_lyrics:\n",
    "    couplets_lyrics.remove('')"
   ],
   "id": "75dbd1d680a79bfe",
   "outputs": [],
   "execution_count": null
  },
  {
   "metadata": {},
   "cell_type": "code",
   "source": [
    "couplets_lens = [len(line.split()) for line in couplets_lyrics]\n",
    "couplets_lens.sort()\n",
    "print(couplets_lens[0], couplets_lens[-1])"
   ],
   "id": "1046143a24883d6b",
   "outputs": [],
   "execution_count": null
  },
  {
   "metadata": {},
   "cell_type": "code",
   "source": [
    "for line in couplets_lyrics:\n",
    "    if len(line.split()) == 1:\n",
    "        print(f\"Line: {line}\")"
   ],
   "id": "443766966f250135",
   "outputs": [],
   "execution_count": null
  },
  {
   "metadata": {},
   "cell_type": "code",
   "source": [
    "couplets_maxlen = max(couplets_lens)\n",
    "padding_type = \"pre\""
   ],
   "id": "54bb517981768607",
   "outputs": [],
   "execution_count": null
  },
  {
   "metadata": {},
   "cell_type": "code",
   "source": [
    "couplet_tokenizer = Tokenizer(oov_token=\"<OOV>\", filters='\"#$%&()*+,/:;<=>?@[\\\\]^_`{|}~\\t\\n')\n",
    "\n",
    "couplet_tokenizer.fit_on_texts(couplets_lyrics)\n",
    "couplet_word_index = couplet_tokenizer.word_index\n",
    "print(couplet_word_index)\n",
    "couplet_input_sequences = []\n",
    "\n",
    "for line in couplets_lyrics:\n",
    "    tokenized_line = couplet_tokenizer.texts_to_sequences([line])[0]\n",
    "\n",
    "    for token in range(1, len(tokenized_line)):\n",
    "        n_gram_sequence = tokenized_line[:token+1]\n",
    "\n",
    "        couplet_input_sequences.append(n_gram_sequence)\n",
    "\n",
    "couplet_maxlen = max([len(x) for x in couplet_input_sequences])\n",
    "\n",
    "padded_sequences = tf.keras.preprocessing.sequence.pad_sequences(couplet_input_sequences, maxlen=couplet_maxlen, padding='pre')\n",
    "\n",
    "couplet_xs, couplet_ys = padded_sequences[:,:-1], tf.keras.utils.to_categorical(padded_sequences[:,-1], num_classes=len(couplet_word_index) + 1)"
   ],
   "id": "3888ec6bc4e25827",
   "outputs": [],
   "execution_count": null
  },
  {
   "metadata": {},
   "cell_type": "code",
   "source": [
    "couplet_inputs = tf.keras.layers.Input(shape=(couplet_xs.shape[1],))\n",
    "\n",
    "couplet_x = tf.keras.layers.Embedding(input_dim=len(couplet_word_index) + 1, output_dim=256)(couplet_inputs)\n",
    "\n",
    "couplet_x = tf.keras.layers.Bidirectional(tf.keras.layers.LSTM(256, return_sequences=True))(couplet_x)\n",
    "couplet_x = tf.keras.layers.Bidirectional(tf.keras.layers.LSTM(256, return_sequences=True))(couplet_x)\n",
    "couplet_x = tf.keras.layers.Bidirectional(tf.keras.layers.LSTM(256))(couplet_x)\n",
    "couplet_outputs = tf.keras.layers.Dense(len(couplet_word_index) + 1, activation='softmax')(couplet_x)\n",
    "\n",
    "\n",
    "couplet_model = tf.keras.models.Model(inputs=couplet_inputs, outputs=couplet_outputs)\n",
    "couplet_model.summary()"
   ],
   "id": "b8fb55f36f3e4bf8",
   "outputs": [],
   "execution_count": null
  },
  {
   "metadata": {},
   "cell_type": "code",
   "source": [
    "epochs = 100\n",
    "couplet_loss = tf.keras.losses.CategoricalCrossentropy()\n",
    "couplet_optimizer = tf.keras.optimizers.Adam()\n",
    "\n",
    "couplet_model.compile(loss=couplet_loss, optimizer=couplet_optimizer, metrics=['accuracy'])"
   ],
   "id": "9fbf6e9246aeeb4e",
   "outputs": [],
   "execution_count": null
  },
  {
   "metadata": {},
   "cell_type": "markdown",
   "source": "",
   "id": "9e51821b3f384792"
  },
  {
   "metadata": {},
   "cell_type": "code",
   "source": "print(couplet_xs.shape)",
   "id": "f6345e56d78466a7",
   "outputs": [],
   "execution_count": null
  },
  {
   "metadata": {},
   "cell_type": "code",
   "source": "couplet_history = couplet_model.fit(couplet_xs, couplet_ys, epochs=epochs)",
   "id": "e8e0675e4fd32351",
   "outputs": [],
   "execution_count": null
  },
  {
   "metadata": {},
   "cell_type": "code",
   "source": [
    "plt.gcf()\n",
    "plt.plot(range(100), couplet_history.history['loss'])\n",
    "plt.show()\n",
    "\n",
    "plt.gcf()\n",
    "plt.plot(range(100), couplet_history.history['accuracy'])\n",
    "plt.show()"
   ],
   "id": "95f789e4c2bc3b8b",
   "outputs": [],
   "execution_count": null
  },
  {
   "metadata": {},
   "cell_type": "code",
   "source": [
    "couplet_lengths = []\n",
    "if \".DS_Store\" in couplets_songs:\n",
    "    couplets_songs.remove(\".DS_Store\")\n",
    "for file in couplets_songs:\n",
    "    couplets_word_counter = 0\n",
    "    with open(os.path.join(\"data/Verse\", file), 'r') as f:\n",
    "        for line in f.readlines():\n",
    "            couplets_word_counter += len(line.split())\n",
    "    couplet_lengths.append(couplets_word_counter)\n",
    "    couplets_word_counter = 0"
   ],
   "id": "3bed667cefc64012",
   "outputs": [],
   "execution_count": null
  },
  {
   "metadata": {},
   "cell_type": "code",
   "source": [
    "couplet_lengths = np.array(couplet_lengths)\n",
    "print(couplet_lengths)\n",
    "print(couplet_lengths.mean())"
   ],
   "id": "a6ed22e41d881f11",
   "outputs": [],
   "execution_count": null
  },
  {
   "metadata": {},
   "cell_type": "code",
   "source": [
    "couplet_seed = (\"\")\n",
    "for i in range(91):\n",
    "    tokenized_seed = couplet_tokenizer.texts_to_sequences([couplet_seed])[0]\n",
    "    padded_seed = tf.keras.preprocessing.sequence.pad_sequences([tokenized_seed], maxlen=couplet_maxlen-1, padding='pre')\n",
    "    probs = couplet_model.predict([padded_seed])\n",
    "\n",
    "    pred = np.argmax(probs)\n",
    "\n",
    "    next_word = couplet_tokenizer.index_word[pred]\n",
    "    couplet_seed+=\" \" + next_word\n",
    "\n",
    "print(couplet_seed)"
   ],
   "id": "85de61d040f09f2c",
   "outputs": [],
   "execution_count": null
  },
  {
   "metadata": {},
   "cell_type": "markdown",
   "source": "# Refrain",
   "id": "cb174a2d34c41c80"
  },
  {
   "metadata": {},
   "cell_type": "code",
   "source": "",
   "id": "8a75b6ca26fe5ce5",
   "outputs": [],
   "execution_count": null
  },
  {
   "metadata": {},
   "cell_type": "code",
   "source": "",
   "id": "826826de9299ee05",
   "outputs": [],
   "execution_count": null
  },
  {
   "metadata": {},
   "cell_type": "code",
   "source": "",
   "id": "59d2b4fd3b90cf4b",
   "outputs": [],
   "execution_count": null
  },
  {
   "metadata": {},
   "cell_type": "code",
   "source": "",
   "id": "96d10e2ff48647a6",
   "outputs": [],
   "execution_count": null
  },
  {
   "metadata": {},
   "cell_type": "code",
   "source": "",
   "id": "c2c2065be0854cf5",
   "outputs": [],
   "execution_count": null
  },
  {
   "metadata": {},
   "cell_type": "code",
   "source": "",
   "id": "2f059b96adf1da9f",
   "outputs": [],
   "execution_count": null
  },
  {
   "metadata": {},
   "cell_type": "code",
   "source": "",
   "id": "86960e494d420d16",
   "outputs": [],
   "execution_count": null
  },
  {
   "metadata": {},
   "cell_type": "code",
   "source": "",
   "id": "1ddfc5ef797e6f40",
   "outputs": [],
   "execution_count": null
  },
  {
   "metadata": {},
   "cell_type": "code",
   "source": "",
   "id": "c0167af8763ec22c",
   "outputs": [],
   "execution_count": null
  },
  {
   "metadata": {},
   "cell_type": "code",
   "source": "",
   "id": "104181491a112436",
   "outputs": [],
   "execution_count": null
  },
  {
   "metadata": {},
   "cell_type": "code",
   "source": "",
   "id": "be4236bd7d1414e5",
   "outputs": [],
   "execution_count": null
  },
  {
   "metadata": {},
   "cell_type": "code",
   "source": "",
   "id": "89cf57c19829c863",
   "outputs": [],
   "execution_count": null
  },
  {
   "metadata": {},
   "cell_type": "code",
   "source": "",
   "id": "7457e9ac71310b66",
   "outputs": [],
   "execution_count": null
  },
  {
   "metadata": {},
   "cell_type": "code",
   "source": "",
   "id": "6e9450e3faf2f871",
   "outputs": [],
   "execution_count": null
  }
 ],
 "metadata": {
  "kernelspec": {
   "display_name": "Python 3",
   "language": "python",
   "name": "python3"
  },
  "language_info": {
   "codemirror_mode": {
    "name": "ipython",
    "version": 2
   },
   "file_extension": ".py",
   "mimetype": "text/x-python",
   "name": "python",
   "nbconvert_exporter": "python",
   "pygments_lexer": "ipython2",
   "version": "2.7.6"
  }
 },
 "nbformat": 4,
 "nbformat_minor": 5
}
